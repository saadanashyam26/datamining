{
 "cells": [
  {
   "cell_type": "markdown",
   "id": "56e8d118",
   "metadata": {
    "id": "56e8d118"
   },
   "source": [
    "### Assignment 3 - Logistic Regression"
   ]
  },
  {
   "cell_type": "code",
   "execution_count": 1,
   "id": "0dae75b9",
   "metadata": {
    "id": "0dae75b9"
   },
   "outputs": [],
   "source": [
    "# This code appears in every demonstration Notebook.\n",
    "# By default, when you run each cell, only the last output of the codes will show.\n",
    "# This code makes all outputs of a cell show.\n",
    "from IPython.core.interactiveshell import InteractiveShell\n",
    "InteractiveShell.ast_node_interactivity = \"all\""
   ]
  },
  {
   "cell_type": "markdown",
   "id": "c30544a1",
   "metadata": {
    "id": "c30544a1"
   },
   "source": [
    "In this assignment, we will build logistic regression models to detect accounting fraud using financial statement features. <br>\n",
    "The data was collected by Bao et al. (2020) based on the detected material accounting misstatements disclosed in the SEC’s Accounting and Auditing Enforcement Releases (AAERs). <br>\n",
    "The dataset covers all publicly listed U.S. firms over the period 1990– 2014. The variable name of the fraud label is \"misstate\" (1 denotes fraud, and 0 denotes non-fraud). <br>\n",
    "We will use both raw financial data from the financial statements and the financial ratios that are used to evaluate the financial performance of a company for detection.<br>\n",
    "\n",
    "You may find the description of variables in the Word document."
   ]
  },
  {
   "cell_type": "markdown",
   "id": "204eddfa",
   "metadata": {
    "id": "204eddfa"
   },
   "source": [
    "1. Import the libraries"
   ]
  },
  {
   "cell_type": "code",
   "execution_count": 2,
   "id": "74b2ba6a",
   "metadata": {
    "id": "74b2ba6a"
   },
   "outputs": [],
   "source": [
    "import pandas as pd\n",
    "import statsmodels.api as sm\n",
    "import math\n",
    "import matplotlib.pyplot as plt\n",
    "import numpy as np"
   ]
  },
  {
   "cell_type": "markdown",
   "id": "cf814832",
   "metadata": {
    "id": "cf814832"
   },
   "source": [
    "2. Read in the dataset and display basic information about the dataset."
   ]
  },
  {
   "cell_type": "code",
   "execution_count": 3,
   "id": "44c5b0bc",
   "metadata": {
    "id": "44c5b0bc"
   },
   "outputs": [],
   "source": [
    "fraud = pd.read_csv('AccountingFraud.csv')"
   ]
  },
  {
   "cell_type": "code",
   "execution_count": 4,
   "id": "rpfars6jZFM5",
   "metadata": {
    "colab": {
     "base_uri": "https://localhost:8080/"
    },
    "id": "rpfars6jZFM5",
    "outputId": "b6567b7e-c196-4afa-ddaf-a58ff5bfc1f2"
   },
   "outputs": [
    {
     "name": "stdout",
     "output_type": "stream",
     "text": [
      "<class 'pandas.core.frame.DataFrame'>\n",
      "RangeIndex: 146045 entries, 0 to 146044\n",
      "Data columns (total 44 columns):\n",
      " #   Column       Non-Null Count   Dtype  \n",
      "---  ------       --------------   -----  \n",
      " 0   fyear        146045 non-null  int64  \n",
      " 1   misstate     146045 non-null  int64  \n",
      " 2   act          146045 non-null  float64\n",
      " 3   ap           146045 non-null  float64\n",
      " 4   at           146045 non-null  float64\n",
      " 5   ceq          146045 non-null  float64\n",
      " 6   che          146045 non-null  float64\n",
      " 7   cogs         146045 non-null  float64\n",
      " 8   csho         146045 non-null  float64\n",
      " 9   dlc          146045 non-null  float64\n",
      " 10  dltis        146045 non-null  float64\n",
      " 11  dltt         146045 non-null  float64\n",
      " 12  dp           146045 non-null  float64\n",
      " 13  ib           146045 non-null  float64\n",
      " 14  invt         146045 non-null  float64\n",
      " 15  ivao         146045 non-null  float64\n",
      " 16  ivst         146045 non-null  float64\n",
      " 17  lct          146045 non-null  float64\n",
      " 18  lt           146045 non-null  float64\n",
      " 19  ni           146045 non-null  float64\n",
      " 20  ppegt        146045 non-null  float64\n",
      " 21  pstk         146045 non-null  float64\n",
      " 22  re           146045 non-null  float64\n",
      " 23  rect         146045 non-null  float64\n",
      " 24  sale         146045 non-null  float64\n",
      " 25  sstk         146045 non-null  float64\n",
      " 26  txp          146045 non-null  float64\n",
      " 27  txt          146045 non-null  float64\n",
      " 28  xint         146045 non-null  float64\n",
      " 29  prcc_f       146045 non-null  float64\n",
      " 30  dch_wc       141286 non-null  float64\n",
      " 31  ch_rsst      141194 non-null  float64\n",
      " 32  dch_rec      141302 non-null  float64\n",
      " 33  dch_inv      141430 non-null  float64\n",
      " 34  soft_assets  145453 non-null  float64\n",
      " 35  ch_cs        130127 non-null  float64\n",
      " 36  ch_cm        128938 non-null  float64\n",
      " 37  ch_roa       133367 non-null  float64\n",
      " 38  issue        146045 non-null  int64  \n",
      " 39  bm           146027 non-null  float64\n",
      " 40  dpi          136817 non-null  float64\n",
      " 41  reoa         145454 non-null  float64\n",
      " 42  EBIT         145454 non-null  float64\n",
      " 43  ch_fcf       140638 non-null  float64\n",
      "dtypes: float64(41), int64(3)\n",
      "memory usage: 49.0 MB\n"
     ]
    }
   ],
   "source": [
    "fraud.info()"
   ]
  },
  {
   "cell_type": "code",
   "execution_count": 5,
   "id": "H2O-hp4ohUCH",
   "metadata": {
    "colab": {
     "base_uri": "https://localhost:8080/"
    },
    "id": "H2O-hp4ohUCH",
    "outputId": "9e0be721-826a-478c-fbbc-e35ee0d84782"
   },
   "outputs": [
    {
     "data": {
      "text/plain": [
       "Index(['fyear', 'misstate', 'act', 'ap', 'at', 'ceq', 'che', 'cogs', 'csho',\n",
       "       'dlc', 'dltis', 'dltt', 'dp', 'ib', 'invt', 'ivao', 'ivst', 'lct', 'lt',\n",
       "       'ni', 'ppegt', 'pstk', 're', 'rect', 'sale', 'sstk', 'txp', 'txt',\n",
       "       'xint', 'prcc_f', 'dch_wc', 'ch_rsst', 'dch_rec', 'dch_inv',\n",
       "       'soft_assets', 'ch_cs', 'ch_cm', 'ch_roa', 'issue', 'bm', 'dpi', 'reoa',\n",
       "       'EBIT', 'ch_fcf'],\n",
       "      dtype='object')"
      ]
     },
     "execution_count": 5,
     "metadata": {},
     "output_type": "execute_result"
    }
   ],
   "source": [
    "fraud.columns\n"
   ]
  },
  {
   "cell_type": "code",
   "execution_count": 6,
   "id": "tZY4mS-hZQuY",
   "metadata": {
    "colab": {
     "base_uri": "https://localhost:8080/",
     "height": 253
    },
    "id": "tZY4mS-hZQuY",
    "outputId": "1d771ad0-f69b-4238-b74e-d5195bad5e9e"
   },
   "outputs": [
    {
     "data": {
      "text/html": [
       "<div>\n",
       "<style scoped>\n",
       "    .dataframe tbody tr th:only-of-type {\n",
       "        vertical-align: middle;\n",
       "    }\n",
       "\n",
       "    .dataframe tbody tr th {\n",
       "        vertical-align: top;\n",
       "    }\n",
       "\n",
       "    .dataframe thead th {\n",
       "        text-align: right;\n",
       "    }\n",
       "</style>\n",
       "<table border=\"1\" class=\"dataframe\">\n",
       "  <thead>\n",
       "    <tr style=\"text-align: right;\">\n",
       "      <th></th>\n",
       "      <th>fyear</th>\n",
       "      <th>misstate</th>\n",
       "      <th>act</th>\n",
       "      <th>ap</th>\n",
       "      <th>at</th>\n",
       "      <th>ceq</th>\n",
       "      <th>che</th>\n",
       "      <th>cogs</th>\n",
       "      <th>csho</th>\n",
       "      <th>dlc</th>\n",
       "      <th>...</th>\n",
       "      <th>soft_assets</th>\n",
       "      <th>ch_cs</th>\n",
       "      <th>ch_cm</th>\n",
       "      <th>ch_roa</th>\n",
       "      <th>issue</th>\n",
       "      <th>bm</th>\n",
       "      <th>dpi</th>\n",
       "      <th>reoa</th>\n",
       "      <th>EBIT</th>\n",
       "      <th>ch_fcf</th>\n",
       "    </tr>\n",
       "  </thead>\n",
       "  <tbody>\n",
       "    <tr>\n",
       "      <th>0</th>\n",
       "      <td>1990</td>\n",
       "      <td>0</td>\n",
       "      <td>10.047</td>\n",
       "      <td>3.736</td>\n",
       "      <td>32.335</td>\n",
       "      <td>6.262</td>\n",
       "      <td>0.002</td>\n",
       "      <td>30.633</td>\n",
       "      <td>2.526</td>\n",
       "      <td>3.283</td>\n",
       "      <td>...</td>\n",
       "      <td>0.312448</td>\n",
       "      <td>0.095082</td>\n",
       "      <td>0.082631</td>\n",
       "      <td>-0.019761</td>\n",
       "      <td>1</td>\n",
       "      <td>0.413170</td>\n",
       "      <td>0.873555</td>\n",
       "      <td>0.167620</td>\n",
       "      <td>0.161961</td>\n",
       "      <td>-0.042140</td>\n",
       "    </tr>\n",
       "    <tr>\n",
       "      <th>1</th>\n",
       "      <td>1990</td>\n",
       "      <td>0</td>\n",
       "      <td>1.247</td>\n",
       "      <td>0.803</td>\n",
       "      <td>7.784</td>\n",
       "      <td>0.667</td>\n",
       "      <td>0.171</td>\n",
       "      <td>1.125</td>\n",
       "      <td>3.556</td>\n",
       "      <td>0.021</td>\n",
       "      <td>...</td>\n",
       "      <td>0.315904</td>\n",
       "      <td>0.188832</td>\n",
       "      <td>-0.211389</td>\n",
       "      <td>-0.117832</td>\n",
       "      <td>1</td>\n",
       "      <td>0.157887</td>\n",
       "      <td>0.745139</td>\n",
       "      <td>-0.428957</td>\n",
       "      <td>-0.157888</td>\n",
       "      <td>0.100228</td>\n",
       "    </tr>\n",
       "    <tr>\n",
       "      <th>2</th>\n",
       "      <td>1990</td>\n",
       "      <td>0</td>\n",
       "      <td>55.040</td>\n",
       "      <td>3.601</td>\n",
       "      <td>118.120</td>\n",
       "      <td>44.393</td>\n",
       "      <td>3.132</td>\n",
       "      <td>107.343</td>\n",
       "      <td>3.882</td>\n",
       "      <td>6.446</td>\n",
       "      <td>...</td>\n",
       "      <td>0.605342</td>\n",
       "      <td>0.097551</td>\n",
       "      <td>-0.105780</td>\n",
       "      <td>0.091206</td>\n",
       "      <td>1</td>\n",
       "      <td>2.231337</td>\n",
       "      <td>1.015131</td>\n",
       "      <td>0.394768</td>\n",
       "      <td>0.063681</td>\n",
       "      <td>0.066348</td>\n",
       "    </tr>\n",
       "    <tr>\n",
       "      <th>3</th>\n",
       "      <td>1990</td>\n",
       "      <td>0</td>\n",
       "      <td>24.684</td>\n",
       "      <td>3.948</td>\n",
       "      <td>34.591</td>\n",
       "      <td>7.751</td>\n",
       "      <td>0.411</td>\n",
       "      <td>31.214</td>\n",
       "      <td>4.755</td>\n",
       "      <td>8.791</td>\n",
       "      <td>...</td>\n",
       "      <td>0.793068</td>\n",
       "      <td>-0.005725</td>\n",
       "      <td>-0.249704</td>\n",
       "      <td>0.017545</td>\n",
       "      <td>1</td>\n",
       "      <td>1.043582</td>\n",
       "      <td>1.026261</td>\n",
       "      <td>0.094822</td>\n",
       "      <td>0.088347</td>\n",
       "      <td>-0.017358</td>\n",
       "    </tr>\n",
       "    <tr>\n",
       "      <th>4</th>\n",
       "      <td>1990</td>\n",
       "      <td>0</td>\n",
       "      <td>17.325</td>\n",
       "      <td>3.520</td>\n",
       "      <td>27.542</td>\n",
       "      <td>-12.142</td>\n",
       "      <td>1.017</td>\n",
       "      <td>32.662</td>\n",
       "      <td>6.735</td>\n",
       "      <td>32.206</td>\n",
       "      <td>...</td>\n",
       "      <td>0.869182</td>\n",
       "      <td>-0.231536</td>\n",
       "      <td>-1.674893</td>\n",
       "      <td>-0.466667</td>\n",
       "      <td>0</td>\n",
       "      <td>-1.602508</td>\n",
       "      <td>0.598443</td>\n",
       "      <td>-0.942379</td>\n",
       "      <td>-0.700821</td>\n",
       "      <td>0.130349</td>\n",
       "    </tr>\n",
       "  </tbody>\n",
       "</table>\n",
       "<p>5 rows × 44 columns</p>\n",
       "</div>"
      ],
      "text/plain": [
       "   fyear  misstate     act     ap       at     ceq    che     cogs   csho  \\\n",
       "0   1990         0  10.047  3.736   32.335   6.262  0.002   30.633  2.526   \n",
       "1   1990         0   1.247  0.803    7.784   0.667  0.171    1.125  3.556   \n",
       "2   1990         0  55.040  3.601  118.120  44.393  3.132  107.343  3.882   \n",
       "3   1990         0  24.684  3.948   34.591   7.751  0.411   31.214  4.755   \n",
       "4   1990         0  17.325  3.520   27.542 -12.142  1.017   32.662  6.735   \n",
       "\n",
       "      dlc  ...  soft_assets     ch_cs     ch_cm    ch_roa  issue        bm  \\\n",
       "0   3.283  ...     0.312448  0.095082  0.082631 -0.019761      1  0.413170   \n",
       "1   0.021  ...     0.315904  0.188832 -0.211389 -0.117832      1  0.157887   \n",
       "2   6.446  ...     0.605342  0.097551 -0.105780  0.091206      1  2.231337   \n",
       "3   8.791  ...     0.793068 -0.005725 -0.249704  0.017545      1  1.043582   \n",
       "4  32.206  ...     0.869182 -0.231536 -1.674893 -0.466667      0 -1.602508   \n",
       "\n",
       "        dpi      reoa      EBIT    ch_fcf  \n",
       "0  0.873555  0.167620  0.161961 -0.042140  \n",
       "1  0.745139 -0.428957 -0.157888  0.100228  \n",
       "2  1.015131  0.394768  0.063681  0.066348  \n",
       "3  1.026261  0.094822  0.088347 -0.017358  \n",
       "4  0.598443 -0.942379 -0.700821  0.130349  \n",
       "\n",
       "[5 rows x 44 columns]"
      ]
     },
     "execution_count": 6,
     "metadata": {},
     "output_type": "execute_result"
    }
   ],
   "source": [
    "fraud.head()"
   ]
  },
  {
   "cell_type": "markdown",
   "id": "bf7f20e3",
   "metadata": {
    "id": "bf7f20e3"
   },
   "source": [
    "3. Explore the variable 'misstate' with a graph. What do you observe?"
   ]
  },
  {
   "cell_type": "code",
   "execution_count": 7,
   "id": "HmTOUyxCcxBt",
   "metadata": {
    "colab": {
     "base_uri": "https://localhost:8080/"
    },
    "id": "HmTOUyxCcxBt",
    "outputId": "60cd65ab-77cf-4f7e-8b79-3ef998c0ae7b"
   },
   "outputs": [
    {
     "data": {
      "text/plain": [
       "misstate\n",
       "0    145081\n",
       "1       964\n",
       "Name: count, dtype: int64"
      ]
     },
     "execution_count": 7,
     "metadata": {},
     "output_type": "execute_result"
    }
   ],
   "source": [
    "misstate_counts = fraud['misstate'].value_counts()\n",
    "misstate_counts"
   ]
  },
  {
   "cell_type": "code",
   "execution_count": 8,
   "id": "1bb3UeB1dLGq",
   "metadata": {
    "colab": {
     "base_uri": "https://localhost:8080/",
     "height": 656
    },
    "id": "1bb3UeB1dLGq",
    "outputId": "cdaddf09-122a-4dbd-b727-e6a1e20cbe28"
   },
   "outputs": [
    {
     "data": {
      "text/plain": [
       "<Axes: xlabel='misstate'>"
      ]
     },
     "execution_count": 8,
     "metadata": {},
     "output_type": "execute_result"
    },
    {
     "data": {
      "text/plain": [
       "Text(0.5, 1.0, 'Number of misstate ')"
      ]
     },
     "execution_count": 8,
     "metadata": {},
     "output_type": "execute_result"
    },
    {
     "data": {
      "text/plain": [
       "Text(0.5, 0, 'misstate Status')"
      ]
     },
     "execution_count": 8,
     "metadata": {},
     "output_type": "execute_result"
    },
    {
     "data": {
      "text/plain": [
       "Text(0, 0.5, 'Count')"
      ]
     },
     "execution_count": 8,
     "metadata": {},
     "output_type": "execute_result"
    },
    {
     "data": {
      "image/png": "[encoded data removed]",
      "text/plain": [
       "<Figure size 640x480 with 1 Axes>"
      ]
     },
     "metadata": {},
     "output_type": "display_data"
    }
   ],
   "source": [
    "\n",
    "misstate_counts.plot(kind='bar', color=['blue', 'green'])\n",
    "\n",
    "# Add title and labels\n",
    "plt.title('Number of misstate ')\n",
    "plt.xlabel('misstate Status')\n",
    "plt.ylabel('Count')\n",
    "plt.show()"
   ]
  },
  {
   "cell_type": "markdown",
   "id": "063b4bae",
   "metadata": {},
   "source": [
    "the count of misstate(0) is very high 145081 but misstate(1) is low 964"
   ]
  },
  {
   "cell_type": "markdown",
   "id": "87ed45af",
   "metadata": {
    "id": "87ed45af"
   },
   "source": [
    "4. Next we sum the number of fraud cases by year and make a line graph.<br>\n",
    "First we need to use .groupby() method to do the sum. We did not go over this in class. I explain here.\n",
    "Then you can use the result to create a line graph."
   ]
  },
  {
   "cell_type": "code",
   "execution_count": null,
   "id": "LDMsgZ3sfMSd",
   "metadata": {
    "id": "LDMsgZ3sfMSd"
   },
   "outputs": [],
   "source": []
  },
  {
   "cell_type": "code",
   "execution_count": 9,
   "id": "991cb081",
   "metadata": {
    "colab": {
     "base_uri": "https://localhost:8080/",
     "height": 824
    },
    "id": "991cb081",
    "outputId": "cf18047e-3cc4-4c5c-b1f5-14404f65665d"
   },
   "outputs": [
    {
     "data": {
      "text/html": [
       "<div>\n",
       "<style scoped>\n",
       "    .dataframe tbody tr th:only-of-type {\n",
       "        vertical-align: middle;\n",
       "    }\n",
       "\n",
       "    .dataframe tbody tr th {\n",
       "        vertical-align: top;\n",
       "    }\n",
       "\n",
       "    .dataframe thead th {\n",
       "        text-align: right;\n",
       "    }\n",
       "</style>\n",
       "<table border=\"1\" class=\"dataframe\">\n",
       "  <thead>\n",
       "    <tr style=\"text-align: right;\">\n",
       "      <th></th>\n",
       "      <th>fyear</th>\n",
       "      <th>misstate</th>\n",
       "    </tr>\n",
       "  </thead>\n",
       "  <tbody>\n",
       "    <tr>\n",
       "      <th>0</th>\n",
       "      <td>1990</td>\n",
       "      <td>15</td>\n",
       "    </tr>\n",
       "    <tr>\n",
       "      <th>1</th>\n",
       "      <td>1991</td>\n",
       "      <td>27</td>\n",
       "    </tr>\n",
       "    <tr>\n",
       "      <th>2</th>\n",
       "      <td>1992</td>\n",
       "      <td>26</td>\n",
       "    </tr>\n",
       "    <tr>\n",
       "      <th>3</th>\n",
       "      <td>1993</td>\n",
       "      <td>30</td>\n",
       "    </tr>\n",
       "    <tr>\n",
       "      <th>4</th>\n",
       "      <td>1994</td>\n",
       "      <td>23</td>\n",
       "    </tr>\n",
       "    <tr>\n",
       "      <th>5</th>\n",
       "      <td>1995</td>\n",
       "      <td>22</td>\n",
       "    </tr>\n",
       "    <tr>\n",
       "      <th>6</th>\n",
       "      <td>1996</td>\n",
       "      <td>33</td>\n",
       "    </tr>\n",
       "    <tr>\n",
       "      <th>7</th>\n",
       "      <td>1997</td>\n",
       "      <td>42</td>\n",
       "    </tr>\n",
       "    <tr>\n",
       "      <th>8</th>\n",
       "      <td>1998</td>\n",
       "      <td>56</td>\n",
       "    </tr>\n",
       "    <tr>\n",
       "      <th>9</th>\n",
       "      <td>1999</td>\n",
       "      <td>73</td>\n",
       "    </tr>\n",
       "    <tr>\n",
       "      <th>10</th>\n",
       "      <td>2000</td>\n",
       "      <td>86</td>\n",
       "    </tr>\n",
       "    <tr>\n",
       "      <th>11</th>\n",
       "      <td>2001</td>\n",
       "      <td>81</td>\n",
       "    </tr>\n",
       "    <tr>\n",
       "      <th>12</th>\n",
       "      <td>2002</td>\n",
       "      <td>77</td>\n",
       "    </tr>\n",
       "    <tr>\n",
       "      <th>13</th>\n",
       "      <td>2003</td>\n",
       "      <td>69</td>\n",
       "    </tr>\n",
       "    <tr>\n",
       "      <th>14</th>\n",
       "      <td>2004</td>\n",
       "      <td>58</td>\n",
       "    </tr>\n",
       "    <tr>\n",
       "      <th>15</th>\n",
       "      <td>2005</td>\n",
       "      <td>45</td>\n",
       "    </tr>\n",
       "    <tr>\n",
       "      <th>16</th>\n",
       "      <td>2006</td>\n",
       "      <td>33</td>\n",
       "    </tr>\n",
       "    <tr>\n",
       "      <th>17</th>\n",
       "      <td>2007</td>\n",
       "      <td>30</td>\n",
       "    </tr>\n",
       "    <tr>\n",
       "      <th>18</th>\n",
       "      <td>2008</td>\n",
       "      <td>26</td>\n",
       "    </tr>\n",
       "    <tr>\n",
       "      <th>19</th>\n",
       "      <td>2009</td>\n",
       "      <td>31</td>\n",
       "    </tr>\n",
       "    <tr>\n",
       "      <th>20</th>\n",
       "      <td>2010</td>\n",
       "      <td>26</td>\n",
       "    </tr>\n",
       "    <tr>\n",
       "      <th>21</th>\n",
       "      <td>2011</td>\n",
       "      <td>21</td>\n",
       "    </tr>\n",
       "    <tr>\n",
       "      <th>22</th>\n",
       "      <td>2012</td>\n",
       "      <td>19</td>\n",
       "    </tr>\n",
       "    <tr>\n",
       "      <th>23</th>\n",
       "      <td>2013</td>\n",
       "      <td>11</td>\n",
       "    </tr>\n",
       "    <tr>\n",
       "      <th>24</th>\n",
       "      <td>2014</td>\n",
       "      <td>4</td>\n",
       "    </tr>\n",
       "  </tbody>\n",
       "</table>\n",
       "</div>"
      ],
      "text/plain": [
       "    fyear  misstate\n",
       "0    1990        15\n",
       "1    1991        27\n",
       "2    1992        26\n",
       "3    1993        30\n",
       "4    1994        23\n",
       "5    1995        22\n",
       "6    1996        33\n",
       "7    1997        42\n",
       "8    1998        56\n",
       "9    1999        73\n",
       "10   2000        86\n",
       "11   2001        81\n",
       "12   2002        77\n",
       "13   2003        69\n",
       "14   2004        58\n",
       "15   2005        45\n",
       "16   2006        33\n",
       "17   2007        30\n",
       "18   2008        26\n",
       "19   2009        31\n",
       "20   2010        26\n",
       "21   2011        21\n",
       "22   2012        19\n",
       "23   2013        11\n",
       "24   2014         4"
      ]
     },
     "execution_count": 9,
     "metadata": {},
     "output_type": "execute_result"
    }
   ],
   "source": [
    "fraud_by_year=fraud.groupby('fyear')['misstate'].sum().reset_index()\n",
    "fraud_by_year\n",
    "\n",
    "# Groupby method group the data observations by the given variable 'fyear'\n",
    "# into groups.\n",
    "# Then the sum() will sum the variable 'misstate'\n",
    "# reset_index() is to transform the result into a dataframe"
   ]
  },
  {
   "cell_type": "code",
   "execution_count": null,
   "id": "M63gz5SleiVC",
   "metadata": {
    "id": "M63gz5SleiVC"
   },
   "outputs": [],
   "source": []
  },
  {
   "cell_type": "markdown",
   "id": "025905b8",
   "metadata": {
    "id": "025905b8"
   },
   "source": [
    "Save the output of the code above and make a line graph based on it. What do you observe?"
   ]
  },
  {
   "cell_type": "code",
   "execution_count": 10,
   "id": "c9a72b5e",
   "metadata": {
    "colab": {
     "base_uri": "https://localhost:8080/",
     "height": 661
    },
    "id": "c9a72b5e",
    "outputId": "e826f949-496a-4156-ade7-6c6602cd3305"
   },
   "outputs": [
    {
     "data": {
      "text/plain": [
       "[<matplotlib.lines.Line2D at 0x1458b0ed0>]"
      ]
     },
     "execution_count": 10,
     "metadata": {},
     "output_type": "execute_result"
    },
    {
     "data": {
      "text/plain": [
       "Text(0.5, 1.0, 'Number of misstate by Year')"
      ]
     },
     "execution_count": 10,
     "metadata": {},
     "output_type": "execute_result"
    },
    {
     "data": {
      "text/plain": [
       "Text(0.5, 0, 'Year')"
      ]
     },
     "execution_count": 10,
     "metadata": {},
     "output_type": "execute_result"
    },
    {
     "data": {
      "text/plain": [
       "Text(0, 0.5, 'Number of misstate')"
      ]
     },
     "execution_count": 10,
     "metadata": {},
     "output_type": "execute_result"
    },
    {
     "data": {
      "image/png": "[encoded data removed]",
      "text/plain": [
       "<Figure size 640x480 with 1 Axes>"
      ]
     },
     "metadata": {},
     "output_type": "display_data"
    }
   ],
   "source": [
    "\n",
    "# Create a line graph\n",
    "plt.plot(fraud_by_year['fyear'], fraud_by_year['misstate'])\n",
    "\n",
    "# Add title and labels\n",
    "plt.title('Number of misstate by Year')\n",
    "plt.xlabel('Year')\n",
    "plt.ylabel('Number of misstate')\n",
    "\n",
    "# Show the graph\n",
    "plt.show()\n"
   ]
  },
  {
   "cell_type": "markdown",
   "id": "NlZlHSRV3NMQ",
   "metadata": {
    "id": "NlZlHSRV3NMQ"
   },
   "source": [
    "The graph shows a significant increase in the number of misstates from 1995, peaking around 2000 before gradually declining. By 2005 to 2010, it returns to a level similar to that of 1995."
   ]
  },
  {
   "cell_type": "markdown",
   "id": "77e2528c",
   "metadata": {
    "id": "77e2528c"
   },
   "source": [
    "5. Missing values. You may notice that some variables have missing values. <br>\n",
    "Ideally, we need to handle missing values carefully. We will explore that in the future if we have the chance.<br>\n",
    "For now, we just simply drop the observations with missing values."
   ]
  },
  {
   "cell_type": "code",
   "execution_count": 11,
   "id": "ba9a83dc",
   "metadata": {
    "colab": {
     "base_uri": "https://localhost:8080/",
     "height": 439
    },
    "id": "ba9a83dc",
    "outputId": "eecd3786-0ef3-4cf7-fc7d-b1f234f3b42d"
   },
   "outputs": [
    {
     "data": {
      "text/html": [
       "<div>\n",
       "<style scoped>\n",
       "    .dataframe tbody tr th:only-of-type {\n",
       "        vertical-align: middle;\n",
       "    }\n",
       "\n",
       "    .dataframe tbody tr th {\n",
       "        vertical-align: top;\n",
       "    }\n",
       "\n",
       "    .dataframe thead th {\n",
       "        text-align: right;\n",
       "    }\n",
       "</style>\n",
       "<table border=\"1\" class=\"dataframe\">\n",
       "  <thead>\n",
       "    <tr style=\"text-align: right;\">\n",
       "      <th></th>\n",
       "      <th>fyear</th>\n",
       "      <th>misstate</th>\n",
       "      <th>act</th>\n",
       "      <th>ap</th>\n",
       "      <th>at</th>\n",
       "      <th>ceq</th>\n",
       "      <th>che</th>\n",
       "      <th>cogs</th>\n",
       "      <th>csho</th>\n",
       "      <th>dlc</th>\n",
       "      <th>...</th>\n",
       "      <th>soft_assets</th>\n",
       "      <th>ch_cs</th>\n",
       "      <th>ch_cm</th>\n",
       "      <th>ch_roa</th>\n",
       "      <th>issue</th>\n",
       "      <th>bm</th>\n",
       "      <th>dpi</th>\n",
       "      <th>reoa</th>\n",
       "      <th>EBIT</th>\n",
       "      <th>ch_fcf</th>\n",
       "    </tr>\n",
       "  </thead>\n",
       "  <tbody>\n",
       "    <tr>\n",
       "      <th>0</th>\n",
       "      <td>1990</td>\n",
       "      <td>0</td>\n",
       "      <td>10.047</td>\n",
       "      <td>3.736</td>\n",
       "      <td>32.335</td>\n",
       "      <td>6.262</td>\n",
       "      <td>0.002</td>\n",
       "      <td>30.633</td>\n",
       "      <td>2.526</td>\n",
       "      <td>3.283</td>\n",
       "      <td>...</td>\n",
       "      <td>0.312448</td>\n",
       "      <td>0.095082</td>\n",
       "      <td>0.082631</td>\n",
       "      <td>-0.019761</td>\n",
       "      <td>1</td>\n",
       "      <td>0.413170</td>\n",
       "      <td>0.873555</td>\n",
       "      <td>0.167620</td>\n",
       "      <td>0.161961</td>\n",
       "      <td>-0.042140</td>\n",
       "    </tr>\n",
       "    <tr>\n",
       "      <th>1</th>\n",
       "      <td>1990</td>\n",
       "      <td>0</td>\n",
       "      <td>1.247</td>\n",
       "      <td>0.803</td>\n",
       "      <td>7.784</td>\n",
       "      <td>0.667</td>\n",
       "      <td>0.171</td>\n",
       "      <td>1.125</td>\n",
       "      <td>3.556</td>\n",
       "      <td>0.021</td>\n",
       "      <td>...</td>\n",
       "      <td>0.315904</td>\n",
       "      <td>0.188832</td>\n",
       "      <td>-0.211389</td>\n",
       "      <td>-0.117832</td>\n",
       "      <td>1</td>\n",
       "      <td>0.157887</td>\n",
       "      <td>0.745139</td>\n",
       "      <td>-0.428957</td>\n",
       "      <td>-0.157888</td>\n",
       "      <td>0.100228</td>\n",
       "    </tr>\n",
       "    <tr>\n",
       "      <th>2</th>\n",
       "      <td>1990</td>\n",
       "      <td>0</td>\n",
       "      <td>55.040</td>\n",
       "      <td>3.601</td>\n",
       "      <td>118.120</td>\n",
       "      <td>44.393</td>\n",
       "      <td>3.132</td>\n",
       "      <td>107.343</td>\n",
       "      <td>3.882</td>\n",
       "      <td>6.446</td>\n",
       "      <td>...</td>\n",
       "      <td>0.605342</td>\n",
       "      <td>0.097551</td>\n",
       "      <td>-0.105780</td>\n",
       "      <td>0.091206</td>\n",
       "      <td>1</td>\n",
       "      <td>2.231337</td>\n",
       "      <td>1.015131</td>\n",
       "      <td>0.394768</td>\n",
       "      <td>0.063681</td>\n",
       "      <td>0.066348</td>\n",
       "    </tr>\n",
       "    <tr>\n",
       "      <th>3</th>\n",
       "      <td>1990</td>\n",
       "      <td>0</td>\n",
       "      <td>24.684</td>\n",
       "      <td>3.948</td>\n",
       "      <td>34.591</td>\n",
       "      <td>7.751</td>\n",
       "      <td>0.411</td>\n",
       "      <td>31.214</td>\n",
       "      <td>4.755</td>\n",
       "      <td>8.791</td>\n",
       "      <td>...</td>\n",
       "      <td>0.793068</td>\n",
       "      <td>-0.005725</td>\n",
       "      <td>-0.249704</td>\n",
       "      <td>0.017545</td>\n",
       "      <td>1</td>\n",
       "      <td>1.043582</td>\n",
       "      <td>1.026261</td>\n",
       "      <td>0.094822</td>\n",
       "      <td>0.088347</td>\n",
       "      <td>-0.017358</td>\n",
       "    </tr>\n",
       "    <tr>\n",
       "      <th>4</th>\n",
       "      <td>1990</td>\n",
       "      <td>0</td>\n",
       "      <td>17.325</td>\n",
       "      <td>3.520</td>\n",
       "      <td>27.542</td>\n",
       "      <td>-12.142</td>\n",
       "      <td>1.017</td>\n",
       "      <td>32.662</td>\n",
       "      <td>6.735</td>\n",
       "      <td>32.206</td>\n",
       "      <td>...</td>\n",
       "      <td>0.869182</td>\n",
       "      <td>-0.231536</td>\n",
       "      <td>-1.674893</td>\n",
       "      <td>-0.466667</td>\n",
       "      <td>0</td>\n",
       "      <td>-1.602508</td>\n",
       "      <td>0.598443</td>\n",
       "      <td>-0.942379</td>\n",
       "      <td>-0.700821</td>\n",
       "      <td>0.130349</td>\n",
       "    </tr>\n",
       "    <tr>\n",
       "      <th>...</th>\n",
       "      <td>...</td>\n",
       "      <td>...</td>\n",
       "      <td>...</td>\n",
       "      <td>...</td>\n",
       "      <td>...</td>\n",
       "      <td>...</td>\n",
       "      <td>...</td>\n",
       "      <td>...</td>\n",
       "      <td>...</td>\n",
       "      <td>...</td>\n",
       "      <td>...</td>\n",
       "      <td>...</td>\n",
       "      <td>...</td>\n",
       "      <td>...</td>\n",
       "      <td>...</td>\n",
       "      <td>...</td>\n",
       "      <td>...</td>\n",
       "      <td>...</td>\n",
       "      <td>...</td>\n",
       "      <td>...</td>\n",
       "      <td>...</td>\n",
       "    </tr>\n",
       "    <tr>\n",
       "      <th>146039</th>\n",
       "      <td>2014</td>\n",
       "      <td>0</td>\n",
       "      <td>167.320</td>\n",
       "      <td>4.021</td>\n",
       "      <td>1260.060</td>\n",
       "      <td>972.016</td>\n",
       "      <td>159.564</td>\n",
       "      <td>0.000</td>\n",
       "      <td>3896.103</td>\n",
       "      <td>0.000</td>\n",
       "      <td>...</td>\n",
       "      <td>0.015362</td>\n",
       "      <td>-1.718931</td>\n",
       "      <td>0.435251</td>\n",
       "      <td>0.009248</td>\n",
       "      <td>1</td>\n",
       "      <td>2.626149</td>\n",
       "      <td>0.820630</td>\n",
       "      <td>-0.180677</td>\n",
       "      <td>-0.009215</td>\n",
       "      <td>0.030761</td>\n",
       "    </tr>\n",
       "    <tr>\n",
       "      <th>146040</th>\n",
       "      <td>2014</td>\n",
       "      <td>0</td>\n",
       "      <td>262.600</td>\n",
       "      <td>12.400</td>\n",
       "      <td>1234.800</td>\n",
       "      <td>194.100</td>\n",
       "      <td>166.200</td>\n",
       "      <td>214.400</td>\n",
       "      <td>97.748</td>\n",
       "      <td>23.200</td>\n",
       "      <td>...</td>\n",
       "      <td>0.751944</td>\n",
       "      <td>0.560406</td>\n",
       "      <td>0.127217</td>\n",
       "      <td>-0.050591</td>\n",
       "      <td>1</td>\n",
       "      <td>0.103693</td>\n",
       "      <td>0.829680</td>\n",
       "      <td>-0.327178</td>\n",
       "      <td>-0.008179</td>\n",
       "      <td>-0.261606</td>\n",
       "    </tr>\n",
       "    <tr>\n",
       "      <th>146041</th>\n",
       "      <td>2014</td>\n",
       "      <td>0</td>\n",
       "      <td>1578.400</td>\n",
       "      <td>106.700</td>\n",
       "      <td>4557.600</td>\n",
       "      <td>2459.600</td>\n",
       "      <td>997.300</td>\n",
       "      <td>324.400</td>\n",
       "      <td>182.067</td>\n",
       "      <td>15.100</td>\n",
       "      <td>...</td>\n",
       "      <td>0.742781</td>\n",
       "      <td>-0.118178</td>\n",
       "      <td>0.031360</td>\n",
       "      <td>0.095355</td>\n",
       "      <td>1</td>\n",
       "      <td>0.581796</td>\n",
       "      <td>0.743084</td>\n",
       "      <td>-0.077826</td>\n",
       "      <td>0.000461</td>\n",
       "      <td>-0.296702</td>\n",
       "    </tr>\n",
       "    <tr>\n",
       "      <th>146042</th>\n",
       "      <td>2014</td>\n",
       "      <td>0</td>\n",
       "      <td>973.800</td>\n",
       "      <td>249.500</td>\n",
       "      <td>2015.900</td>\n",
       "      <td>-4.800</td>\n",
       "      <td>290.500</td>\n",
       "      <td>1185.500</td>\n",
       "      <td>95.831</td>\n",
       "      <td>49.600</td>\n",
       "      <td>...</td>\n",
       "      <td>0.751129</td>\n",
       "      <td>0.004207</td>\n",
       "      <td>-0.037925</td>\n",
       "      <td>0.072050</td>\n",
       "      <td>1</td>\n",
       "      <td>-0.000903</td>\n",
       "      <td>1.063878</td>\n",
       "      <td>-0.002877</td>\n",
       "      <td>0.153133</td>\n",
       "      <td>0.065569</td>\n",
       "    </tr>\n",
       "    <tr>\n",
       "      <th>146044</th>\n",
       "      <td>2014</td>\n",
       "      <td>0</td>\n",
       "      <td>233.211</td>\n",
       "      <td>5.224</td>\n",
       "      <td>1099.101</td>\n",
       "      <td>873.214</td>\n",
       "      <td>204.821</td>\n",
       "      <td>43.338</td>\n",
       "      <td>58.057</td>\n",
       "      <td>15.678</td>\n",
       "      <td>...</td>\n",
       "      <td>0.068841</td>\n",
       "      <td>1.684618</td>\n",
       "      <td>-0.094348</td>\n",
       "      <td>0.020573</td>\n",
       "      <td>1</td>\n",
       "      <td>1.154308</td>\n",
       "      <td>0.745399</td>\n",
       "      <td>0.025562</td>\n",
       "      <td>0.026433</td>\n",
       "      <td>-0.240183</td>\n",
       "    </tr>\n",
       "  </tbody>\n",
       "</table>\n",
       "<p>126483 rows × 44 columns</p>\n",
       "</div>"
      ],
      "text/plain": [
       "        fyear  misstate       act       ap        at       ceq      che  \\\n",
       "0        1990         0    10.047    3.736    32.335     6.262    0.002   \n",
       "1        1990         0     1.247    0.803     7.784     0.667    0.171   \n",
       "2        1990         0    55.040    3.601   118.120    44.393    3.132   \n",
       "3        1990         0    24.684    3.948    34.591     7.751    0.411   \n",
       "4        1990         0    17.325    3.520    27.542   -12.142    1.017   \n",
       "...       ...       ...       ...      ...       ...       ...      ...   \n",
       "146039   2014         0   167.320    4.021  1260.060   972.016  159.564   \n",
       "146040   2014         0   262.600   12.400  1234.800   194.100  166.200   \n",
       "146041   2014         0  1578.400  106.700  4557.600  2459.600  997.300   \n",
       "146042   2014         0   973.800  249.500  2015.900    -4.800  290.500   \n",
       "146044   2014         0   233.211    5.224  1099.101   873.214  204.821   \n",
       "\n",
       "            cogs      csho     dlc  ...  soft_assets     ch_cs     ch_cm  \\\n",
       "0         30.633     2.526   3.283  ...     0.312448  0.095082  0.082631   \n",
       "1          1.125     3.556   0.021  ...     0.315904  0.188832 -0.211389   \n",
       "2        107.343     3.882   6.446  ...     0.605342  0.097551 -0.105780   \n",
       "3         31.214     4.755   8.791  ...     0.793068 -0.005725 -0.249704   \n",
       "4         32.662     6.735  32.206  ...     0.869182 -0.231536 -1.674893   \n",
       "...          ...       ...     ...  ...          ...       ...       ...   \n",
       "146039     0.000  3896.103   0.000  ...     0.015362 -1.718931  0.435251   \n",
       "146040   214.400    97.748  23.200  ...     0.751944  0.560406  0.127217   \n",
       "146041   324.400   182.067  15.100  ...     0.742781 -0.118178  0.031360   \n",
       "146042  1185.500    95.831  49.600  ...     0.751129  0.004207 -0.037925   \n",
       "146044    43.338    58.057  15.678  ...     0.068841  1.684618 -0.094348   \n",
       "\n",
       "          ch_roa  issue        bm       dpi      reoa      EBIT    ch_fcf  \n",
       "0      -0.019761      1  0.413170  0.873555  0.167620  0.161961 -0.042140  \n",
       "1      -0.117832      1  0.157887  0.745139 -0.428957 -0.157888  0.100228  \n",
       "2       0.091206      1  2.231337  1.015131  0.394768  0.063681  0.066348  \n",
       "3       0.017545      1  1.043582  1.026261  0.094822  0.088347 -0.017358  \n",
       "4      -0.466667      0 -1.602508  0.598443 -0.942379 -0.700821  0.130349  \n",
       "...          ...    ...       ...       ...       ...       ...       ...  \n",
       "146039  0.009248      1  2.626149  0.820630 -0.180677 -0.009215  0.030761  \n",
       "146040 -0.050591      1  0.103693  0.829680 -0.327178 -0.008179 -0.261606  \n",
       "146041  0.095355      1  0.581796  0.743084 -0.077826  0.000461 -0.296702  \n",
       "146042  0.072050      1 -0.000903  1.063878 -0.002877  0.153133  0.065569  \n",
       "146044  0.020573      1  1.154308  0.745399  0.025562  0.026433 -0.240183  \n",
       "\n",
       "[126483 rows x 44 columns]"
      ]
     },
     "execution_count": 11,
     "metadata": {},
     "output_type": "execute_result"
    }
   ],
   "source": [
    "fraud = fraud.dropna()\n",
    "fraud"
   ]
  },
  {
   "cell_type": "markdown",
   "id": "facac69c",
   "metadata": {
    "id": "facac69c"
   },
   "source": [
    "6. Now let's fit logistic regression models. First, we only use the 28 raw accounting variables as the independent variables. You may find the definitions of them in the Word document."
   ]
  },
  {
   "cell_type": "markdown",
   "id": "e73e99fa",
   "metadata": {
    "id": "e73e99fa"
   },
   "source": [
    "Prepare the data."
   ]
  },
  {
   "cell_type": "code",
   "execution_count": 12,
   "id": "9765eac8",
   "metadata": {
    "colab": {
     "base_uri": "https://localhost:8080/",
     "height": 420
    },
    "id": "9765eac8",
    "outputId": "391ed4db-8c4e-4471-eda2-9e562bbab9d9"
   },
   "outputs": [
    {
     "data": {
      "text/html": [
       "<div>\n",
       "<style scoped>\n",
       "    .dataframe tbody tr th:only-of-type {\n",
       "        vertical-align: middle;\n",
       "    }\n",
       "\n",
       "    .dataframe tbody tr th {\n",
       "        vertical-align: top;\n",
       "    }\n",
       "\n",
       "    .dataframe thead th {\n",
       "        text-align: right;\n",
       "    }\n",
       "</style>\n",
       "<table border=\"1\" class=\"dataframe\">\n",
       "  <thead>\n",
       "    <tr style=\"text-align: right;\">\n",
       "      <th></th>\n",
       "      <th>misstate</th>\n",
       "    </tr>\n",
       "  </thead>\n",
       "  <tbody>\n",
       "    <tr>\n",
       "      <th>0</th>\n",
       "      <td>0.0</td>\n",
       "    </tr>\n",
       "    <tr>\n",
       "      <th>1</th>\n",
       "      <td>0.0</td>\n",
       "    </tr>\n",
       "    <tr>\n",
       "      <th>2</th>\n",
       "      <td>0.0</td>\n",
       "    </tr>\n",
       "    <tr>\n",
       "      <th>3</th>\n",
       "      <td>0.0</td>\n",
       "    </tr>\n",
       "    <tr>\n",
       "      <th>4</th>\n",
       "      <td>0.0</td>\n",
       "    </tr>\n",
       "  </tbody>\n",
       "</table>\n",
       "</div>"
      ],
      "text/plain": [
       "   misstate\n",
       "0       0.0\n",
       "1       0.0\n",
       "2       0.0\n",
       "3       0.0\n",
       "4       0.0"
      ]
     },
     "execution_count": 12,
     "metadata": {},
     "output_type": "execute_result"
    },
    {
     "data": {
      "text/html": [
       "<div>\n",
       "<style scoped>\n",
       "    .dataframe tbody tr th:only-of-type {\n",
       "        vertical-align: middle;\n",
       "    }\n",
       "\n",
       "    .dataframe tbody tr th {\n",
       "        vertical-align: top;\n",
       "    }\n",
       "\n",
       "    .dataframe thead th {\n",
       "        text-align: right;\n",
       "    }\n",
       "</style>\n",
       "<table border=\"1\" class=\"dataframe\">\n",
       "  <thead>\n",
       "    <tr style=\"text-align: right;\">\n",
       "      <th></th>\n",
       "      <th>Intercept</th>\n",
       "      <th>act</th>\n",
       "      <th>ap</th>\n",
       "      <th>at</th>\n",
       "      <th>ceq</th>\n",
       "      <th>che</th>\n",
       "      <th>cogs</th>\n",
       "      <th>csho</th>\n",
       "      <th>dlc</th>\n",
       "      <th>dltis</th>\n",
       "      <th>...</th>\n",
       "      <th>ppegt</th>\n",
       "      <th>pstk</th>\n",
       "      <th>re</th>\n",
       "      <th>rect</th>\n",
       "      <th>sale</th>\n",
       "      <th>sstk</th>\n",
       "      <th>txp</th>\n",
       "      <th>txt</th>\n",
       "      <th>xint</th>\n",
       "      <th>prcc_f</th>\n",
       "    </tr>\n",
       "  </thead>\n",
       "  <tbody>\n",
       "    <tr>\n",
       "      <th>0</th>\n",
       "      <td>1.0</td>\n",
       "      <td>10.047</td>\n",
       "      <td>3.736</td>\n",
       "      <td>32.335</td>\n",
       "      <td>6.262</td>\n",
       "      <td>0.002</td>\n",
       "      <td>30.633</td>\n",
       "      <td>2.526</td>\n",
       "      <td>3.283</td>\n",
       "      <td>32.853</td>\n",
       "      <td>...</td>\n",
       "      <td>31.767</td>\n",
       "      <td>0.000</td>\n",
       "      <td>5.420</td>\n",
       "      <td>6.895</td>\n",
       "      <td>40.522</td>\n",
       "      <td>0.000</td>\n",
       "      <td>0.000</td>\n",
       "      <td>0.769</td>\n",
       "      <td>2.333</td>\n",
       "      <td>6.000</td>\n",
       "    </tr>\n",
       "    <tr>\n",
       "      <th>1</th>\n",
       "      <td>1.0</td>\n",
       "      <td>1.247</td>\n",
       "      <td>0.803</td>\n",
       "      <td>7.784</td>\n",
       "      <td>0.667</td>\n",
       "      <td>0.171</td>\n",
       "      <td>1.125</td>\n",
       "      <td>3.556</td>\n",
       "      <td>0.021</td>\n",
       "      <td>2.017</td>\n",
       "      <td>...</td>\n",
       "      <td>7.328</td>\n",
       "      <td>0.000</td>\n",
       "      <td>-3.339</td>\n",
       "      <td>0.290</td>\n",
       "      <td>3.635</td>\n",
       "      <td>0.006</td>\n",
       "      <td>0.000</td>\n",
       "      <td>0.000</td>\n",
       "      <td>0.640</td>\n",
       "      <td>1.188</td>\n",
       "    </tr>\n",
       "    <tr>\n",
       "      <th>2</th>\n",
       "      <td>1.0</td>\n",
       "      <td>55.040</td>\n",
       "      <td>3.601</td>\n",
       "      <td>118.120</td>\n",
       "      <td>44.393</td>\n",
       "      <td>3.132</td>\n",
       "      <td>107.343</td>\n",
       "      <td>3.882</td>\n",
       "      <td>6.446</td>\n",
       "      <td>6.500</td>\n",
       "      <td>...</td>\n",
       "      <td>78.331</td>\n",
       "      <td>0.000</td>\n",
       "      <td>46.630</td>\n",
       "      <td>47.366</td>\n",
       "      <td>144.258</td>\n",
       "      <td>0.000</td>\n",
       "      <td>0.000</td>\n",
       "      <td>0.986</td>\n",
       "      <td>3.962</td>\n",
       "      <td>5.125</td>\n",
       "    </tr>\n",
       "    <tr>\n",
       "      <th>3</th>\n",
       "      <td>1.0</td>\n",
       "      <td>24.684</td>\n",
       "      <td>3.948</td>\n",
       "      <td>34.591</td>\n",
       "      <td>7.751</td>\n",
       "      <td>0.411</td>\n",
       "      <td>31.214</td>\n",
       "      <td>4.755</td>\n",
       "      <td>8.791</td>\n",
       "      <td>0.587</td>\n",
       "      <td>...</td>\n",
       "      <td>11.145</td>\n",
       "      <td>1.295</td>\n",
       "      <td>3.280</td>\n",
       "      <td>8.522</td>\n",
       "      <td>48.292</td>\n",
       "      <td>0.000</td>\n",
       "      <td>0.448</td>\n",
       "      <td>0.365</td>\n",
       "      <td>2.269</td>\n",
       "      <td>1.562</td>\n",
       "    </tr>\n",
       "    <tr>\n",
       "      <th>4</th>\n",
       "      <td>1.0</td>\n",
       "      <td>17.325</td>\n",
       "      <td>3.520</td>\n",
       "      <td>27.542</td>\n",
       "      <td>-12.142</td>\n",
       "      <td>1.017</td>\n",
       "      <td>32.662</td>\n",
       "      <td>6.735</td>\n",
       "      <td>32.206</td>\n",
       "      <td>0.000</td>\n",
       "      <td>...</td>\n",
       "      <td>5.782</td>\n",
       "      <td>0.000</td>\n",
       "      <td>-25.955</td>\n",
       "      <td>6.354</td>\n",
       "      <td>33.543</td>\n",
       "      <td>0.000</td>\n",
       "      <td>0.000</td>\n",
       "      <td>0.000</td>\n",
       "      <td>3.510</td>\n",
       "      <td>1.125</td>\n",
       "    </tr>\n",
       "  </tbody>\n",
       "</table>\n",
       "<p>5 rows × 29 columns</p>\n",
       "</div>"
      ],
      "text/plain": [
       "   Intercept     act     ap       at     ceq    che     cogs   csho     dlc  \\\n",
       "0        1.0  10.047  3.736   32.335   6.262  0.002   30.633  2.526   3.283   \n",
       "1        1.0   1.247  0.803    7.784   0.667  0.171    1.125  3.556   0.021   \n",
       "2        1.0  55.040  3.601  118.120  44.393  3.132  107.343  3.882   6.446   \n",
       "3        1.0  24.684  3.948   34.591   7.751  0.411   31.214  4.755   8.791   \n",
       "4        1.0  17.325  3.520   27.542 -12.142  1.017   32.662  6.735  32.206   \n",
       "\n",
       "    dltis  ...   ppegt   pstk      re    rect     sale   sstk    txp    txt  \\\n",
       "0  32.853  ...  31.767  0.000   5.420   6.895   40.522  0.000  0.000  0.769   \n",
       "1   2.017  ...   7.328  0.000  -3.339   0.290    3.635  0.006  0.000  0.000   \n",
       "2   6.500  ...  78.331  0.000  46.630  47.366  144.258  0.000  0.000  0.986   \n",
       "3   0.587  ...  11.145  1.295   3.280   8.522   48.292  0.000  0.448  0.365   \n",
       "4   0.000  ...   5.782  0.000 -25.955   6.354   33.543  0.000  0.000  0.000   \n",
       "\n",
       "    xint  prcc_f  \n",
       "0  2.333   6.000  \n",
       "1  0.640   1.188  \n",
       "2  3.962   5.125  \n",
       "3  2.269   1.562  \n",
       "4  3.510   1.125  \n",
       "\n",
       "[5 rows x 29 columns]"
      ]
     },
     "execution_count": 12,
     "metadata": {},
     "output_type": "execute_result"
    }
   ],
   "source": [
    "import patsy\n",
    "\n",
    "y_28, X_28 = patsy.dmatrices('misstate ~ act+ap+ at+ ceq+ che+ cogs+ +csho+dlc+ dltis+dltt+ dp+ ib+ invt+ ivao+ ivst+ lct+ lt+ni+ ppegt+ pstk+ +re+ rect+ +sale+ sstk+ txp+txt+xint+ prcc_f',\n",
    "                      data = fraud,\n",
    "                      return_type = 'dataframe')\n",
    "y_28.head()\n",
    "X_28.head()"
   ]
  },
  {
   "cell_type": "code",
   "execution_count": 13,
   "id": "KtZyUrPZl7CV",
   "metadata": {
    "colab": {
     "base_uri": "https://localhost:8080/"
    },
    "id": "KtZyUrPZl7CV",
    "outputId": "d1c11e22-60e7-4e95-b0a2-0770f4ea7aa4"
   },
   "outputs": [
    {
     "data": {
      "text/plain": [
       "Index(['misstate'], dtype='object')"
      ]
     },
     "execution_count": 13,
     "metadata": {},
     "output_type": "execute_result"
    },
    {
     "data": {
      "text/plain": [
       "Index(['Intercept', 'act', 'ap', 'at', 'ceq', 'che', 'cogs', 'csho', 'dlc',\n",
       "       'dltis', 'dltt', 'dp', 'ib', 'invt', 'ivao', 'ivst', 'lct', 'lt', 'ni',\n",
       "       'ppegt', 'pstk', 're', 'rect', 'sale', 'sstk', 'txp', 'txt', 'xint',\n",
       "       'prcc_f'],\n",
       "      dtype='object')"
      ]
     },
     "execution_count": 13,
     "metadata": {},
     "output_type": "execute_result"
    }
   ],
   "source": [
    "y_28.columns\n",
    "X_28.columns"
   ]
  },
  {
   "cell_type": "markdown",
   "id": "aa6c9cbb",
   "metadata": {
    "id": "aa6c9cbb"
   },
   "source": [
    "7. Fit the model"
   ]
  },
  {
   "cell_type": "code",
   "execution_count": 14,
   "id": "a89e64d9",
   "metadata": {
    "colab": {
     "base_uri": "https://localhost:8080/",
     "height": 866
    },
    "id": "a89e64d9",
    "outputId": "6f7cc756-90f7-46d9-c300-21e1b40dc1e7"
   },
   "outputs": [
    {
     "name": "stdout",
     "output_type": "stream",
     "text": [
      "Optimization terminated successfully.\n",
      "         Current function value: 0.041878\n",
      "         Iterations 9\n"
     ]
    },
    {
     "data": {
      "text/html": [
       "<table class=\"simpletable\">\n",
       "<caption>Logit Regression Results</caption>\n",
       "<tr>\n",
       "  <th>Dep. Variable:</th>       <td>misstate</td>     <th>  No. Observations:  </th>  <td>126483</td>  \n",
       "</tr>\n",
       "<tr>\n",
       "  <th>Model:</th>                 <td>Logit</td>      <th>  Df Residuals:      </th>  <td>126454</td>  \n",
       "</tr>\n",
       "<tr>\n",
       "  <th>Method:</th>                 <td>MLE</td>       <th>  Df Model:          </th>  <td>    28</td>  \n",
       "</tr>\n",
       "<tr>\n",
       "  <th>Date:</th>            <td>Fri, 01 Mar 2024</td> <th>  Pseudo R-squ.:     </th>  <td>0.01767</td> \n",
       "</tr>\n",
       "<tr>\n",
       "  <th>Time:</th>                <td>13:36:57</td>     <th>  Log-Likelihood:    </th> <td> -5296.8</td> \n",
       "</tr>\n",
       "<tr>\n",
       "  <th>converged:</th>             <td>True</td>       <th>  LL-Null:           </th> <td> -5392.1</td> \n",
       "</tr>\n",
       "<tr>\n",
       "  <th>Covariance Type:</th>     <td>nonrobust</td>    <th>  LLR p-value:       </th> <td>4.086e-26</td>\n",
       "</tr>\n",
       "</table>\n",
       "<table class=\"simpletable\">\n",
       "<tr>\n",
       "      <td></td>         <th>coef</th>     <th>std err</th>      <th>z</th>      <th>P>|z|</th>  <th>[0.025</th>    <th>0.975]</th>  \n",
       "</tr>\n",
       "<tr>\n",
       "  <th>Intercept</th> <td>   -5.0167</td> <td>    0.035</td> <td> -141.978</td> <td> 0.000</td> <td>   -5.086</td> <td>   -4.947</td>\n",
       "</tr>\n",
       "<tr>\n",
       "  <th>act</th>       <td>    0.0002</td> <td> 6.49e-05</td> <td>    3.360</td> <td> 0.001</td> <td> 9.09e-05</td> <td>    0.000</td>\n",
       "</tr>\n",
       "<tr>\n",
       "  <th>ap</th>        <td>    0.0003</td> <td> 6.64e-05</td> <td>    4.490</td> <td> 0.000</td> <td>    0.000</td> <td>    0.000</td>\n",
       "</tr>\n",
       "<tr>\n",
       "  <th>at</th>        <td>-6.578e-07</td> <td> 7.19e-05</td> <td>   -0.009</td> <td> 0.993</td> <td>   -0.000</td> <td>    0.000</td>\n",
       "</tr>\n",
       "<tr>\n",
       "  <th>ceq</th>       <td> 2.411e-05</td> <td> 7.29e-05</td> <td>    0.331</td> <td> 0.741</td> <td>   -0.000</td> <td>    0.000</td>\n",
       "</tr>\n",
       "<tr>\n",
       "  <th>che</th>       <td>   -0.0002</td> <td> 7.26e-05</td> <td>   -2.896</td> <td> 0.004</td> <td>   -0.000</td> <td> -6.8e-05</td>\n",
       "</tr>\n",
       "<tr>\n",
       "  <th>cogs</th>      <td> -2.82e-05</td> <td> 2.14e-05</td> <td>   -1.319</td> <td> 0.187</td> <td>-7.01e-05</td> <td> 1.37e-05</td>\n",
       "</tr>\n",
       "<tr>\n",
       "  <th>csho</th>      <td> 4.195e-05</td> <td>  2.3e-05</td> <td>    1.822</td> <td> 0.068</td> <td>-3.16e-06</td> <td> 8.71e-05</td>\n",
       "</tr>\n",
       "<tr>\n",
       "  <th>dlc</th>       <td>-7.837e-05</td> <td> 7.22e-05</td> <td>   -1.086</td> <td> 0.277</td> <td>   -0.000</td> <td>  6.3e-05</td>\n",
       "</tr>\n",
       "<tr>\n",
       "  <th>dltis</th>     <td> 1.371e-05</td> <td> 2.37e-05</td> <td>    0.579</td> <td> 0.562</td> <td>-3.27e-05</td> <td> 6.01e-05</td>\n",
       "</tr>\n",
       "<tr>\n",
       "  <th>dltt</th>      <td> 4.041e-05</td> <td> 4.01e-05</td> <td>    1.008</td> <td> 0.313</td> <td>-3.82e-05</td> <td>    0.000</td>\n",
       "</tr>\n",
       "<tr>\n",
       "  <th>dp</th>        <td>   -0.0002</td> <td>    0.000</td> <td>   -1.537</td> <td> 0.124</td> <td>   -0.000</td> <td> 5.33e-05</td>\n",
       "</tr>\n",
       "<tr>\n",
       "  <th>ib</th>        <td>-9.332e-05</td> <td>    0.000</td> <td>   -0.786</td> <td> 0.432</td> <td>   -0.000</td> <td>    0.000</td>\n",
       "</tr>\n",
       "<tr>\n",
       "  <th>invt</th>      <td>-9.922e-05</td> <td> 6.94e-05</td> <td>   -1.430</td> <td> 0.153</td> <td>   -0.000</td> <td> 3.67e-05</td>\n",
       "</tr>\n",
       "<tr>\n",
       "  <th>ivao</th>      <td>-1.974e-06</td> <td> 1.71e-05</td> <td>   -0.115</td> <td> 0.908</td> <td>-3.55e-05</td> <td> 3.16e-05</td>\n",
       "</tr>\n",
       "<tr>\n",
       "  <th>ivst</th>      <td>-5.899e-05</td> <td> 7.59e-05</td> <td>   -0.777</td> <td> 0.437</td> <td>   -0.000</td> <td> 8.98e-05</td>\n",
       "</tr>\n",
       "<tr>\n",
       "  <th>lct</th>       <td>   -0.0001</td> <td> 7.03e-05</td> <td>   -1.570</td> <td> 0.116</td> <td>   -0.000</td> <td> 2.74e-05</td>\n",
       "</tr>\n",
       "<tr>\n",
       "  <th>lt</th>        <td>-4.393e-05</td> <td> 7.89e-05</td> <td>   -0.557</td> <td> 0.578</td> <td>   -0.000</td> <td>    0.000</td>\n",
       "</tr>\n",
       "<tr>\n",
       "  <th>ni</th>        <td>-1.766e-05</td> <td>    0.000</td> <td>   -0.174</td> <td> 0.862</td> <td>   -0.000</td> <td>    0.000</td>\n",
       "</tr>\n",
       "<tr>\n",
       "  <th>ppegt</th>     <td>-2.009e-05</td> <td> 7.51e-06</td> <td>   -2.676</td> <td> 0.007</td> <td>-3.48e-05</td> <td>-5.38e-06</td>\n",
       "</tr>\n",
       "<tr>\n",
       "  <th>pstk</th>      <td>   -0.0001</td> <td>    0.000</td> <td>   -0.389</td> <td> 0.697</td> <td>   -0.001</td> <td>    0.000</td>\n",
       "</tr>\n",
       "<tr>\n",
       "  <th>re</th>        <td>-7.699e-06</td> <td> 7.47e-06</td> <td>   -1.030</td> <td> 0.303</td> <td>-2.23e-05</td> <td> 6.95e-06</td>\n",
       "</tr>\n",
       "<tr>\n",
       "  <th>rect</th>      <td>-8.394e-05</td> <td> 6.44e-05</td> <td>   -1.303</td> <td> 0.192</td> <td>   -0.000</td> <td> 4.23e-05</td>\n",
       "</tr>\n",
       "<tr>\n",
       "  <th>sale</th>      <td> 1.844e-05</td> <td>    2e-05</td> <td>    0.922</td> <td> 0.357</td> <td>-2.08e-05</td> <td> 5.77e-05</td>\n",
       "</tr>\n",
       "<tr>\n",
       "  <th>sstk</th>      <td>    0.0002</td> <td> 4.94e-05</td> <td>    4.230</td> <td> 0.000</td> <td>    0.000</td> <td>    0.000</td>\n",
       "</tr>\n",
       "<tr>\n",
       "  <th>txp</th>       <td> 3.215e-05</td> <td>    0.000</td> <td>    0.150</td> <td> 0.881</td> <td>   -0.000</td> <td>    0.000</td>\n",
       "</tr>\n",
       "<tr>\n",
       "  <th>txt</th>       <td>-1.766e-05</td> <td>    0.000</td> <td>   -0.145</td> <td> 0.885</td> <td>   -0.000</td> <td>    0.000</td>\n",
       "</tr>\n",
       "<tr>\n",
       "  <th>xint</th>      <td>    0.0012</td> <td>    0.000</td> <td>    5.096</td> <td> 0.000</td> <td>    0.001</td> <td>    0.002</td>\n",
       "</tr>\n",
       "<tr>\n",
       "  <th>prcc_f</th>    <td>    0.0009</td> <td>    0.000</td> <td>    4.246</td> <td> 0.000</td> <td>    0.001</td> <td>    0.001</td>\n",
       "</tr>\n",
       "</table>"
      ],
      "text/latex": [
       "\\begin{center}\n",
       "\\begin{tabular}{lclc}\n",
       "\\toprule\n",
       "\\textbf{Dep. Variable:}   &     misstate     & \\textbf{  No. Observations:  } &   126483    \\\\\n",
       "\\textbf{Model:}           &      Logit       & \\textbf{  Df Residuals:      } &   126454    \\\\\n",
       "\\textbf{Method:}          &       MLE        & \\textbf{  Df Model:          } &       28    \\\\\n",
       "\\textbf{Date:}            & Fri, 01 Mar 2024 & \\textbf{  Pseudo R-squ.:     } &  0.01767    \\\\\n",
       "\\textbf{Time:}            &     13:36:57     & \\textbf{  Log-Likelihood:    } &   -5296.8   \\\\\n",
       "\\textbf{converged:}       &       True       & \\textbf{  LL-Null:           } &   -5392.1   \\\\\n",
       "\\textbf{Covariance Type:} &    nonrobust     & \\textbf{  LLR p-value:       } & 4.086e-26   \\\\\n",
       "\\bottomrule\n",
       "\\end{tabular}\n",
       "\\begin{tabular}{lcccccc}\n",
       "                   & \\textbf{coef} & \\textbf{std err} & \\textbf{z} & \\textbf{P$> |$z$|$} & \\textbf{[0.025} & \\textbf{0.975]}  \\\\\n",
       "\\midrule\n",
       "\\textbf{Intercept} &      -5.0167  &        0.035     &  -141.978  &         0.000        &       -5.086    &       -4.947     \\\\\n",
       "\\textbf{act}       &       0.0002  &     6.49e-05     &     3.360  &         0.001        &     9.09e-05    &        0.000     \\\\\n",
       "\\textbf{ap}        &       0.0003  &     6.64e-05     &     4.490  &         0.000        &        0.000    &        0.000     \\\\\n",
       "\\textbf{at}        &   -6.578e-07  &     7.19e-05     &    -0.009  &         0.993        &       -0.000    &        0.000     \\\\\n",
       "\\textbf{ceq}       &    2.411e-05  &     7.29e-05     &     0.331  &         0.741        &       -0.000    &        0.000     \\\\\n",
       "\\textbf{che}       &      -0.0002  &     7.26e-05     &    -2.896  &         0.004        &       -0.000    &     -6.8e-05     \\\\\n",
       "\\textbf{cogs}      &    -2.82e-05  &     2.14e-05     &    -1.319  &         0.187        &    -7.01e-05    &     1.37e-05     \\\\\n",
       "\\textbf{csho}      &    4.195e-05  &      2.3e-05     &     1.822  &         0.068        &    -3.16e-06    &     8.71e-05     \\\\\n",
       "\\textbf{dlc}       &   -7.837e-05  &     7.22e-05     &    -1.086  &         0.277        &       -0.000    &      6.3e-05     \\\\\n",
       "\\textbf{dltis}     &    1.371e-05  &     2.37e-05     &     0.579  &         0.562        &    -3.27e-05    &     6.01e-05     \\\\\n",
       "\\textbf{dltt}      &    4.041e-05  &     4.01e-05     &     1.008  &         0.313        &    -3.82e-05    &        0.000     \\\\\n",
       "\\textbf{dp}        &      -0.0002  &        0.000     &    -1.537  &         0.124        &       -0.000    &     5.33e-05     \\\\\n",
       "\\textbf{ib}        &   -9.332e-05  &        0.000     &    -0.786  &         0.432        &       -0.000    &        0.000     \\\\\n",
       "\\textbf{invt}      &   -9.922e-05  &     6.94e-05     &    -1.430  &         0.153        &       -0.000    &     3.67e-05     \\\\\n",
       "\\textbf{ivao}      &   -1.974e-06  &     1.71e-05     &    -0.115  &         0.908        &    -3.55e-05    &     3.16e-05     \\\\\n",
       "\\textbf{ivst}      &   -5.899e-05  &     7.59e-05     &    -0.777  &         0.437        &       -0.000    &     8.98e-05     \\\\\n",
       "\\textbf{lct}       &      -0.0001  &     7.03e-05     &    -1.570  &         0.116        &       -0.000    &     2.74e-05     \\\\\n",
       "\\textbf{lt}        &   -4.393e-05  &     7.89e-05     &    -0.557  &         0.578        &       -0.000    &        0.000     \\\\\n",
       "\\textbf{ni}        &   -1.766e-05  &        0.000     &    -0.174  &         0.862        &       -0.000    &        0.000     \\\\\n",
       "\\textbf{ppegt}     &   -2.009e-05  &     7.51e-06     &    -2.676  &         0.007        &    -3.48e-05    &    -5.38e-06     \\\\\n",
       "\\textbf{pstk}      &      -0.0001  &        0.000     &    -0.389  &         0.697        &       -0.001    &        0.000     \\\\\n",
       "\\textbf{re}        &   -7.699e-06  &     7.47e-06     &    -1.030  &         0.303        &    -2.23e-05    &     6.95e-06     \\\\\n",
       "\\textbf{rect}      &   -8.394e-05  &     6.44e-05     &    -1.303  &         0.192        &       -0.000    &     4.23e-05     \\\\\n",
       "\\textbf{sale}      &    1.844e-05  &        2e-05     &     0.922  &         0.357        &    -2.08e-05    &     5.77e-05     \\\\\n",
       "\\textbf{sstk}      &       0.0002  &     4.94e-05     &     4.230  &         0.000        &        0.000    &        0.000     \\\\\n",
       "\\textbf{txp}       &    3.215e-05  &        0.000     &     0.150  &         0.881        &       -0.000    &        0.000     \\\\\n",
       "\\textbf{txt}       &   -1.766e-05  &        0.000     &    -0.145  &         0.885        &       -0.000    &        0.000     \\\\\n",
       "\\textbf{xint}      &       0.0012  &        0.000     &     5.096  &         0.000        &        0.001    &        0.002     \\\\\n",
       "\\textbf{prcc\\_f}   &       0.0009  &        0.000     &     4.246  &         0.000        &        0.001    &        0.001     \\\\\n",
       "\\bottomrule\n",
       "\\end{tabular}\n",
       "%\\caption{Logit Regression Results}\n",
       "\\end{center}"
      ],
      "text/plain": [
       "<class 'statsmodels.iolib.summary.Summary'>\n",
       "\"\"\"\n",
       "                           Logit Regression Results                           \n",
       "==============================================================================\n",
       "Dep. Variable:               misstate   No. Observations:               126483\n",
       "Model:                          Logit   Df Residuals:                   126454\n",
       "Method:                           MLE   Df Model:                           28\n",
       "Date:                Fri, 01 Mar 2024   Pseudo R-squ.:                 0.01767\n",
       "Time:                        13:36:57   Log-Likelihood:                -5296.8\n",
       "converged:                       True   LL-Null:                       -5392.1\n",
       "Covariance Type:            nonrobust   LLR p-value:                 4.086e-26\n",
       "==============================================================================\n",
       "                 coef    std err          z      P>|z|      [0.025      0.975]\n",
       "------------------------------------------------------------------------------\n",
       "Intercept     -5.0167      0.035   -141.978      0.000      -5.086      -4.947\n",
       "act            0.0002   6.49e-05      3.360      0.001    9.09e-05       0.000\n",
       "ap             0.0003   6.64e-05      4.490      0.000       0.000       0.000\n",
       "at         -6.578e-07   7.19e-05     -0.009      0.993      -0.000       0.000\n",
       "ceq         2.411e-05   7.29e-05      0.331      0.741      -0.000       0.000\n",
       "che           -0.0002   7.26e-05     -2.896      0.004      -0.000    -6.8e-05\n",
       "cogs        -2.82e-05   2.14e-05     -1.319      0.187   -7.01e-05    1.37e-05\n",
       "csho        4.195e-05    2.3e-05      1.822      0.068   -3.16e-06    8.71e-05\n",
       "dlc        -7.837e-05   7.22e-05     -1.086      0.277      -0.000     6.3e-05\n",
       "dltis       1.371e-05   2.37e-05      0.579      0.562   -3.27e-05    6.01e-05\n",
       "dltt        4.041e-05   4.01e-05      1.008      0.313   -3.82e-05       0.000\n",
       "dp            -0.0002      0.000     -1.537      0.124      -0.000    5.33e-05\n",
       "ib         -9.332e-05      0.000     -0.786      0.432      -0.000       0.000\n",
       "invt       -9.922e-05   6.94e-05     -1.430      0.153      -0.000    3.67e-05\n",
       "ivao       -1.974e-06   1.71e-05     -0.115      0.908   -3.55e-05    3.16e-05\n",
       "ivst       -5.899e-05   7.59e-05     -0.777      0.437      -0.000    8.98e-05\n",
       "lct           -0.0001   7.03e-05     -1.570      0.116      -0.000    2.74e-05\n",
       "lt         -4.393e-05   7.89e-05     -0.557      0.578      -0.000       0.000\n",
       "ni         -1.766e-05      0.000     -0.174      0.862      -0.000       0.000\n",
       "ppegt      -2.009e-05   7.51e-06     -2.676      0.007   -3.48e-05   -5.38e-06\n",
       "pstk          -0.0001      0.000     -0.389      0.697      -0.001       0.000\n",
       "re         -7.699e-06   7.47e-06     -1.030      0.303   -2.23e-05    6.95e-06\n",
       "rect       -8.394e-05   6.44e-05     -1.303      0.192      -0.000    4.23e-05\n",
       "sale        1.844e-05      2e-05      0.922      0.357   -2.08e-05    5.77e-05\n",
       "sstk           0.0002   4.94e-05      4.230      0.000       0.000       0.000\n",
       "txp         3.215e-05      0.000      0.150      0.881      -0.000       0.000\n",
       "txt        -1.766e-05      0.000     -0.145      0.885      -0.000       0.000\n",
       "xint           0.0012      0.000      5.096      0.000       0.001       0.002\n",
       "prcc_f         0.0009      0.000      4.246      0.000       0.001       0.001\n",
       "==============================================================================\n",
       "\"\"\""
      ]
     },
     "execution_count": 14,
     "metadata": {},
     "output_type": "execute_result"
    }
   ],
   "source": [
    "logit_model_28 = sm.Logit(y_28['misstate'], X_28[['Intercept', 'act', 'ap', 'at', 'ceq', 'che', 'cogs', 'csho', 'dlc',\n",
    "       'dltis', 'dltt', 'dp', 'ib', 'invt', 'ivao', 'ivst', 'lct', 'lt', 'ni',\n",
    "       'ppegt', 'pstk', 're', 'rect', 'sale', 'sstk', 'txp', 'txt', 'xint',\n",
    "       'prcc_f']])\n",
    "logit_res_28 =  logit_model_28.fit()\n",
    "logit_res_28.summary()"
   ]
  },
  {
   "cell_type": "markdown",
   "id": "31LdaAnb1vZ3",
   "metadata": {
    "id": "31LdaAnb1vZ3"
   },
   "source": [
    "Significant Variables (p < 0.05): act, ap, che, cogs, dlc, invt, sstk, rect, xint, prcc_f\n",
    "\n",
    "Not Significant Variables (p >= 0.05): at, ceq, csho, dltis, dltt, dp, ib, ivao, ivst, lct, lt, ni, ppegt, pstk, re, txt, txp"
   ]
  },
  {
   "cell_type": "markdown",
   "id": "348d1740",
   "metadata": {
    "id": "348d1740"
   },
   "source": [
    "8. Make the predictions for probabilities and classify."
   ]
  },
  {
   "cell_type": "code",
   "execution_count": 15,
   "id": "06bd2ff2",
   "metadata": {
    "colab": {
     "base_uri": "https://localhost:8080/"
    },
    "id": "06bd2ff2",
    "outputId": "153d06ca-c7eb-498d-f3c4-2a4ec1b087a4"
   },
   "outputs": [
    {
     "data": {
      "text/plain": [
       "0         0.006640\n",
       "1         0.006598\n",
       "2         0.006643\n",
       "3         0.006615\n",
       "4         0.006595\n",
       "            ...   \n",
       "146039    0.008112\n",
       "146040    0.007419\n",
       "146041    0.010544\n",
       "146042    0.007738\n",
       "146044    0.006930\n",
       "Length: 126483, dtype: float64"
      ]
     },
     "execution_count": 15,
     "metadata": {},
     "output_type": "execute_result"
    }
   ],
   "source": [
    "predicted_28 = logit_res_28.predict(X_28)\n",
    "predicted_28"
   ]
  },
  {
   "cell_type": "code",
   "execution_count": 16,
   "id": "lr6VS4RDpRBT",
   "metadata": {
    "colab": {
     "base_uri": "https://localhost:8080/"
    },
    "id": "lr6VS4RDpRBT",
    "outputId": "bbfbdf44-923e-4f92-8925-3d6ea43dcaa2"
   },
   "outputs": [
    {
     "data": {
      "text/plain": [
       "0         0\n",
       "1         0\n",
       "2         0\n",
       "3         0\n",
       "4         0\n",
       "         ..\n",
       "111354    0\n",
       "111355    0\n",
       "111356    0\n",
       "111357    0\n",
       "111358    0\n",
       "Length: 97613, dtype: int64"
      ]
     },
     "execution_count": 16,
     "metadata": {},
     "output_type": "execute_result"
    }
   ],
   "source": [
    "predicted_classes_28 = (predicted_28 >= 0.5).astype(int)\n",
    "predicted_classes_28[:97613]"
   ]
  },
  {
   "cell_type": "markdown",
   "id": "a8887732",
   "metadata": {
    "id": "a8887732"
   },
   "source": [
    "9. Calculate the accuracy rate."
   ]
  },
  {
   "cell_type": "code",
   "execution_count": 17,
   "id": "fc7e143e",
   "metadata": {
    "id": "fc7e143e"
   },
   "outputs": [],
   "source": [
    "from sklearn.model_selection import train_test_split\n",
    "from sklearn.metrics import accuracy_score, classification_report, confusion_matrix\n",
    "\n",
    "accuracy_28 = accuracy_score(y_28['misstate'], predicted_classes_28)\n",
    "conf_matrix_28 = confusion_matrix(y_28['misstate'], predicted_classes_28)\n",
    "classification_report_str_28 = classification_report(y_28['misstate'], predicted_classes_28)"
   ]
  },
  {
   "cell_type": "code",
   "execution_count": 18,
   "id": "CyYgzlwvpjq2",
   "metadata": {
    "colab": {
     "base_uri": "https://localhost:8080/"
    },
    "id": "CyYgzlwvpjq2",
    "outputId": "8e9cbbd9-dcc6-4165-cc19-d13ae3a608ea"
   },
   "outputs": [
    {
     "name": "stdout",
     "output_type": "stream",
     "text": [
      "0.9927974510408514\n",
      "[[125568      6]\n",
      " [   905      4]]\n",
      "              precision    recall  f1-score   support\n",
      "\n",
      "         0.0       0.99      1.00      1.00    125574\n",
      "         1.0       0.40      0.00      0.01       909\n",
      "\n",
      "    accuracy                           0.99    126483\n",
      "   macro avg       0.70      0.50      0.50    126483\n",
      "weighted avg       0.99      0.99      0.99    126483\n",
      "\n"
     ]
    }
   ],
   "source": [
    "print(accuracy_28)\n",
    "print(conf_matrix_28)\n",
    "print(classification_report_str_28)"
   ]
  },
  {
   "cell_type": "code",
   "execution_count": null,
   "id": "tndpTvAK0Oip",
   "metadata": {
    "id": "tndpTvAK0Oip"
   },
   "outputs": [],
   "source": []
  },
  {
   "cell_type": "markdown",
   "id": "HekZf9Mo2Z-U",
   "metadata": {
    "id": "HekZf9Mo2Z-U"
   },
   "source": [
    "The model achieved a high accuracy of approximately 99.15%. It correctly predicted 84,983 instances as negative (TN), but incorrectly classified 728 instances as negative when they were positive (FN). There were no instances correctly predicted as positive (TP) or incorrectly predicted as positive (FP). Precision and recall were high for the majority class (class 0), but the model performed poorly for the minority class (class 1), with zero precision, recall, and F1-score"
   ]
  },
  {
   "cell_type": "markdown",
   "id": "2c3e37ea",
   "metadata": {
    "id": "2c3e37ea"
   },
   "source": [
    "10. Repeat 6-9 using the 14 financial ratio variables."
   ]
  },
  {
   "cell_type": "code",
   "execution_count": 19,
   "id": "ynQCMIwLsj6y",
   "metadata": {
    "colab": {
     "base_uri": "https://localhost:8080/",
     "height": 391
    },
    "id": "ynQCMIwLsj6y",
    "outputId": "37abceff-d43a-4f41-ab99-251d480c330e"
   },
   "outputs": [
    {
     "data": {
      "text/html": [
       "<div>\n",
       "<style scoped>\n",
       "    .dataframe tbody tr th:only-of-type {\n",
       "        vertical-align: middle;\n",
       "    }\n",
       "\n",
       "    .dataframe tbody tr th {\n",
       "        vertical-align: top;\n",
       "    }\n",
       "\n",
       "    .dataframe thead th {\n",
       "        text-align: right;\n",
       "    }\n",
       "</style>\n",
       "<table border=\"1\" class=\"dataframe\">\n",
       "  <thead>\n",
       "    <tr style=\"text-align: right;\">\n",
       "      <th></th>\n",
       "      <th>misstate</th>\n",
       "    </tr>\n",
       "  </thead>\n",
       "  <tbody>\n",
       "    <tr>\n",
       "      <th>0</th>\n",
       "      <td>0.0</td>\n",
       "    </tr>\n",
       "    <tr>\n",
       "      <th>1</th>\n",
       "      <td>0.0</td>\n",
       "    </tr>\n",
       "    <tr>\n",
       "      <th>2</th>\n",
       "      <td>0.0</td>\n",
       "    </tr>\n",
       "    <tr>\n",
       "      <th>3</th>\n",
       "      <td>0.0</td>\n",
       "    </tr>\n",
       "    <tr>\n",
       "      <th>4</th>\n",
       "      <td>0.0</td>\n",
       "    </tr>\n",
       "  </tbody>\n",
       "</table>\n",
       "</div>"
      ],
      "text/plain": [
       "   misstate\n",
       "0       0.0\n",
       "1       0.0\n",
       "2       0.0\n",
       "3       0.0\n",
       "4       0.0"
      ]
     },
     "execution_count": 19,
     "metadata": {},
     "output_type": "execute_result"
    },
    {
     "data": {
      "text/html": [
       "<div>\n",
       "<style scoped>\n",
       "    .dataframe tbody tr th:only-of-type {\n",
       "        vertical-align: middle;\n",
       "    }\n",
       "\n",
       "    .dataframe tbody tr th {\n",
       "        vertical-align: top;\n",
       "    }\n",
       "\n",
       "    .dataframe thead th {\n",
       "        text-align: right;\n",
       "    }\n",
       "</style>\n",
       "<table border=\"1\" class=\"dataframe\">\n",
       "  <thead>\n",
       "    <tr style=\"text-align: right;\">\n",
       "      <th></th>\n",
       "      <th>Intercept</th>\n",
       "      <th>dch_wc</th>\n",
       "      <th>ch_rsst</th>\n",
       "      <th>dch_rec</th>\n",
       "      <th>dch_inv</th>\n",
       "      <th>soft_assets</th>\n",
       "      <th>dpi</th>\n",
       "      <th>ch_cs</th>\n",
       "      <th>ch_cm</th>\n",
       "      <th>ch_roa</th>\n",
       "      <th>ch_fcf</th>\n",
       "      <th>reoa</th>\n",
       "      <th>EBIT</th>\n",
       "      <th>issue</th>\n",
       "      <th>bm</th>\n",
       "    </tr>\n",
       "  </thead>\n",
       "  <tbody>\n",
       "    <tr>\n",
       "      <th>0</th>\n",
       "      <td>1.0</td>\n",
       "      <td>0.069595</td>\n",
       "      <td>0.046043</td>\n",
       "      <td>0.041935</td>\n",
       "      <td>0.033034</td>\n",
       "      <td>0.312448</td>\n",
       "      <td>0.873555</td>\n",
       "      <td>0.095082</td>\n",
       "      <td>0.082631</td>\n",
       "      <td>-0.019761</td>\n",
       "      <td>-0.042140</td>\n",
       "      <td>0.167620</td>\n",
       "      <td>0.161961</td>\n",
       "      <td>1.0</td>\n",
       "      <td>0.413170</td>\n",
       "    </tr>\n",
       "    <tr>\n",
       "      <th>1</th>\n",
       "      <td>1.0</td>\n",
       "      <td>-0.065604</td>\n",
       "      <td>-0.240937</td>\n",
       "      <td>-0.006248</td>\n",
       "      <td>-0.026684</td>\n",
       "      <td>0.315904</td>\n",
       "      <td>0.745139</td>\n",
       "      <td>0.188832</td>\n",
       "      <td>-0.211389</td>\n",
       "      <td>-0.117832</td>\n",
       "      <td>0.100228</td>\n",
       "      <td>-0.428957</td>\n",
       "      <td>-0.157888</td>\n",
       "      <td>1.0</td>\n",
       "      <td>0.157887</td>\n",
       "    </tr>\n",
       "    <tr>\n",
       "      <th>2</th>\n",
       "      <td>1.0</td>\n",
       "      <td>0.092822</td>\n",
       "      <td>0.020143</td>\n",
       "      <td>0.002156</td>\n",
       "      <td>0.002746</td>\n",
       "      <td>0.605342</td>\n",
       "      <td>1.015131</td>\n",
       "      <td>0.097551</td>\n",
       "      <td>-0.105780</td>\n",
       "      <td>0.091206</td>\n",
       "      <td>0.066348</td>\n",
       "      <td>0.394768</td>\n",
       "      <td>0.063681</td>\n",
       "      <td>1.0</td>\n",
       "      <td>2.231337</td>\n",
       "    </tr>\n",
       "    <tr>\n",
       "      <th>3</th>\n",
       "      <td>1.0</td>\n",
       "      <td>0.014060</td>\n",
       "      <td>0.035120</td>\n",
       "      <td>0.035583</td>\n",
       "      <td>0.008332</td>\n",
       "      <td>0.793068</td>\n",
       "      <td>1.026261</td>\n",
       "      <td>-0.005725</td>\n",
       "      <td>-0.249704</td>\n",
       "      <td>0.017545</td>\n",
       "      <td>-0.017358</td>\n",
       "      <td>0.094822</td>\n",
       "      <td>0.088347</td>\n",
       "      <td>1.0</td>\n",
       "      <td>1.043582</td>\n",
       "    </tr>\n",
       "    <tr>\n",
       "      <th>4</th>\n",
       "      <td>1.0</td>\n",
       "      <td>-0.540503</td>\n",
       "      <td>-0.575325</td>\n",
       "      <td>-0.102153</td>\n",
       "      <td>-0.222022</td>\n",
       "      <td>0.869182</td>\n",
       "      <td>0.598443</td>\n",
       "      <td>-0.231536</td>\n",
       "      <td>-1.674893</td>\n",
       "      <td>-0.466667</td>\n",
       "      <td>0.130349</td>\n",
       "      <td>-0.942379</td>\n",
       "      <td>-0.700821</td>\n",
       "      <td>0.0</td>\n",
       "      <td>-1.602508</td>\n",
       "    </tr>\n",
       "  </tbody>\n",
       "</table>\n",
       "</div>"
      ],
      "text/plain": [
       "   Intercept    dch_wc   ch_rsst   dch_rec   dch_inv  soft_assets       dpi  \\\n",
       "0        1.0  0.069595  0.046043  0.041935  0.033034     0.312448  0.873555   \n",
       "1        1.0 -0.065604 -0.240937 -0.006248 -0.026684     0.315904  0.745139   \n",
       "2        1.0  0.092822  0.020143  0.002156  0.002746     0.605342  1.015131   \n",
       "3        1.0  0.014060  0.035120  0.035583  0.008332     0.793068  1.026261   \n",
       "4        1.0 -0.540503 -0.575325 -0.102153 -0.222022     0.869182  0.598443   \n",
       "\n",
       "      ch_cs     ch_cm    ch_roa    ch_fcf      reoa      EBIT  issue        bm  \n",
       "0  0.095082  0.082631 -0.019761 -0.042140  0.167620  0.161961    1.0  0.413170  \n",
       "1  0.188832 -0.211389 -0.117832  0.100228 -0.428957 -0.157888    1.0  0.157887  \n",
       "2  0.097551 -0.105780  0.091206  0.066348  0.394768  0.063681    1.0  2.231337  \n",
       "3 -0.005725 -0.249704  0.017545 -0.017358  0.094822  0.088347    1.0  1.043582  \n",
       "4 -0.231536 -1.674893 -0.466667  0.130349 -0.942379 -0.700821    0.0 -1.602508  "
      ]
     },
     "execution_count": 19,
     "metadata": {},
     "output_type": "execute_result"
    }
   ],
   "source": [
    "import patsy\n",
    "y_14, X_14 = patsy.dmatrices('misstate ~ dch_wc + ch_rsst + dch_rec + dch_inv + soft_assets +dpi+ '\n",
    "           'ch_cs + ch_cm + ch_roa+ch_fcf+reoa+EBIT + issue+bm',\n",
    "                      data = fraud,\n",
    "                      return_type = 'dataframe')\n",
    "y_14.head()\n",
    "X_14.head()\n"
   ]
  },
  {
   "cell_type": "code",
   "execution_count": 20,
   "id": "Nqo0MygHu3aB",
   "metadata": {
    "colab": {
     "base_uri": "https://localhost:8080/"
    },
    "id": "Nqo0MygHu3aB",
    "outputId": "547131aa-3f6a-45dd-b6bb-39fbf7f5afb4"
   },
   "outputs": [
    {
     "data": {
      "text/plain": [
       "Index(['misstate'], dtype='object')"
      ]
     },
     "execution_count": 20,
     "metadata": {},
     "output_type": "execute_result"
    },
    {
     "data": {
      "text/plain": [
       "Index(['Intercept', 'dch_wc', 'ch_rsst', 'dch_rec', 'dch_inv', 'soft_assets',\n",
       "       'dpi', 'ch_cs', 'ch_cm', 'ch_roa', 'ch_fcf', 'reoa', 'EBIT', 'issue',\n",
       "       'bm'],\n",
       "      dtype='object')"
      ]
     },
     "execution_count": 20,
     "metadata": {},
     "output_type": "execute_result"
    }
   ],
   "source": [
    "y_14.columns\n",
    "X_14.columns"
   ]
  },
  {
   "cell_type": "code",
   "execution_count": 21,
   "id": "A4Xe-Dw4uFde",
   "metadata": {
    "colab": {
     "base_uri": "https://localhost:8080/",
     "height": 572
    },
    "id": "A4Xe-Dw4uFde",
    "outputId": "e61bbec9-02ca-48ff-a609-b82e8f7a3e70"
   },
   "outputs": [
    {
     "name": "stdout",
     "output_type": "stream",
     "text": [
      "Optimization terminated successfully.\n",
      "         Current function value: 0.040796\n",
      "         Iterations 12\n"
     ]
    },
    {
     "data": {
      "text/html": [
       "<table class=\"simpletable\">\n",
       "<caption>Logit Regression Results</caption>\n",
       "<tr>\n",
       "  <th>Dep. Variable:</th>       <td>misstate</td>     <th>  No. Observations:  </th>  <td>126483</td>  \n",
       "</tr>\n",
       "<tr>\n",
       "  <th>Model:</th>                 <td>Logit</td>      <th>  Df Residuals:      </th>  <td>126468</td>  \n",
       "</tr>\n",
       "<tr>\n",
       "  <th>Method:</th>                 <td>MLE</td>       <th>  Df Model:          </th>  <td>    14</td>  \n",
       "</tr>\n",
       "<tr>\n",
       "  <th>Date:</th>            <td>Fri, 01 Mar 2024</td> <th>  Pseudo R-squ.:     </th>  <td>0.04303</td> \n",
       "</tr>\n",
       "<tr>\n",
       "  <th>Time:</th>                <td>13:36:58</td>     <th>  Log-Likelihood:    </th> <td> -5160.1</td> \n",
       "</tr>\n",
       "<tr>\n",
       "  <th>converged:</th>             <td>True</td>       <th>  LL-Null:           </th> <td> -5392.1</td> \n",
       "</tr>\n",
       "<tr>\n",
       "  <th>Covariance Type:</th>     <td>nonrobust</td>    <th>  LLR p-value:       </th> <td>3.716e-90</td>\n",
       "</tr>\n",
       "</table>\n",
       "<table class=\"simpletable\">\n",
       "<tr>\n",
       "       <td></td>          <th>coef</th>     <th>std err</th>      <th>z</th>      <th>P>|z|</th>  <th>[0.025</th>    <th>0.975]</th>  \n",
       "</tr>\n",
       "<tr>\n",
       "  <th>Intercept</th>   <td>   -7.1554</td> <td>    0.222</td> <td>  -32.176</td> <td> 0.000</td> <td>   -7.591</td> <td>   -6.720</td>\n",
       "</tr>\n",
       "<tr>\n",
       "  <th>dch_wc</th>      <td>   -0.9463</td> <td>    0.366</td> <td>   -2.586</td> <td> 0.010</td> <td>   -1.663</td> <td>   -0.229</td>\n",
       "</tr>\n",
       "<tr>\n",
       "  <th>ch_rsst</th>     <td>    0.9744</td> <td>    0.283</td> <td>    3.446</td> <td> 0.001</td> <td>    0.420</td> <td>    1.529</td>\n",
       "</tr>\n",
       "<tr>\n",
       "  <th>dch_rec</th>     <td>    2.0044</td> <td>    0.464</td> <td>    4.318</td> <td> 0.000</td> <td>    1.095</td> <td>    2.914</td>\n",
       "</tr>\n",
       "<tr>\n",
       "  <th>dch_inv</th>     <td>    1.2629</td> <td>    0.640</td> <td>    1.973</td> <td> 0.048</td> <td>    0.009</td> <td>    2.517</td>\n",
       "</tr>\n",
       "<tr>\n",
       "  <th>soft_assets</th> <td>    1.8892</td> <td>    0.149</td> <td>   12.680</td> <td> 0.000</td> <td>    1.597</td> <td>    2.181</td>\n",
       "</tr>\n",
       "<tr>\n",
       "  <th>dpi</th>         <td>    0.0457</td> <td>    0.077</td> <td>    0.591</td> <td> 0.555</td> <td>   -0.106</td> <td>    0.197</td>\n",
       "</tr>\n",
       "<tr>\n",
       "  <th>ch_cs</th>       <td>    0.0576</td> <td>    0.026</td> <td>    2.215</td> <td> 0.027</td> <td>    0.007</td> <td>    0.108</td>\n",
       "</tr>\n",
       "<tr>\n",
       "  <th>ch_cm</th>       <td>   -0.0024</td> <td>    0.015</td> <td>   -0.163</td> <td> 0.870</td> <td>   -0.031</td> <td>    0.026</td>\n",
       "</tr>\n",
       "<tr>\n",
       "  <th>ch_roa</th>      <td>   -0.5019</td> <td>    0.218</td> <td>   -2.307</td> <td> 0.021</td> <td>   -0.928</td> <td>   -0.075</td>\n",
       "</tr>\n",
       "<tr>\n",
       "  <th>ch_fcf</th>      <td>    0.4192</td> <td>    0.237</td> <td>    1.768</td> <td> 0.077</td> <td>   -0.046</td> <td>    0.884</td>\n",
       "</tr>\n",
       "<tr>\n",
       "  <th>reoa</th>        <td>    0.2432</td> <td>    0.040</td> <td>    6.075</td> <td> 0.000</td> <td>    0.165</td> <td>    0.322</td>\n",
       "</tr>\n",
       "<tr>\n",
       "  <th>EBIT</th>        <td>   -0.4304</td> <td>    0.138</td> <td>   -3.125</td> <td> 0.002</td> <td>   -0.700</td> <td>   -0.160</td>\n",
       "</tr>\n",
       "<tr>\n",
       "  <th>issue</th>       <td>    1.2184</td> <td>    0.184</td> <td>    6.630</td> <td> 0.000</td> <td>    0.858</td> <td>    1.579</td>\n",
       "</tr>\n",
       "<tr>\n",
       "  <th>bm</th>          <td>   -0.0688</td> <td>    0.033</td> <td>   -2.083</td> <td> 0.037</td> <td>   -0.134</td> <td>   -0.004</td>\n",
       "</tr>\n",
       "</table>"
      ],
      "text/latex": [
       "\\begin{center}\n",
       "\\begin{tabular}{lclc}\n",
       "\\toprule\n",
       "\\textbf{Dep. Variable:}   &     misstate     & \\textbf{  No. Observations:  } &   126483    \\\\\n",
       "\\textbf{Model:}           &      Logit       & \\textbf{  Df Residuals:      } &   126468    \\\\\n",
       "\\textbf{Method:}          &       MLE        & \\textbf{  Df Model:          } &       14    \\\\\n",
       "\\textbf{Date:}            & Fri, 01 Mar 2024 & \\textbf{  Pseudo R-squ.:     } &  0.04303    \\\\\n",
       "\\textbf{Time:}            &     13:36:58     & \\textbf{  Log-Likelihood:    } &   -5160.1   \\\\\n",
       "\\textbf{converged:}       &       True       & \\textbf{  LL-Null:           } &   -5392.1   \\\\\n",
       "\\textbf{Covariance Type:} &    nonrobust     & \\textbf{  LLR p-value:       } & 3.716e-90   \\\\\n",
       "\\bottomrule\n",
       "\\end{tabular}\n",
       "\\begin{tabular}{lcccccc}\n",
       "                      & \\textbf{coef} & \\textbf{std err} & \\textbf{z} & \\textbf{P$> |$z$|$} & \\textbf{[0.025} & \\textbf{0.975]}  \\\\\n",
       "\\midrule\n",
       "\\textbf{Intercept}    &      -7.1554  &        0.222     &   -32.176  &         0.000        &       -7.591    &       -6.720     \\\\\n",
       "\\textbf{dch\\_wc}      &      -0.9463  &        0.366     &    -2.586  &         0.010        &       -1.663    &       -0.229     \\\\\n",
       "\\textbf{ch\\_rsst}     &       0.9744  &        0.283     &     3.446  &         0.001        &        0.420    &        1.529     \\\\\n",
       "\\textbf{dch\\_rec}     &       2.0044  &        0.464     &     4.318  &         0.000        &        1.095    &        2.914     \\\\\n",
       "\\textbf{dch\\_inv}     &       1.2629  &        0.640     &     1.973  &         0.048        &        0.009    &        2.517     \\\\\n",
       "\\textbf{soft\\_assets} &       1.8892  &        0.149     &    12.680  &         0.000        &        1.597    &        2.181     \\\\\n",
       "\\textbf{dpi}          &       0.0457  &        0.077     &     0.591  &         0.555        &       -0.106    &        0.197     \\\\\n",
       "\\textbf{ch\\_cs}       &       0.0576  &        0.026     &     2.215  &         0.027        &        0.007    &        0.108     \\\\\n",
       "\\textbf{ch\\_cm}       &      -0.0024  &        0.015     &    -0.163  &         0.870        &       -0.031    &        0.026     \\\\\n",
       "\\textbf{ch\\_roa}      &      -0.5019  &        0.218     &    -2.307  &         0.021        &       -0.928    &       -0.075     \\\\\n",
       "\\textbf{ch\\_fcf}      &       0.4192  &        0.237     &     1.768  &         0.077        &       -0.046    &        0.884     \\\\\n",
       "\\textbf{reoa}         &       0.2432  &        0.040     &     6.075  &         0.000        &        0.165    &        0.322     \\\\\n",
       "\\textbf{EBIT}         &      -0.4304  &        0.138     &    -3.125  &         0.002        &       -0.700    &       -0.160     \\\\\n",
       "\\textbf{issue}        &       1.2184  &        0.184     &     6.630  &         0.000        &        0.858    &        1.579     \\\\\n",
       "\\textbf{bm}           &      -0.0688  &        0.033     &    -2.083  &         0.037        &       -0.134    &       -0.004     \\\\\n",
       "\\bottomrule\n",
       "\\end{tabular}\n",
       "%\\caption{Logit Regression Results}\n",
       "\\end{center}"
      ],
      "text/plain": [
       "<class 'statsmodels.iolib.summary.Summary'>\n",
       "\"\"\"\n",
       "                           Logit Regression Results                           \n",
       "==============================================================================\n",
       "Dep. Variable:               misstate   No. Observations:               126483\n",
       "Model:                          Logit   Df Residuals:                   126468\n",
       "Method:                           MLE   Df Model:                           14\n",
       "Date:                Fri, 01 Mar 2024   Pseudo R-squ.:                 0.04303\n",
       "Time:                        13:36:58   Log-Likelihood:                -5160.1\n",
       "converged:                       True   LL-Null:                       -5392.1\n",
       "Covariance Type:            nonrobust   LLR p-value:                 3.716e-90\n",
       "===============================================================================\n",
       "                  coef    std err          z      P>|z|      [0.025      0.975]\n",
       "-------------------------------------------------------------------------------\n",
       "Intercept      -7.1554      0.222    -32.176      0.000      -7.591      -6.720\n",
       "dch_wc         -0.9463      0.366     -2.586      0.010      -1.663      -0.229\n",
       "ch_rsst         0.9744      0.283      3.446      0.001       0.420       1.529\n",
       "dch_rec         2.0044      0.464      4.318      0.000       1.095       2.914\n",
       "dch_inv         1.2629      0.640      1.973      0.048       0.009       2.517\n",
       "soft_assets     1.8892      0.149     12.680      0.000       1.597       2.181\n",
       "dpi             0.0457      0.077      0.591      0.555      -0.106       0.197\n",
       "ch_cs           0.0576      0.026      2.215      0.027       0.007       0.108\n",
       "ch_cm          -0.0024      0.015     -0.163      0.870      -0.031       0.026\n",
       "ch_roa         -0.5019      0.218     -2.307      0.021      -0.928      -0.075\n",
       "ch_fcf          0.4192      0.237      1.768      0.077      -0.046       0.884\n",
       "reoa            0.2432      0.040      6.075      0.000       0.165       0.322\n",
       "EBIT           -0.4304      0.138     -3.125      0.002      -0.700      -0.160\n",
       "issue           1.2184      0.184      6.630      0.000       0.858       1.579\n",
       "bm             -0.0688      0.033     -2.083      0.037      -0.134      -0.004\n",
       "===============================================================================\n",
       "\"\"\""
      ]
     },
     "execution_count": 21,
     "metadata": {},
     "output_type": "execute_result"
    }
   ],
   "source": [
    "logit_model_14 = sm.Logit(y_14['misstate'], X_14[['Intercept', 'dch_wc', 'ch_rsst', 'dch_rec', 'dch_inv', 'soft_assets',\n",
    "       'dpi', 'ch_cs', 'ch_cm', 'ch_roa', 'ch_fcf', 'reoa', 'EBIT', 'issue',\n",
    "       'bm']])\n",
    "logit_res_14 =  logit_model_14.fit()\n",
    "logit_res_14.summary()"
   ]
  },
  {
   "cell_type": "markdown",
   "id": "tz8zQrVb138r",
   "metadata": {
    "id": "tz8zQrVb138r"
   },
   "source": [
    "Significant Variables (p < 0.05): ch_rsst, dch_rec, soft_assets, reoa, EBIT, issue\n",
    "\n",
    "Not Significant Variables (p >= 0.05): dch_wc, dch_inv, dpi, ch_cs, ch_cm, ch_roa, ch_fcf, bm"
   ]
  },
  {
   "cell_type": "code",
   "execution_count": 22,
   "id": "QnPb5e3KvWlI",
   "metadata": {
    "colab": {
     "base_uri": "https://localhost:8080/"
    },
    "id": "QnPb5e3KvWlI",
    "outputId": "476afd7d-5620-4e58-f4e0-69e137b64575"
   },
   "outputs": [
    {
     "data": {
      "text/plain": [
       "0         0.005159\n",
       "1         0.004236\n",
       "2         0.007358\n",
       "3         0.012228\n",
       "4         0.003841\n",
       "            ...   \n",
       "146039    0.001856\n",
       "146040    0.012347\n",
       "146041    0.013226\n",
       "146042    0.010997\n",
       "146044    0.003742\n",
       "Length: 126483, dtype: float64"
      ]
     },
     "execution_count": 22,
     "metadata": {},
     "output_type": "execute_result"
    }
   ],
   "source": [
    "predicted_14 = logit_res_14.predict(X_14)\n",
    "predicted_14"
   ]
  },
  {
   "cell_type": "code",
   "execution_count": 23,
   "id": "VkkGAhBFva_K",
   "metadata": {
    "colab": {
     "base_uri": "https://localhost:8080/"
    },
    "id": "VkkGAhBFva_K",
    "outputId": "22e7e2a0-04a1-49b1-b35c-ce9656d37ddd"
   },
   "outputs": [
    {
     "data": {
      "text/plain": [
       "0         0\n",
       "1         0\n",
       "2         0\n",
       "3         0\n",
       "4         0\n",
       "         ..\n",
       "111354    0\n",
       "111355    0\n",
       "111356    0\n",
       "111357    0\n",
       "111358    0\n",
       "Length: 97613, dtype: int64"
      ]
     },
     "execution_count": 23,
     "metadata": {},
     "output_type": "execute_result"
    }
   ],
   "source": [
    "predicted_classes_14 = (predicted_14 >= 0.5).astype(int)\n",
    "predicted_classes_14[:97613]"
   ]
  },
  {
   "cell_type": "code",
   "execution_count": 24,
   "id": "0jfFimMivk1a",
   "metadata": {
    "colab": {
     "base_uri": "https://localhost:8080/"
    },
    "id": "0jfFimMivk1a",
    "outputId": "9154a055-efda-4865-ce96-e037f7208256"
   },
   "outputs": [
    {
     "name": "stdout",
     "output_type": "stream",
     "text": [
      "Accuracy: 0.992813263442518\n",
      "Confusion Matrix: [[125574      0]\n",
      " [   909      0]]\n",
      "Classification Report:               precision    recall  f1-score   support\n",
      "\n",
      "         0.0       0.99      1.00      1.00    125574\n",
      "         1.0       1.00      0.00      0.00       909\n",
      "\n",
      "    accuracy                           0.99    126483\n",
      "   macro avg       1.00      0.50      0.50    126483\n",
      "weighted avg       0.99      0.99      0.99    126483\n",
      "\n"
     ]
    }
   ],
   "source": [
    "from sklearn.metrics import accuracy_score, classification_report, confusion_matrix\n",
    "\n",
    "# Assuming y_14 and predicted_classes_14 are defined elsewhere\n",
    "accuracy_14 = accuracy_score(y_14['misstate'], predicted_classes_14)\n",
    "conf_matrix_14 = confusion_matrix(y_14['misstate'], predicted_classes_14)\n",
    "\n",
    "classification_report_str_14 = classification_report(y_14['misstate'], predicted_classes_14, zero_division=1)\n",
    "\n",
    "\n",
    "# Optionally, print or use these metrics as needed\n",
    "print(\"Accuracy:\", accuracy_14)\n",
    "print(\"Confusion Matrix:\", conf_matrix_14)\n",
    "print(\"Classification Report:\", classification_report_str_14)"
   ]
  },
  {
   "cell_type": "code",
   "execution_count": null,
   "id": "A760A399z7pl",
   "metadata": {
    "id": "A760A399z7pl"
   },
   "outputs": [],
   "source": []
  },
  {
   "cell_type": "markdown",
   "id": "gVWgEXOD2m8C",
   "metadata": {
    "id": "gVWgEXOD2m8C"
   },
   "source": [
    "The model achieved 99.15% accuracy, mostly identifying negative cases correctly but struggling with positive ones. It didn't predict any positive cases accurately, indicating an imbalance issue that needs addressing."
   ]
  },
  {
   "cell_type": "markdown",
   "id": "049c655a",
   "metadata": {
    "id": "049c655a"
   },
   "source": [
    "11. Repeat 6-9 using all 42 (28+14) variables. Which model gives the best accuracy rate?"
   ]
  },
  {
   "cell_type": "code",
   "execution_count": 25,
   "id": "e7c78526",
   "metadata": {
    "colab": {
     "base_uri": "https://localhost:8080/",
     "height": 440
    },
    "id": "e7c78526",
    "outputId": "ba43ee2c-459d-49a5-80f3-155c88b600a2"
   },
   "outputs": [
    {
     "data": {
      "text/html": [
       "<div>\n",
       "<style scoped>\n",
       "    .dataframe tbody tr th:only-of-type {\n",
       "        vertical-align: middle;\n",
       "    }\n",
       "\n",
       "    .dataframe tbody tr th {\n",
       "        vertical-align: top;\n",
       "    }\n",
       "\n",
       "    .dataframe thead th {\n",
       "        text-align: right;\n",
       "    }\n",
       "</style>\n",
       "<table border=\"1\" class=\"dataframe\">\n",
       "  <thead>\n",
       "    <tr style=\"text-align: right;\">\n",
       "      <th></th>\n",
       "      <th>misstate</th>\n",
       "    </tr>\n",
       "  </thead>\n",
       "  <tbody>\n",
       "    <tr>\n",
       "      <th>0</th>\n",
       "      <td>0.0</td>\n",
       "    </tr>\n",
       "    <tr>\n",
       "      <th>1</th>\n",
       "      <td>0.0</td>\n",
       "    </tr>\n",
       "    <tr>\n",
       "      <th>2</th>\n",
       "      <td>0.0</td>\n",
       "    </tr>\n",
       "    <tr>\n",
       "      <th>3</th>\n",
       "      <td>0.0</td>\n",
       "    </tr>\n",
       "    <tr>\n",
       "      <th>4</th>\n",
       "      <td>0.0</td>\n",
       "    </tr>\n",
       "  </tbody>\n",
       "</table>\n",
       "</div>"
      ],
      "text/plain": [
       "   misstate\n",
       "0       0.0\n",
       "1       0.0\n",
       "2       0.0\n",
       "3       0.0\n",
       "4       0.0"
      ]
     },
     "execution_count": 25,
     "metadata": {},
     "output_type": "execute_result"
    },
    {
     "data": {
      "text/html": [
       "<div>\n",
       "<style scoped>\n",
       "    .dataframe tbody tr th:only-of-type {\n",
       "        vertical-align: middle;\n",
       "    }\n",
       "\n",
       "    .dataframe tbody tr th {\n",
       "        vertical-align: top;\n",
       "    }\n",
       "\n",
       "    .dataframe thead th {\n",
       "        text-align: right;\n",
       "    }\n",
       "</style>\n",
       "<table border=\"1\" class=\"dataframe\">\n",
       "  <thead>\n",
       "    <tr style=\"text-align: right;\">\n",
       "      <th></th>\n",
       "      <th>Intercept</th>\n",
       "      <th>act</th>\n",
       "      <th>ap</th>\n",
       "      <th>at</th>\n",
       "      <th>ceq</th>\n",
       "      <th>che</th>\n",
       "      <th>cogs</th>\n",
       "      <th>csho</th>\n",
       "      <th>dlc</th>\n",
       "      <th>dltis</th>\n",
       "      <th>...</th>\n",
       "      <th>soft_assets</th>\n",
       "      <th>dpi</th>\n",
       "      <th>ch_cs</th>\n",
       "      <th>ch_cm</th>\n",
       "      <th>ch_roa</th>\n",
       "      <th>ch_fcf</th>\n",
       "      <th>reoa</th>\n",
       "      <th>EBIT</th>\n",
       "      <th>issue</th>\n",
       "      <th>bm</th>\n",
       "    </tr>\n",
       "  </thead>\n",
       "  <tbody>\n",
       "    <tr>\n",
       "      <th>0</th>\n",
       "      <td>1.0</td>\n",
       "      <td>10.047</td>\n",
       "      <td>3.736</td>\n",
       "      <td>32.335</td>\n",
       "      <td>6.262</td>\n",
       "      <td>0.002</td>\n",
       "      <td>30.633</td>\n",
       "      <td>2.526</td>\n",
       "      <td>3.283</td>\n",
       "      <td>32.853</td>\n",
       "      <td>...</td>\n",
       "      <td>0.312448</td>\n",
       "      <td>0.873555</td>\n",
       "      <td>0.095082</td>\n",
       "      <td>0.082631</td>\n",
       "      <td>-0.019761</td>\n",
       "      <td>-0.042140</td>\n",
       "      <td>0.167620</td>\n",
       "      <td>0.161961</td>\n",
       "      <td>1.0</td>\n",
       "      <td>0.413170</td>\n",
       "    </tr>\n",
       "    <tr>\n",
       "      <th>1</th>\n",
       "      <td>1.0</td>\n",
       "      <td>1.247</td>\n",
       "      <td>0.803</td>\n",
       "      <td>7.784</td>\n",
       "      <td>0.667</td>\n",
       "      <td>0.171</td>\n",
       "      <td>1.125</td>\n",
       "      <td>3.556</td>\n",
       "      <td>0.021</td>\n",
       "      <td>2.017</td>\n",
       "      <td>...</td>\n",
       "      <td>0.315904</td>\n",
       "      <td>0.745139</td>\n",
       "      <td>0.188832</td>\n",
       "      <td>-0.211389</td>\n",
       "      <td>-0.117832</td>\n",
       "      <td>0.100228</td>\n",
       "      <td>-0.428957</td>\n",
       "      <td>-0.157888</td>\n",
       "      <td>1.0</td>\n",
       "      <td>0.157887</td>\n",
       "    </tr>\n",
       "    <tr>\n",
       "      <th>2</th>\n",
       "      <td>1.0</td>\n",
       "      <td>55.040</td>\n",
       "      <td>3.601</td>\n",
       "      <td>118.120</td>\n",
       "      <td>44.393</td>\n",
       "      <td>3.132</td>\n",
       "      <td>107.343</td>\n",
       "      <td>3.882</td>\n",
       "      <td>6.446</td>\n",
       "      <td>6.500</td>\n",
       "      <td>...</td>\n",
       "      <td>0.605342</td>\n",
       "      <td>1.015131</td>\n",
       "      <td>0.097551</td>\n",
       "      <td>-0.105780</td>\n",
       "      <td>0.091206</td>\n",
       "      <td>0.066348</td>\n",
       "      <td>0.394768</td>\n",
       "      <td>0.063681</td>\n",
       "      <td>1.0</td>\n",
       "      <td>2.231337</td>\n",
       "    </tr>\n",
       "    <tr>\n",
       "      <th>3</th>\n",
       "      <td>1.0</td>\n",
       "      <td>24.684</td>\n",
       "      <td>3.948</td>\n",
       "      <td>34.591</td>\n",
       "      <td>7.751</td>\n",
       "      <td>0.411</td>\n",
       "      <td>31.214</td>\n",
       "      <td>4.755</td>\n",
       "      <td>8.791</td>\n",
       "      <td>0.587</td>\n",
       "      <td>...</td>\n",
       "      <td>0.793068</td>\n",
       "      <td>1.026261</td>\n",
       "      <td>-0.005725</td>\n",
       "      <td>-0.249704</td>\n",
       "      <td>0.017545</td>\n",
       "      <td>-0.017358</td>\n",
       "      <td>0.094822</td>\n",
       "      <td>0.088347</td>\n",
       "      <td>1.0</td>\n",
       "      <td>1.043582</td>\n",
       "    </tr>\n",
       "    <tr>\n",
       "      <th>4</th>\n",
       "      <td>1.0</td>\n",
       "      <td>17.325</td>\n",
       "      <td>3.520</td>\n",
       "      <td>27.542</td>\n",
       "      <td>-12.142</td>\n",
       "      <td>1.017</td>\n",
       "      <td>32.662</td>\n",
       "      <td>6.735</td>\n",
       "      <td>32.206</td>\n",
       "      <td>0.000</td>\n",
       "      <td>...</td>\n",
       "      <td>0.869182</td>\n",
       "      <td>0.598443</td>\n",
       "      <td>-0.231536</td>\n",
       "      <td>-1.674893</td>\n",
       "      <td>-0.466667</td>\n",
       "      <td>0.130349</td>\n",
       "      <td>-0.942379</td>\n",
       "      <td>-0.700821</td>\n",
       "      <td>0.0</td>\n",
       "      <td>-1.602508</td>\n",
       "    </tr>\n",
       "  </tbody>\n",
       "</table>\n",
       "<p>5 rows × 43 columns</p>\n",
       "</div>"
      ],
      "text/plain": [
       "   Intercept     act     ap       at     ceq    che     cogs   csho     dlc  \\\n",
       "0        1.0  10.047  3.736   32.335   6.262  0.002   30.633  2.526   3.283   \n",
       "1        1.0   1.247  0.803    7.784   0.667  0.171    1.125  3.556   0.021   \n",
       "2        1.0  55.040  3.601  118.120  44.393  3.132  107.343  3.882   6.446   \n",
       "3        1.0  24.684  3.948   34.591   7.751  0.411   31.214  4.755   8.791   \n",
       "4        1.0  17.325  3.520   27.542 -12.142  1.017   32.662  6.735  32.206   \n",
       "\n",
       "    dltis  ...  soft_assets       dpi     ch_cs     ch_cm    ch_roa    ch_fcf  \\\n",
       "0  32.853  ...     0.312448  0.873555  0.095082  0.082631 -0.019761 -0.042140   \n",
       "1   2.017  ...     0.315904  0.745139  0.188832 -0.211389 -0.117832  0.100228   \n",
       "2   6.500  ...     0.605342  1.015131  0.097551 -0.105780  0.091206  0.066348   \n",
       "3   0.587  ...     0.793068  1.026261 -0.005725 -0.249704  0.017545 -0.017358   \n",
       "4   0.000  ...     0.869182  0.598443 -0.231536 -1.674893 -0.466667  0.130349   \n",
       "\n",
       "       reoa      EBIT  issue        bm  \n",
       "0  0.167620  0.161961    1.0  0.413170  \n",
       "1 -0.428957 -0.157888    1.0  0.157887  \n",
       "2  0.394768  0.063681    1.0  2.231337  \n",
       "3  0.094822  0.088347    1.0  1.043582  \n",
       "4 -0.942379 -0.700821    0.0 -1.602508  \n",
       "\n",
       "[5 rows x 43 columns]"
      ]
     },
     "execution_count": 25,
     "metadata": {},
     "output_type": "execute_result"
    }
   ],
   "source": [
    "import patsy\n",
    "y_fraud, X_fraud = patsy.dmatrices('misstate ~ act+ap+ at+ ceq+ che+ cogs+ +csho+dlc+ dltis+dltt+ dp+ ib+ invt+ ivao+ ivst+ lct+ lt+ni+ ppegt+ pstk+ +re+ rect+ +sale+ sstk+ txp+txt+xint+ prcc_f+dch_wc + ch_rsst + dch_rec + dch_inv + soft_assets +dpi+ '\n",
    "           'ch_cs + ch_cm + ch_roa+ch_fcf+reoa+EBIT + issue+bm',\n",
    "                      data = fraud,\n",
    "                      return_type = 'dataframe')\n",
    "y_fraud.head()\n",
    "X_fraud.head()\n"
   ]
  },
  {
   "cell_type": "code",
   "execution_count": 26,
   "id": "vvmQwOx7xukc",
   "metadata": {
    "colab": {
     "base_uri": "https://localhost:8080/"
    },
    "id": "vvmQwOx7xukc",
    "outputId": "8b09d906-46c3-493e-a485-5d763847b528"
   },
   "outputs": [
    {
     "data": {
      "text/plain": [
       "Index(['misstate'], dtype='object')"
      ]
     },
     "execution_count": 26,
     "metadata": {},
     "output_type": "execute_result"
    },
    {
     "data": {
      "text/plain": [
       "Index(['Intercept', 'act', 'ap', 'at', 'ceq', 'che', 'cogs', 'csho', 'dlc',\n",
       "       'dltis', 'dltt', 'dp', 'ib', 'invt', 'ivao', 'ivst', 'lct', 'lt', 'ni',\n",
       "       'ppegt', 'pstk', 're', 'rect', 'sale', 'sstk', 'txp', 'txt', 'xint',\n",
       "       'prcc_f', 'dch_wc', 'ch_rsst', 'dch_rec', 'dch_inv', 'soft_assets',\n",
       "       'dpi', 'ch_cs', 'ch_cm', 'ch_roa', 'ch_fcf', 'reoa', 'EBIT', 'issue',\n",
       "       'bm'],\n",
       "      dtype='object')"
      ]
     },
     "execution_count": 26,
     "metadata": {},
     "output_type": "execute_result"
    }
   ],
   "source": [
    "y_fraud.columns\n",
    "X_fraud.columns"
   ]
  },
  {
   "cell_type": "code",
   "execution_count": 27,
   "id": "YF5kOurvx0zv",
   "metadata": {
    "colab": {
     "base_uri": "https://localhost:8080/",
     "height": 1000
    },
    "id": "YF5kOurvx0zv",
    "outputId": "69b927a4-7a0d-44f2-fadc-bf0fdf6552a9"
   },
   "outputs": [
    {
     "name": "stdout",
     "output_type": "stream",
     "text": [
      "Optimization terminated successfully.\n",
      "         Current function value: 0.040220\n",
      "         Iterations 12\n"
     ]
    },
    {
     "data": {
      "text/html": [
       "<table class=\"simpletable\">\n",
       "<caption>Logit Regression Results</caption>\n",
       "<tr>\n",
       "  <th>Dep. Variable:</th>       <td>misstate</td>     <th>  No. Observations:  </th>   <td>126483</td>  \n",
       "</tr>\n",
       "<tr>\n",
       "  <th>Model:</th>                 <td>Logit</td>      <th>  Df Residuals:      </th>   <td>126440</td>  \n",
       "</tr>\n",
       "<tr>\n",
       "  <th>Method:</th>                 <td>MLE</td>       <th>  Df Model:          </th>   <td>    42</td>  \n",
       "</tr>\n",
       "<tr>\n",
       "  <th>Date:</th>            <td>Fri, 01 Mar 2024</td> <th>  Pseudo R-squ.:     </th>   <td>0.05656</td> \n",
       "</tr>\n",
       "<tr>\n",
       "  <th>Time:</th>                <td>13:37:00</td>     <th>  Log-Likelihood:    </th>  <td> -5087.2</td> \n",
       "</tr>\n",
       "<tr>\n",
       "  <th>converged:</th>             <td>True</td>       <th>  LL-Null:           </th>  <td> -5392.1</td> \n",
       "</tr>\n",
       "<tr>\n",
       "  <th>Covariance Type:</th>     <td>nonrobust</td>    <th>  LLR p-value:       </th> <td>7.739e-102</td>\n",
       "</tr>\n",
       "</table>\n",
       "<table class=\"simpletable\">\n",
       "<tr>\n",
       "       <td></td>          <th>coef</th>     <th>std err</th>      <th>z</th>      <th>P>|z|</th>  <th>[0.025</th>    <th>0.975]</th>  \n",
       "</tr>\n",
       "<tr>\n",
       "  <th>Intercept</th>   <td>   -7.1695</td> <td>    0.225</td> <td>  -31.796</td> <td> 0.000</td> <td>   -7.611</td> <td>   -6.728</td>\n",
       "</tr>\n",
       "<tr>\n",
       "  <th>act</th>         <td>    0.0002</td> <td> 6.59e-05</td> <td>    3.130</td> <td> 0.002</td> <td> 7.71e-05</td> <td>    0.000</td>\n",
       "</tr>\n",
       "<tr>\n",
       "  <th>ap</th>          <td>    0.0003</td> <td> 6.95e-05</td> <td>    4.337</td> <td> 0.000</td> <td>    0.000</td> <td>    0.000</td>\n",
       "</tr>\n",
       "<tr>\n",
       "  <th>at</th>          <td>-4.644e-06</td> <td> 6.77e-05</td> <td>   -0.069</td> <td> 0.945</td> <td>   -0.000</td> <td>    0.000</td>\n",
       "</tr>\n",
       "<tr>\n",
       "  <th>ceq</th>         <td> 1.881e-05</td> <td> 6.82e-05</td> <td>    0.276</td> <td> 0.783</td> <td>   -0.000</td> <td>    0.000</td>\n",
       "</tr>\n",
       "<tr>\n",
       "  <th>che</th>         <td>   -0.0002</td> <td> 7.46e-05</td> <td>   -2.125</td> <td> 0.034</td> <td>   -0.000</td> <td>-1.23e-05</td>\n",
       "</tr>\n",
       "<tr>\n",
       "  <th>cogs</th>        <td>-2.204e-05</td> <td> 2.16e-05</td> <td>   -1.022</td> <td> 0.307</td> <td>-6.43e-05</td> <td> 2.02e-05</td>\n",
       "</tr>\n",
       "<tr>\n",
       "  <th>csho</th>        <td> 4.306e-05</td> <td> 2.22e-05</td> <td>    1.935</td> <td> 0.053</td> <td>-5.45e-07</td> <td> 8.67e-05</td>\n",
       "</tr>\n",
       "<tr>\n",
       "  <th>dlc</th>         <td>-4.019e-05</td> <td> 7.39e-05</td> <td>   -0.544</td> <td> 0.586</td> <td>   -0.000</td> <td>    0.000</td>\n",
       "</tr>\n",
       "<tr>\n",
       "  <th>dltis</th>       <td> 1.254e-06</td> <td> 2.57e-05</td> <td>    0.049</td> <td> 0.961</td> <td>-4.91e-05</td> <td> 5.16e-05</td>\n",
       "</tr>\n",
       "<tr>\n",
       "  <th>dltt</th>        <td> 3.781e-05</td> <td> 3.82e-05</td> <td>    0.990</td> <td> 0.322</td> <td>-3.71e-05</td> <td>    0.000</td>\n",
       "</tr>\n",
       "<tr>\n",
       "  <th>dp</th>          <td>   -0.0002</td> <td>    0.000</td> <td>   -1.293</td> <td> 0.196</td> <td>   -0.000</td> <td> 8.17e-05</td>\n",
       "</tr>\n",
       "<tr>\n",
       "  <th>ib</th>          <td>   -0.0001</td> <td>    0.000</td> <td>   -1.035</td> <td> 0.300</td> <td>   -0.000</td> <td> 9.88e-05</td>\n",
       "</tr>\n",
       "<tr>\n",
       "  <th>invt</th>        <td>   -0.0001</td> <td> 7.07e-05</td> <td>   -1.537</td> <td> 0.124</td> <td>   -0.000</td> <td> 2.99e-05</td>\n",
       "</tr>\n",
       "<tr>\n",
       "  <th>ivao</th>        <td> 2.692e-06</td> <td> 1.79e-05</td> <td>    0.151</td> <td> 0.880</td> <td>-3.23e-05</td> <td> 3.77e-05</td>\n",
       "</tr>\n",
       "<tr>\n",
       "  <th>ivst</th>        <td>-8.048e-05</td> <td> 7.87e-05</td> <td>   -1.023</td> <td> 0.306</td> <td>   -0.000</td> <td> 7.38e-05</td>\n",
       "</tr>\n",
       "<tr>\n",
       "  <th>lct</th>         <td>   -0.0001</td> <td> 7.15e-05</td> <td>   -1.574</td> <td> 0.116</td> <td>   -0.000</td> <td> 2.76e-05</td>\n",
       "</tr>\n",
       "<tr>\n",
       "  <th>lt</th>          <td>-4.851e-05</td> <td> 7.56e-05</td> <td>   -0.642</td> <td> 0.521</td> <td>   -0.000</td> <td> 9.96e-05</td>\n",
       "</tr>\n",
       "<tr>\n",
       "  <th>ni</th>          <td>-3.683e-06</td> <td> 8.77e-05</td> <td>   -0.042</td> <td> 0.967</td> <td>   -0.000</td> <td>    0.000</td>\n",
       "</tr>\n",
       "<tr>\n",
       "  <th>ppegt</th>       <td>-1.801e-06</td> <td>  7.8e-06</td> <td>   -0.231</td> <td> 0.817</td> <td>-1.71e-05</td> <td> 1.35e-05</td>\n",
       "</tr>\n",
       "<tr>\n",
       "  <th>pstk</th>        <td>-9.442e-05</td> <td>    0.000</td> <td>   -0.348</td> <td> 0.728</td> <td>   -0.001</td> <td>    0.000</td>\n",
       "</tr>\n",
       "<tr>\n",
       "  <th>re</th>          <td> -1.27e-05</td> <td> 7.89e-06</td> <td>   -1.611</td> <td> 0.107</td> <td>-2.82e-05</td> <td> 2.75e-06</td>\n",
       "</tr>\n",
       "<tr>\n",
       "  <th>rect</th>        <td>   -0.0001</td> <td> 6.69e-05</td> <td>   -1.628</td> <td> 0.103</td> <td>   -0.000</td> <td> 2.22e-05</td>\n",
       "</tr>\n",
       "<tr>\n",
       "  <th>sale</th>        <td> 1.285e-05</td> <td> 2.03e-05</td> <td>    0.632</td> <td> 0.527</td> <td> -2.7e-05</td> <td> 5.27e-05</td>\n",
       "</tr>\n",
       "<tr>\n",
       "  <th>sstk</th>        <td>    0.0002</td> <td> 5.15e-05</td> <td>    3.466</td> <td> 0.001</td> <td> 7.75e-05</td> <td>    0.000</td>\n",
       "</tr>\n",
       "<tr>\n",
       "  <th>txp</th>         <td> 6.482e-05</td> <td>    0.000</td> <td>    0.310</td> <td> 0.756</td> <td>   -0.000</td> <td>    0.000</td>\n",
       "</tr>\n",
       "<tr>\n",
       "  <th>txt</th>         <td>-1.053e-05</td> <td>    0.000</td> <td>   -0.089</td> <td> 0.929</td> <td>   -0.000</td> <td>    0.000</td>\n",
       "</tr>\n",
       "<tr>\n",
       "  <th>xint</th>        <td>    0.0012</td> <td>    0.000</td> <td>    4.746</td> <td> 0.000</td> <td>    0.001</td> <td>    0.002</td>\n",
       "</tr>\n",
       "<tr>\n",
       "  <th>prcc_f</th>      <td>    0.0010</td> <td>    0.000</td> <td>    3.998</td> <td> 0.000</td> <td>    0.001</td> <td>    0.001</td>\n",
       "</tr>\n",
       "<tr>\n",
       "  <th>dch_wc</th>      <td>   -0.9484</td> <td>    0.372</td> <td>   -2.547</td> <td> 0.011</td> <td>   -1.678</td> <td>   -0.218</td>\n",
       "</tr>\n",
       "<tr>\n",
       "  <th>ch_rsst</th>     <td>    0.9954</td> <td>    0.286</td> <td>    3.482</td> <td> 0.000</td> <td>    0.435</td> <td>    1.556</td>\n",
       "</tr>\n",
       "<tr>\n",
       "  <th>dch_rec</th>     <td>    2.1294</td> <td>    0.472</td> <td>    4.511</td> <td> 0.000</td> <td>    1.204</td> <td>    3.055</td>\n",
       "</tr>\n",
       "<tr>\n",
       "  <th>dch_inv</th>     <td>    1.3559</td> <td>    0.654</td> <td>    2.074</td> <td> 0.038</td> <td>    0.075</td> <td>    2.637</td>\n",
       "</tr>\n",
       "<tr>\n",
       "  <th>soft_assets</th> <td>    1.8267</td> <td>    0.154</td> <td>   11.826</td> <td> 0.000</td> <td>    1.524</td> <td>    2.129</td>\n",
       "</tr>\n",
       "<tr>\n",
       "  <th>dpi</th>         <td>    0.0484</td> <td>    0.078</td> <td>    0.617</td> <td> 0.537</td> <td>   -0.105</td> <td>    0.202</td>\n",
       "</tr>\n",
       "<tr>\n",
       "  <th>ch_cs</th>       <td>    0.0594</td> <td>    0.026</td> <td>    2.266</td> <td> 0.023</td> <td>    0.008</td> <td>    0.111</td>\n",
       "</tr>\n",
       "<tr>\n",
       "  <th>ch_cm</th>       <td>   -0.0030</td> <td>    0.015</td> <td>   -0.200</td> <td> 0.842</td> <td>   -0.032</td> <td>    0.026</td>\n",
       "</tr>\n",
       "<tr>\n",
       "  <th>ch_roa</th>      <td>   -0.4986</td> <td>    0.220</td> <td>   -2.270</td> <td> 0.023</td> <td>   -0.929</td> <td>   -0.068</td>\n",
       "</tr>\n",
       "<tr>\n",
       "  <th>ch_fcf</th>      <td>    0.4263</td> <td>    0.240</td> <td>    1.779</td> <td> 0.075</td> <td>   -0.043</td> <td>    0.896</td>\n",
       "</tr>\n",
       "<tr>\n",
       "  <th>reoa</th>        <td>    0.2248</td> <td>    0.040</td> <td>    5.684</td> <td> 0.000</td> <td>    0.147</td> <td>    0.302</td>\n",
       "</tr>\n",
       "<tr>\n",
       "  <th>EBIT</th>        <td>   -0.4205</td> <td>    0.138</td> <td>   -3.039</td> <td> 0.002</td> <td>   -0.692</td> <td>   -0.149</td>\n",
       "</tr>\n",
       "<tr>\n",
       "  <th>issue</th>       <td>    1.1626</td> <td>    0.185</td> <td>    6.296</td> <td> 0.000</td> <td>    0.801</td> <td>    1.524</td>\n",
       "</tr>\n",
       "<tr>\n",
       "  <th>bm</th>          <td>   -0.0637</td> <td>    0.034</td> <td>   -1.891</td> <td> 0.059</td> <td>   -0.130</td> <td>    0.002</td>\n",
       "</tr>\n",
       "</table>"
      ],
      "text/latex": [
       "\\begin{center}\n",
       "\\begin{tabular}{lclc}\n",
       "\\toprule\n",
       "\\textbf{Dep. Variable:}   &     misstate     & \\textbf{  No. Observations:  } &   126483    \\\\\n",
       "\\textbf{Model:}           &      Logit       & \\textbf{  Df Residuals:      } &   126440    \\\\\n",
       "\\textbf{Method:}          &       MLE        & \\textbf{  Df Model:          } &       42    \\\\\n",
       "\\textbf{Date:}            & Fri, 01 Mar 2024 & \\textbf{  Pseudo R-squ.:     } &  0.05656    \\\\\n",
       "\\textbf{Time:}            &     13:37:00     & \\textbf{  Log-Likelihood:    } &   -5087.2   \\\\\n",
       "\\textbf{converged:}       &       True       & \\textbf{  LL-Null:           } &   -5392.1   \\\\\n",
       "\\textbf{Covariance Type:} &    nonrobust     & \\textbf{  LLR p-value:       } & 7.739e-102  \\\\\n",
       "\\bottomrule\n",
       "\\end{tabular}\n",
       "\\begin{tabular}{lcccccc}\n",
       "                      & \\textbf{coef} & \\textbf{std err} & \\textbf{z} & \\textbf{P$> |$z$|$} & \\textbf{[0.025} & \\textbf{0.975]}  \\\\\n",
       "\\midrule\n",
       "\\textbf{Intercept}    &      -7.1695  &        0.225     &   -31.796  &         0.000        &       -7.611    &       -6.728     \\\\\n",
       "\\textbf{act}          &       0.0002  &     6.59e-05     &     3.130  &         0.002        &     7.71e-05    &        0.000     \\\\\n",
       "\\textbf{ap}           &       0.0003  &     6.95e-05     &     4.337  &         0.000        &        0.000    &        0.000     \\\\\n",
       "\\textbf{at}           &   -4.644e-06  &     6.77e-05     &    -0.069  &         0.945        &       -0.000    &        0.000     \\\\\n",
       "\\textbf{ceq}          &    1.881e-05  &     6.82e-05     &     0.276  &         0.783        &       -0.000    &        0.000     \\\\\n",
       "\\textbf{che}          &      -0.0002  &     7.46e-05     &    -2.125  &         0.034        &       -0.000    &    -1.23e-05     \\\\\n",
       "\\textbf{cogs}         &   -2.204e-05  &     2.16e-05     &    -1.022  &         0.307        &    -6.43e-05    &     2.02e-05     \\\\\n",
       "\\textbf{csho}         &    4.306e-05  &     2.22e-05     &     1.935  &         0.053        &    -5.45e-07    &     8.67e-05     \\\\\n",
       "\\textbf{dlc}          &   -4.019e-05  &     7.39e-05     &    -0.544  &         0.586        &       -0.000    &        0.000     \\\\\n",
       "\\textbf{dltis}        &    1.254e-06  &     2.57e-05     &     0.049  &         0.961        &    -4.91e-05    &     5.16e-05     \\\\\n",
       "\\textbf{dltt}         &    3.781e-05  &     3.82e-05     &     0.990  &         0.322        &    -3.71e-05    &        0.000     \\\\\n",
       "\\textbf{dp}           &      -0.0002  &        0.000     &    -1.293  &         0.196        &       -0.000    &     8.17e-05     \\\\\n",
       "\\textbf{ib}           &      -0.0001  &        0.000     &    -1.035  &         0.300        &       -0.000    &     9.88e-05     \\\\\n",
       "\\textbf{invt}         &      -0.0001  &     7.07e-05     &    -1.537  &         0.124        &       -0.000    &     2.99e-05     \\\\\n",
       "\\textbf{ivao}         &    2.692e-06  &     1.79e-05     &     0.151  &         0.880        &    -3.23e-05    &     3.77e-05     \\\\\n",
       "\\textbf{ivst}         &   -8.048e-05  &     7.87e-05     &    -1.023  &         0.306        &       -0.000    &     7.38e-05     \\\\\n",
       "\\textbf{lct}          &      -0.0001  &     7.15e-05     &    -1.574  &         0.116        &       -0.000    &     2.76e-05     \\\\\n",
       "\\textbf{lt}           &   -4.851e-05  &     7.56e-05     &    -0.642  &         0.521        &       -0.000    &     9.96e-05     \\\\\n",
       "\\textbf{ni}           &   -3.683e-06  &     8.77e-05     &    -0.042  &         0.967        &       -0.000    &        0.000     \\\\\n",
       "\\textbf{ppegt}        &   -1.801e-06  &      7.8e-06     &    -0.231  &         0.817        &    -1.71e-05    &     1.35e-05     \\\\\n",
       "\\textbf{pstk}         &   -9.442e-05  &        0.000     &    -0.348  &         0.728        &       -0.001    &        0.000     \\\\\n",
       "\\textbf{re}           &    -1.27e-05  &     7.89e-06     &    -1.611  &         0.107        &    -2.82e-05    &     2.75e-06     \\\\\n",
       "\\textbf{rect}         &      -0.0001  &     6.69e-05     &    -1.628  &         0.103        &       -0.000    &     2.22e-05     \\\\\n",
       "\\textbf{sale}         &    1.285e-05  &     2.03e-05     &     0.632  &         0.527        &     -2.7e-05    &     5.27e-05     \\\\\n",
       "\\textbf{sstk}         &       0.0002  &     5.15e-05     &     3.466  &         0.001        &     7.75e-05    &        0.000     \\\\\n",
       "\\textbf{txp}          &    6.482e-05  &        0.000     &     0.310  &         0.756        &       -0.000    &        0.000     \\\\\n",
       "\\textbf{txt}          &   -1.053e-05  &        0.000     &    -0.089  &         0.929        &       -0.000    &        0.000     \\\\\n",
       "\\textbf{xint}         &       0.0012  &        0.000     &     4.746  &         0.000        &        0.001    &        0.002     \\\\\n",
       "\\textbf{prcc\\_f}      &       0.0010  &        0.000     &     3.998  &         0.000        &        0.001    &        0.001     \\\\\n",
       "\\textbf{dch\\_wc}      &      -0.9484  &        0.372     &    -2.547  &         0.011        &       -1.678    &       -0.218     \\\\\n",
       "\\textbf{ch\\_rsst}     &       0.9954  &        0.286     &     3.482  &         0.000        &        0.435    &        1.556     \\\\\n",
       "\\textbf{dch\\_rec}     &       2.1294  &        0.472     &     4.511  &         0.000        &        1.204    &        3.055     \\\\\n",
       "\\textbf{dch\\_inv}     &       1.3559  &        0.654     &     2.074  &         0.038        &        0.075    &        2.637     \\\\\n",
       "\\textbf{soft\\_assets} &       1.8267  &        0.154     &    11.826  &         0.000        &        1.524    &        2.129     \\\\\n",
       "\\textbf{dpi}          &       0.0484  &        0.078     &     0.617  &         0.537        &       -0.105    &        0.202     \\\\\n",
       "\\textbf{ch\\_cs}       &       0.0594  &        0.026     &     2.266  &         0.023        &        0.008    &        0.111     \\\\\n",
       "\\textbf{ch\\_cm}       &      -0.0030  &        0.015     &    -0.200  &         0.842        &       -0.032    &        0.026     \\\\\n",
       "\\textbf{ch\\_roa}      &      -0.4986  &        0.220     &    -2.270  &         0.023        &       -0.929    &       -0.068     \\\\\n",
       "\\textbf{ch\\_fcf}      &       0.4263  &        0.240     &     1.779  &         0.075        &       -0.043    &        0.896     \\\\\n",
       "\\textbf{reoa}         &       0.2248  &        0.040     &     5.684  &         0.000        &        0.147    &        0.302     \\\\\n",
       "\\textbf{EBIT}         &      -0.4205  &        0.138     &    -3.039  &         0.002        &       -0.692    &       -0.149     \\\\\n",
       "\\textbf{issue}        &       1.1626  &        0.185     &     6.296  &         0.000        &        0.801    &        1.524     \\\\\n",
       "\\textbf{bm}           &      -0.0637  &        0.034     &    -1.891  &         0.059        &       -0.130    &        0.002     \\\\\n",
       "\\bottomrule\n",
       "\\end{tabular}\n",
       "%\\caption{Logit Regression Results}\n",
       "\\end{center}"
      ],
      "text/plain": [
       "<class 'statsmodels.iolib.summary.Summary'>\n",
       "\"\"\"\n",
       "                           Logit Regression Results                           \n",
       "==============================================================================\n",
       "Dep. Variable:               misstate   No. Observations:               126483\n",
       "Model:                          Logit   Df Residuals:                   126440\n",
       "Method:                           MLE   Df Model:                           42\n",
       "Date:                Fri, 01 Mar 2024   Pseudo R-squ.:                 0.05656\n",
       "Time:                        13:37:00   Log-Likelihood:                -5087.2\n",
       "converged:                       True   LL-Null:                       -5392.1\n",
       "Covariance Type:            nonrobust   LLR p-value:                7.739e-102\n",
       "===============================================================================\n",
       "                  coef    std err          z      P>|z|      [0.025      0.975]\n",
       "-------------------------------------------------------------------------------\n",
       "Intercept      -7.1695      0.225    -31.796      0.000      -7.611      -6.728\n",
       "act             0.0002   6.59e-05      3.130      0.002    7.71e-05       0.000\n",
       "ap              0.0003   6.95e-05      4.337      0.000       0.000       0.000\n",
       "at          -4.644e-06   6.77e-05     -0.069      0.945      -0.000       0.000\n",
       "ceq          1.881e-05   6.82e-05      0.276      0.783      -0.000       0.000\n",
       "che            -0.0002   7.46e-05     -2.125      0.034      -0.000   -1.23e-05\n",
       "cogs        -2.204e-05   2.16e-05     -1.022      0.307   -6.43e-05    2.02e-05\n",
       "csho         4.306e-05   2.22e-05      1.935      0.053   -5.45e-07    8.67e-05\n",
       "dlc         -4.019e-05   7.39e-05     -0.544      0.586      -0.000       0.000\n",
       "dltis        1.254e-06   2.57e-05      0.049      0.961   -4.91e-05    5.16e-05\n",
       "dltt         3.781e-05   3.82e-05      0.990      0.322   -3.71e-05       0.000\n",
       "dp             -0.0002      0.000     -1.293      0.196      -0.000    8.17e-05\n",
       "ib             -0.0001      0.000     -1.035      0.300      -0.000    9.88e-05\n",
       "invt           -0.0001   7.07e-05     -1.537      0.124      -0.000    2.99e-05\n",
       "ivao         2.692e-06   1.79e-05      0.151      0.880   -3.23e-05    3.77e-05\n",
       "ivst        -8.048e-05   7.87e-05     -1.023      0.306      -0.000    7.38e-05\n",
       "lct            -0.0001   7.15e-05     -1.574      0.116      -0.000    2.76e-05\n",
       "lt          -4.851e-05   7.56e-05     -0.642      0.521      -0.000    9.96e-05\n",
       "ni          -3.683e-06   8.77e-05     -0.042      0.967      -0.000       0.000\n",
       "ppegt       -1.801e-06    7.8e-06     -0.231      0.817   -1.71e-05    1.35e-05\n",
       "pstk        -9.442e-05      0.000     -0.348      0.728      -0.001       0.000\n",
       "re           -1.27e-05   7.89e-06     -1.611      0.107   -2.82e-05    2.75e-06\n",
       "rect           -0.0001   6.69e-05     -1.628      0.103      -0.000    2.22e-05\n",
       "sale         1.285e-05   2.03e-05      0.632      0.527    -2.7e-05    5.27e-05\n",
       "sstk            0.0002   5.15e-05      3.466      0.001    7.75e-05       0.000\n",
       "txp          6.482e-05      0.000      0.310      0.756      -0.000       0.000\n",
       "txt         -1.053e-05      0.000     -0.089      0.929      -0.000       0.000\n",
       "xint            0.0012      0.000      4.746      0.000       0.001       0.002\n",
       "prcc_f          0.0010      0.000      3.998      0.000       0.001       0.001\n",
       "dch_wc         -0.9484      0.372     -2.547      0.011      -1.678      -0.218\n",
       "ch_rsst         0.9954      0.286      3.482      0.000       0.435       1.556\n",
       "dch_rec         2.1294      0.472      4.511      0.000       1.204       3.055\n",
       "dch_inv         1.3559      0.654      2.074      0.038       0.075       2.637\n",
       "soft_assets     1.8267      0.154     11.826      0.000       1.524       2.129\n",
       "dpi             0.0484      0.078      0.617      0.537      -0.105       0.202\n",
       "ch_cs           0.0594      0.026      2.266      0.023       0.008       0.111\n",
       "ch_cm          -0.0030      0.015     -0.200      0.842      -0.032       0.026\n",
       "ch_roa         -0.4986      0.220     -2.270      0.023      -0.929      -0.068\n",
       "ch_fcf          0.4263      0.240      1.779      0.075      -0.043       0.896\n",
       "reoa            0.2248      0.040      5.684      0.000       0.147       0.302\n",
       "EBIT           -0.4205      0.138     -3.039      0.002      -0.692      -0.149\n",
       "issue           1.1626      0.185      6.296      0.000       0.801       1.524\n",
       "bm             -0.0637      0.034     -1.891      0.059      -0.130       0.002\n",
       "===============================================================================\n",
       "\"\"\""
      ]
     },
     "execution_count": 27,
     "metadata": {},
     "output_type": "execute_result"
    }
   ],
   "source": [
    "logit_model_fraud = sm.Logit(y_fraud['misstate'], X_fraud[['Intercept', 'act', 'ap', 'at', 'ceq', 'che', 'cogs', 'csho', 'dlc',\n",
    "       'dltis', 'dltt', 'dp', 'ib', 'invt', 'ivao', 'ivst', 'lct', 'lt', 'ni',\n",
    "       'ppegt', 'pstk', 're', 'rect', 'sale', 'sstk', 'txp', 'txt', 'xint',\n",
    "       'prcc_f', 'dch_wc', 'ch_rsst', 'dch_rec', 'dch_inv', 'soft_assets',\n",
    "       'dpi', 'ch_cs', 'ch_cm', 'ch_roa', 'ch_fcf', 'reoa', 'EBIT', 'issue',\n",
    "       'bm']])\n",
    "logit_res_fraud =  logit_model_fraud.fit()\n",
    "logit_res_fraud.summary()"
   ]
  },
  {
   "cell_type": "markdown",
   "id": "zk2AOR8W2BzP",
   "metadata": {
    "id": "zk2AOR8W2BzP"
   },
   "source": [
    "Significant Variables (p < 0.05): act, ap, che, cogs, dlc, invt, rect, sstk, xint, prcc_f, ch_rsst, dch_rec, soft_assets, reoa, EBIT, issue\n",
    "\n",
    "Not Significant Variables (p >= 0.05): at, ceq, csho, dltis, dltt, dp, ib, ivao, ivst, lct, lt, ni, ppegt, pstk, re, sale, txp, txt, dch_wc, dch_inv, dpi, ch_cs, ch_cm, ch_roa, ch_fcf, bm"
   ]
  },
  {
   "cell_type": "code",
   "execution_count": 28,
   "id": "4SUY24PcyIEW",
   "metadata": {
    "colab": {
     "base_uri": "https://localhost:8080/"
    },
    "id": "4SUY24PcyIEW",
    "outputId": "28b2ce42-0383-48b9-df9b-a3b81ba58dd2"
   },
   "outputs": [
    {
     "data": {
      "text/plain": [
       "0         0.004817\n",
       "1         0.003891\n",
       "2         0.006725\n",
       "3         0.011058\n",
       "4         0.003455\n",
       "            ...   \n",
       "146039    0.002191\n",
       "146040    0.012277\n",
       "146041    0.017714\n",
       "146042    0.011264\n",
       "146044    0.003752\n",
       "Length: 126483, dtype: float64"
      ]
     },
     "execution_count": 28,
     "metadata": {},
     "output_type": "execute_result"
    }
   ],
   "source": [
    "predicted_fraud = logit_res_fraud.predict(X_fraud)\n",
    "predicted_fraud"
   ]
  },
  {
   "cell_type": "code",
   "execution_count": 29,
   "id": "VJRNl3L7ySGk",
   "metadata": {
    "colab": {
     "base_uri": "https://localhost:8080/"
    },
    "id": "VJRNl3L7ySGk",
    "outputId": "2cc3efbb-073a-49ba-e0a3-2a586b077209"
   },
   "outputs": [
    {
     "data": {
      "text/plain": [
       "0         0\n",
       "1         0\n",
       "2         0\n",
       "3         0\n",
       "4         0\n",
       "         ..\n",
       "111354    0\n",
       "111355    0\n",
       "111356    0\n",
       "111357    0\n",
       "111358    0\n",
       "Length: 97613, dtype: int64"
      ]
     },
     "execution_count": 29,
     "metadata": {},
     "output_type": "execute_result"
    }
   ],
   "source": [
    "predicted_classes_fraud = (predicted_fraud >= 0.5).astype(int)\n",
    "predicted_classes_fraud[:97613]"
   ]
  },
  {
   "cell_type": "code",
   "execution_count": 30,
   "id": "Hi_C1vcCyaP7",
   "metadata": {
    "colab": {
     "base_uri": "https://localhost:8080/"
    },
    "id": "Hi_C1vcCyaP7",
    "outputId": "44e9bc6c-7ead-4098-de9b-ccb1a61a43b2"
   },
   "outputs": [
    {
     "name": "stdout",
     "output_type": "stream",
     "text": [
      "Accuracy: 0.9928369820450179\n",
      "Confusion Matrix: [[125573      1]\n",
      " [   905      4]]\n",
      "Classification Report:               precision    recall  f1-score   support\n",
      "\n",
      "         0.0       0.99      1.00      1.00    125574\n",
      "         1.0       0.80      0.00      0.01       909\n",
      "\n",
      "    accuracy                           0.99    126483\n",
      "   macro avg       0.90      0.50      0.50    126483\n",
      "weighted avg       0.99      0.99      0.99    126483\n",
      "\n"
     ]
    }
   ],
   "source": [
    "from sklearn.metrics import accuracy_score, classification_report, confusion_matrix\n",
    "\n",
    "# Assuming y_14 and predicted_classes_14 are defined elsewhere\n",
    "accuracy_fraud = accuracy_score(y_fraud['misstate'], predicted_classes_fraud)\n",
    "conf_matrix_fraud = confusion_matrix(y_fraud['misstate'], predicted_classes_fraud)\n",
    "\n",
    "classification_report_str_fraud = classification_report(y_fraud['misstate'], predicted_classes_fraud)\n",
    "\n",
    "\n",
    "# Optionally, print or use these metrics as needed\n",
    "print(\"Accuracy:\", accuracy_fraud)\n",
    "print(\"Confusion Matrix:\", conf_matrix_fraud)\n",
    "print(\"Classification Report:\", classification_report_str_fraud)"
   ]
  },
  {
   "cell_type": "markdown",
   "id": "OOYZDSf02uWS",
   "metadata": {
    "id": "OOYZDSf02uWS"
   },
   "source": [
    "The model achieved 99.15% accuracy, correctly identifying negative cases but struggling with positive ones. It had high precision and recall for the majority class (class 0) but performed poorly for the minority class (class 1). This indicates a need to address class imbalance and improve performance for the minority class."
   ]
  },
  {
   "cell_type": "markdown",
   "id": "48X4G2ps08kh",
   "metadata": {
    "id": "48X4G2ps08kh"
   },
   "source": [
    "Comparing the accuracy rates provided in the three accuracy reports:\n",
    "\n",
    "Model using 28 raw accounting variables:\n",
    "Accuracy: 0.9915063410764079\n",
    "Model using 14 financial ratio variables:\n",
    "Accuracy: 0.9915063410764079\n",
    "Model using all 42 variables (28 + 14):\n",
    "Accuracy: 0.9914713397346898\n",
    "All three models have very similar accuracy rates, with the difference being minimal. However, if we strictly consider the accuracy metric, the model using 28 raw accounting variables or the model using 14 financial ratio variables seems to have a slightly higher accuracy compared to the model using all 42 variables.\n"
   ]
  },
  {
   "cell_type": "markdown",
   "id": "_ESBFFnfyve7",
   "metadata": {
    "id": "_ESBFFnfyve7"
   },
   "source": []
  }
 ],
 "metadata": {
  "colab": {
   "provenance": []
  },
  "kernelspec": {
   "display_name": "Python 3 (ipykernel)",
   "language": "python",
   "name": "python3"
  },
  "language_info": {
   "codemirror_mode": {
    "name": "ipython",
    "version": 3
   },
   "file_extension": ".py",
   "mimetype": "text/x-python",
   "name": "python",
   "nbconvert_exporter": "python",
   "pygments_lexer": "ipython3",
   "version": "3.11.5"
  }
 },
 "nbformat": 4,
 "nbformat_minor": 5
}
