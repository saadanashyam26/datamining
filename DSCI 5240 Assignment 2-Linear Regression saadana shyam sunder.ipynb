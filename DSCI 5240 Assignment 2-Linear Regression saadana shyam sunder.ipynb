{
 "cells": [
  {
   "cell_type": "markdown",
   "id": "edb5e6f2",
   "metadata": {},
   "source": [
    "### Assignment 2 - Linear Regression"
   ]
  },
  {
   "cell_type": "code",
   "execution_count": 1,
   "id": "6fc2bb24",
   "metadata": {},
   "outputs": [],
   "source": [
    "# This code appears in every demonstration Notebook.\n",
    "# By default, when you run each cell, only the last output of the codes will show.\n",
    "# This code makes all outputs of a cell show.\n",
    "from IPython.core.interactiveshell import InteractiveShell\n",
    "InteractiveShell.ast_node_interactivity = \"all\""
   ]
  },
  {
   "cell_type": "markdown",
   "id": "1f8c655a",
   "metadata": {},
   "source": [
    "The dataset is based on Gyódi and Nawaro (2021)’s research on Airbnb prices in European cities. We take a sub dataset of Airbnb listings in Barcelona, Spain during weekdays and intend to build a model to predict listing price using the features.<br>\n",
    "\n",
    "The variables are as follows.<br>\n",
    "<b>price</b> ---\tListing price<br>\n",
    "<b>bedrooms</b> ---\tnumber of bedrooms<br>\n",
    "<b>person_capacity</b> ---\tmaximum number of guests<br>\n",
    "<b>room_private</b> ---\tdummy for private rooms<br>\n",
    "<b>room_shared</b> ---\tdummy for shared rooms<br>\n",
    "<b>cleanliness</b> ---\tguest reviews: scale to 10<br>\n",
    "<b>guest_satisfaction</b> --- guest reviews:scale to 100<br>\n",
    "<b>superhost</b> ---\tdummy for hosts with the superhost status<br>\n",
    "<b>multi</b> ---\tdummy for listings offered by hosts with 2–4 listings<br>\n",
    "<b>biz</b> ---\tdummy for listings offered by hosts with more than 4 listings<br>\n",
    "<b>dist</b> ---\tdistance to the city centre in kilometres<br>\n",
    "<b>metro_dist</b> ---\tdistance to the closest metro station in kilometres<br>\n",
    "<b>attr_index</b> ---\tattraction index: scale to 100, measuring the accessibility to attractions<br>\n",
    "<b>rest_index</b> ---\trestaurant index: scale to 100, measuring the accessibility to restaurants<br>\n",
    "<b>lng</b> ---\tLongitude of the listing location<br>\n",
    "<b>lat</b> ---\tLatitude of the listing location<br>\n",
    "\n",
    "Ref:<br> \n",
    "Gyódi, K. and L. Nawaro (2021). Determinants of Airbnb prices in European cities: A spatial econometrics approach. Tourism Management, Vol. 86."
   ]
  },
  {
   "cell_type": "markdown",
   "id": "8b1d070f",
   "metadata": {},
   "source": [
    "1. Import the necessary packages."
   ]
  },
  {
   "cell_type": "code",
   "execution_count": 2,
   "id": "ec5fab6a",
   "metadata": {},
   "outputs": [],
   "source": [
    "import pandas as pd\n",
    "import statsmodels.api as sm\n",
    "import seaborn as sn\n",
    "import matplotlib.pyplot as plt\n",
    "import numpy as np\n"
   ]
  },
  {
   "cell_type": "markdown",
   "id": "4c043205",
   "metadata": {},
   "source": [
    "2. Read in the dataset, 'Barcelona.csv'. Display the data."
   ]
  },
  {
   "cell_type": "code",
   "execution_count": 3,
   "id": "ce825a29",
   "metadata": {},
   "outputs": [
    {
     "data": {
      "text/html": [
       "<div>\n",
       "<style scoped>\n",
       "    .dataframe tbody tr th:only-of-type {\n",
       "        vertical-align: middle;\n",
       "    }\n",
       "\n",
       "    .dataframe tbody tr th {\n",
       "        vertical-align: top;\n",
       "    }\n",
       "\n",
       "    .dataframe thead th {\n",
       "        text-align: right;\n",
       "    }\n",
       "</style>\n",
       "<table border=\"1\" class=\"dataframe\">\n",
       "  <thead>\n",
       "    <tr style=\"text-align: right;\">\n",
       "      <th></th>\n",
       "      <th>price</th>\n",
       "      <th>bedrooms</th>\n",
       "      <th>room_shared</th>\n",
       "      <th>room_private</th>\n",
       "      <th>person_capacity</th>\n",
       "      <th>superhost</th>\n",
       "      <th>multi</th>\n",
       "      <th>biz</th>\n",
       "      <th>cleanliness</th>\n",
       "      <th>guest_satisfaction</th>\n",
       "      <th>dist</th>\n",
       "      <th>metro_dist</th>\n",
       "      <th>attr_index</th>\n",
       "      <th>rest_index</th>\n",
       "      <th>lng</th>\n",
       "      <th>lat</th>\n",
       "    </tr>\n",
       "  </thead>\n",
       "  <tbody>\n",
       "    <tr>\n",
       "      <th>0</th>\n",
       "      <td>474.317499</td>\n",
       "      <td>1</td>\n",
       "      <td>False</td>\n",
       "      <td>False</td>\n",
       "      <td>4</td>\n",
       "      <td>False</td>\n",
       "      <td>0</td>\n",
       "      <td>1</td>\n",
       "      <td>10</td>\n",
       "      <td>91</td>\n",
       "      <td>1.111996</td>\n",
       "      <td>0.630491</td>\n",
       "      <td>17.942927</td>\n",
       "      <td>20.154890</td>\n",
       "      <td>2.17556</td>\n",
       "      <td>41.39624</td>\n",
       "    </tr>\n",
       "    <tr>\n",
       "      <th>1</th>\n",
       "      <td>169.897829</td>\n",
       "      <td>1</td>\n",
       "      <td>False</td>\n",
       "      <td>True</td>\n",
       "      <td>2</td>\n",
       "      <td>True</td>\n",
       "      <td>1</td>\n",
       "      <td>0</td>\n",
       "      <td>10</td>\n",
       "      <td>88</td>\n",
       "      <td>1.751839</td>\n",
       "      <td>0.124017</td>\n",
       "      <td>10.910462</td>\n",
       "      <td>17.484489</td>\n",
       "      <td>2.14906</td>\n",
       "      <td>41.38714</td>\n",
       "    </tr>\n",
       "    <tr>\n",
       "      <th>2</th>\n",
       "      <td>161.984779</td>\n",
       "      <td>1</td>\n",
       "      <td>False</td>\n",
       "      <td>True</td>\n",
       "      <td>4</td>\n",
       "      <td>False</td>\n",
       "      <td>0</td>\n",
       "      <td>1</td>\n",
       "      <td>9</td>\n",
       "      <td>88</td>\n",
       "      <td>1.670493</td>\n",
       "      <td>0.080322</td>\n",
       "      <td>11.726595</td>\n",
       "      <td>18.505814</td>\n",
       "      <td>2.15357</td>\n",
       "      <td>41.37859</td>\n",
       "    </tr>\n",
       "    <tr>\n",
       "      <th>3</th>\n",
       "      <td>367.956804</td>\n",
       "      <td>1</td>\n",
       "      <td>False</td>\n",
       "      <td>False</td>\n",
       "      <td>3</td>\n",
       "      <td>False</td>\n",
       "      <td>0</td>\n",
       "      <td>1</td>\n",
       "      <td>10</td>\n",
       "      <td>91</td>\n",
       "      <td>1.475847</td>\n",
       "      <td>0.093107</td>\n",
       "      <td>13.634603</td>\n",
       "      <td>20.837357</td>\n",
       "      <td>2.16839</td>\n",
       "      <td>41.37390</td>\n",
       "    </tr>\n",
       "    <tr>\n",
       "      <th>4</th>\n",
       "      <td>196.895292</td>\n",
       "      <td>1</td>\n",
       "      <td>False</td>\n",
       "      <td>True</td>\n",
       "      <td>3</td>\n",
       "      <td>False</td>\n",
       "      <td>1</td>\n",
       "      <td>0</td>\n",
       "      <td>9</td>\n",
       "      <td>91</td>\n",
       "      <td>1.855452</td>\n",
       "      <td>0.272486</td>\n",
       "      <td>11.793678</td>\n",
       "      <td>17.440874</td>\n",
       "      <td>2.15238</td>\n",
       "      <td>41.37699</td>\n",
       "    </tr>\n",
       "  </tbody>\n",
       "</table>\n",
       "</div>"
      ],
      "text/plain": [
       "        price  bedrooms  room_shared  room_private  person_capacity  \\\n",
       "0  474.317499         1        False         False                4   \n",
       "1  169.897829         1        False          True                2   \n",
       "2  161.984779         1        False          True                4   \n",
       "3  367.956804         1        False         False                3   \n",
       "4  196.895292         1        False          True                3   \n",
       "\n",
       "   superhost  multi  biz  cleanliness  guest_satisfaction      dist  \\\n",
       "0      False      0    1           10                  91  1.111996   \n",
       "1       True      1    0           10                  88  1.751839   \n",
       "2      False      0    1            9                  88  1.670493   \n",
       "3      False      0    1           10                  91  1.475847   \n",
       "4      False      1    0            9                  91  1.855452   \n",
       "\n",
       "   metro_dist  attr_index  rest_index      lng       lat  \n",
       "0    0.630491   17.942927   20.154890  2.17556  41.39624  \n",
       "1    0.124017   10.910462   17.484489  2.14906  41.38714  \n",
       "2    0.080322   11.726595   18.505814  2.15357  41.37859  \n",
       "3    0.093107   13.634603   20.837357  2.16839  41.37390  \n",
       "4    0.272486   11.793678   17.440874  2.15238  41.37699  "
      ]
     },
     "execution_count": 3,
     "metadata": {},
     "output_type": "execute_result"
    }
   ],
   "source": [
    "Barcelona_airbnb = pd.read_csv('Barcelona.csv')\n",
    "Barcelona_airbnb.head()"
   ]
  },
  {
   "cell_type": "markdown",
   "id": "0b258061",
   "metadata": {},
   "source": [
    "3. How many observations? Display the variable names."
   ]
  },
  {
   "cell_type": "code",
   "execution_count": 4,
   "id": "9845b2f9",
   "metadata": {},
   "outputs": [
    {
     "data": {
      "text/plain": [
       "(1555, 16)"
      ]
     },
     "execution_count": 4,
     "metadata": {},
     "output_type": "execute_result"
    }
   ],
   "source": [
    "Barcelona_airbnb.shape\n"
   ]
  },
  {
   "cell_type": "markdown",
   "id": "094964c5",
   "metadata": {},
   "source": [
    "There are 1555 observations"
   ]
  },
  {
   "cell_type": "code",
   "execution_count": 5,
   "id": "1165984b",
   "metadata": {},
   "outputs": [
    {
     "data": {
      "text/plain": [
       "Index(['price', 'bedrooms', 'room_shared', 'room_private', 'person_capacity',\n",
       "       'superhost', 'multi', 'biz', 'cleanliness', 'guest_satisfaction',\n",
       "       'dist', 'metro_dist', 'attr_index', 'rest_index', 'lng', 'lat'],\n",
       "      dtype='object')"
      ]
     },
     "execution_count": 5,
     "metadata": {},
     "output_type": "execute_result"
    }
   ],
   "source": [
    "#variable names\n",
    "Barcelona_airbnb.columns"
   ]
  },
  {
   "cell_type": "markdown",
   "id": "e2981d17",
   "metadata": {},
   "source": [
    "4.1 Explore the variable 'price'. First, Let's find out the statistics using describe(). Then we use a graph to explore the distribution. What do you find?"
   ]
  },
  {
   "cell_type": "code",
   "execution_count": 6,
   "id": "e89875d6",
   "metadata": {
    "scrolled": true
   },
   "outputs": [
    {
     "data": {
      "text/plain": [
       "count    1555.000000\n",
       "mean      288.391667\n",
       "std       321.180435\n",
       "min        69.588289\n",
       "25%       161.984779\n",
       "50%       208.532129\n",
       "75%       335.373659\n",
       "max      6943.700980\n",
       "Name: price, dtype: float64"
      ]
     },
     "execution_count": 6,
     "metadata": {},
     "output_type": "execute_result"
    }
   ],
   "source": [
    "Barcelona_airbnb['price'].describe()"
   ]
  },
  {
   "cell_type": "code",
   "execution_count": 7,
   "id": "93d5667c",
   "metadata": {
    "scrolled": false
   },
   "outputs": [
    {
     "data": {
      "text/plain": [
       "(array([1.5e+03, 4.9e+01, 3.0e+00, 0.0e+00, 0.0e+00, 0.0e+00, 1.0e+00,\n",
       "        0.0e+00, 0.0e+00, 2.0e+00]),\n",
       " array([  69.58828869,  756.99955782, 1444.41082695, 2131.82209608,\n",
       "        2819.23336521, 3506.64463434, 4194.05590348, 4881.46717261,\n",
       "        5568.87844174, 6256.28971087, 6943.70098   ]),\n",
       " <BarContainer object of 10 artists>)"
      ]
     },
     "execution_count": 7,
     "metadata": {},
     "output_type": "execute_result"
    },
    {
     "data": {
      "image/png": "[encoded data removed]",
      "text/plain": [
       "<Figure size 640x480 with 1 Axes>"
      ]
     },
     "metadata": {},
     "output_type": "display_data"
    }
   ],
   "source": [
    "#we can specify the bins\n",
    "plt.hist(Barcelona_airbnb['price'])\n",
    "#range(begnining,endinf,step)"
   ]
  },
  {
   "cell_type": "markdown",
   "id": "f3e45e68",
   "metadata": {},
   "source": [
    "The histogram displays a positively skewed distribution of prices, indicating a departure from normality. As part of data preprocessing, we will identify and exclude outliers to better align with the assumptions of normality in subsequent analyses.\n",
    "\n",
    "\n"
   ]
  },
  {
   "cell_type": "code",
   "execution_count": null,
   "id": "8eb3218c",
   "metadata": {},
   "outputs": [],
   "source": []
  },
  {
   "cell_type": "markdown",
   "id": "662d7d0c",
   "metadata": {},
   "source": [
    "4.2 We decide to remove the price outliers (defined as three standard deviation away from the mean) and repeat the graph. What do you find?"
   ]
  },
  {
   "cell_type": "code",
   "execution_count": 8,
   "id": "c81ccced",
   "metadata": {},
   "outputs": [
    {
     "data": {
      "text/plain": [
       "983.6525705820001"
      ]
     },
     "execution_count": 8,
     "metadata": {},
     "output_type": "execute_result"
    }
   ],
   "source": [
    "Barcelona_airbnb['price'].quantile(0.99)"
   ]
  },
  {
   "cell_type": "code",
   "execution_count": 9,
   "id": "3f59598c",
   "metadata": {},
   "outputs": [
    {
     "data": {
      "text/plain": [
       "6943.70098"
      ]
     },
     "execution_count": 9,
     "metadata": {},
     "output_type": "execute_result"
    }
   ],
   "source": [
    "Barcelona_airbnb['price'].quantile(0.9999)"
   ]
  },
  {
   "cell_type": "code",
   "execution_count": 10,
   "id": "14b10cbe",
   "metadata": {},
   "outputs": [
    {
     "data": {
      "text/plain": [
       "288.39166706715116"
      ]
     },
     "execution_count": 10,
     "metadata": {},
     "output_type": "execute_result"
    }
   ],
   "source": [
    "Barcelona_airbnb['price'].mean()"
   ]
  },
  {
   "cell_type": "code",
   "execution_count": 11,
   "id": "7e32df7d",
   "metadata": {},
   "outputs": [
    {
     "data": {
      "text/plain": [
       "321.1804352615852"
      ]
     },
     "execution_count": 11,
     "metadata": {},
     "output_type": "execute_result"
    }
   ],
   "source": [
    "Barcelona_airbnb['price'].std()"
   ]
  },
  {
   "cell_type": "code",
   "execution_count": null,
   "id": "1972aab2",
   "metadata": {},
   "outputs": [],
   "source": []
  },
  {
   "cell_type": "code",
   "execution_count": 12,
   "id": "f39c5b07",
   "metadata": {},
   "outputs": [],
   "source": [
    "outlier_rm=Barcelona_airbnb['price'].mean()+3* Barcelona_airbnb['price'].std()"
   ]
  },
  {
   "cell_type": "code",
   "execution_count": 13,
   "id": "7dd60fce",
   "metadata": {},
   "outputs": [
    {
     "data": {
      "text/plain": [
       "1251.932972851907"
      ]
     },
     "execution_count": 13,
     "metadata": {},
     "output_type": "execute_result"
    }
   ],
   "source": [
    "outlier_rm"
   ]
  },
  {
   "cell_type": "code",
   "execution_count": 14,
   "id": "fa2585d1",
   "metadata": {},
   "outputs": [],
   "source": [
    "bc_normal_price =Barcelona_airbnb[Barcelona_airbnb['price']<1251]"
   ]
  },
  {
   "cell_type": "code",
   "execution_count": 15,
   "id": "0e3f9571",
   "metadata": {},
   "outputs": [
    {
     "data": {
      "text/html": [
       "<div>\n",
       "<style scoped>\n",
       "    .dataframe tbody tr th:only-of-type {\n",
       "        vertical-align: middle;\n",
       "    }\n",
       "\n",
       "    .dataframe tbody tr th {\n",
       "        vertical-align: top;\n",
       "    }\n",
       "\n",
       "    .dataframe thead th {\n",
       "        text-align: right;\n",
       "    }\n",
       "</style>\n",
       "<table border=\"1\" class=\"dataframe\">\n",
       "  <thead>\n",
       "    <tr style=\"text-align: right;\">\n",
       "      <th></th>\n",
       "      <th>price</th>\n",
       "      <th>bedrooms</th>\n",
       "      <th>room_shared</th>\n",
       "      <th>room_private</th>\n",
       "      <th>person_capacity</th>\n",
       "      <th>superhost</th>\n",
       "      <th>multi</th>\n",
       "      <th>biz</th>\n",
       "      <th>cleanliness</th>\n",
       "      <th>guest_satisfaction</th>\n",
       "      <th>dist</th>\n",
       "      <th>metro_dist</th>\n",
       "      <th>attr_index</th>\n",
       "      <th>rest_index</th>\n",
       "      <th>lng</th>\n",
       "      <th>lat</th>\n",
       "    </tr>\n",
       "  </thead>\n",
       "  <tbody>\n",
       "    <tr>\n",
       "      <th>0</th>\n",
       "      <td>474.317499</td>\n",
       "      <td>1</td>\n",
       "      <td>False</td>\n",
       "      <td>False</td>\n",
       "      <td>4</td>\n",
       "      <td>False</td>\n",
       "      <td>0</td>\n",
       "      <td>1</td>\n",
       "      <td>10</td>\n",
       "      <td>91</td>\n",
       "      <td>1.111996</td>\n",
       "      <td>0.630491</td>\n",
       "      <td>17.942927</td>\n",
       "      <td>20.154890</td>\n",
       "      <td>2.17556</td>\n",
       "      <td>41.39624</td>\n",
       "    </tr>\n",
       "    <tr>\n",
       "      <th>1</th>\n",
       "      <td>169.897829</td>\n",
       "      <td>1</td>\n",
       "      <td>False</td>\n",
       "      <td>True</td>\n",
       "      <td>2</td>\n",
       "      <td>True</td>\n",
       "      <td>1</td>\n",
       "      <td>0</td>\n",
       "      <td>10</td>\n",
       "      <td>88</td>\n",
       "      <td>1.751839</td>\n",
       "      <td>0.124017</td>\n",
       "      <td>10.910462</td>\n",
       "      <td>17.484489</td>\n",
       "      <td>2.14906</td>\n",
       "      <td>41.38714</td>\n",
       "    </tr>\n",
       "    <tr>\n",
       "      <th>2</th>\n",
       "      <td>161.984779</td>\n",
       "      <td>1</td>\n",
       "      <td>False</td>\n",
       "      <td>True</td>\n",
       "      <td>4</td>\n",
       "      <td>False</td>\n",
       "      <td>0</td>\n",
       "      <td>1</td>\n",
       "      <td>9</td>\n",
       "      <td>88</td>\n",
       "      <td>1.670493</td>\n",
       "      <td>0.080322</td>\n",
       "      <td>11.726595</td>\n",
       "      <td>18.505814</td>\n",
       "      <td>2.15357</td>\n",
       "      <td>41.37859</td>\n",
       "    </tr>\n",
       "    <tr>\n",
       "      <th>3</th>\n",
       "      <td>367.956804</td>\n",
       "      <td>1</td>\n",
       "      <td>False</td>\n",
       "      <td>False</td>\n",
       "      <td>3</td>\n",
       "      <td>False</td>\n",
       "      <td>0</td>\n",
       "      <td>1</td>\n",
       "      <td>10</td>\n",
       "      <td>91</td>\n",
       "      <td>1.475847</td>\n",
       "      <td>0.093107</td>\n",
       "      <td>13.634603</td>\n",
       "      <td>20.837357</td>\n",
       "      <td>2.16839</td>\n",
       "      <td>41.37390</td>\n",
       "    </tr>\n",
       "    <tr>\n",
       "      <th>4</th>\n",
       "      <td>196.895292</td>\n",
       "      <td>1</td>\n",
       "      <td>False</td>\n",
       "      <td>True</td>\n",
       "      <td>3</td>\n",
       "      <td>False</td>\n",
       "      <td>1</td>\n",
       "      <td>0</td>\n",
       "      <td>9</td>\n",
       "      <td>91</td>\n",
       "      <td>1.855452</td>\n",
       "      <td>0.272486</td>\n",
       "      <td>11.793678</td>\n",
       "      <td>17.440874</td>\n",
       "      <td>2.15238</td>\n",
       "      <td>41.37699</td>\n",
       "    </tr>\n",
       "    <tr>\n",
       "      <th>...</th>\n",
       "      <td>...</td>\n",
       "      <td>...</td>\n",
       "      <td>...</td>\n",
       "      <td>...</td>\n",
       "      <td>...</td>\n",
       "      <td>...</td>\n",
       "      <td>...</td>\n",
       "      <td>...</td>\n",
       "      <td>...</td>\n",
       "      <td>...</td>\n",
       "      <td>...</td>\n",
       "      <td>...</td>\n",
       "      <td>...</td>\n",
       "      <td>...</td>\n",
       "      <td>...</td>\n",
       "      <td>...</td>\n",
       "    </tr>\n",
       "    <tr>\n",
       "      <th>1549</th>\n",
       "      <td>300.928620</td>\n",
       "      <td>1</td>\n",
       "      <td>False</td>\n",
       "      <td>True</td>\n",
       "      <td>2</td>\n",
       "      <td>False</td>\n",
       "      <td>0</td>\n",
       "      <td>0</td>\n",
       "      <td>10</td>\n",
       "      <td>100</td>\n",
       "      <td>2.394839</td>\n",
       "      <td>0.954952</td>\n",
       "      <td>9.709902</td>\n",
       "      <td>12.430326</td>\n",
       "      <td>2.19590</td>\n",
       "      <td>41.39637</td>\n",
       "    </tr>\n",
       "    <tr>\n",
       "      <th>1550</th>\n",
       "      <td>769.660437</td>\n",
       "      <td>3</td>\n",
       "      <td>False</td>\n",
       "      <td>False</td>\n",
       "      <td>6</td>\n",
       "      <td>False</td>\n",
       "      <td>0</td>\n",
       "      <td>1</td>\n",
       "      <td>8</td>\n",
       "      <td>84</td>\n",
       "      <td>2.503374</td>\n",
       "      <td>0.554007</td>\n",
       "      <td>9.075307</td>\n",
       "      <td>14.946029</td>\n",
       "      <td>2.19991</td>\n",
       "      <td>41.38834</td>\n",
       "    </tr>\n",
       "    <tr>\n",
       "      <th>1551</th>\n",
       "      <td>318.151139</td>\n",
       "      <td>1</td>\n",
       "      <td>False</td>\n",
       "      <td>True</td>\n",
       "      <td>2</td>\n",
       "      <td>True</td>\n",
       "      <td>1</td>\n",
       "      <td>0</td>\n",
       "      <td>9</td>\n",
       "      <td>98</td>\n",
       "      <td>2.619616</td>\n",
       "      <td>0.761843</td>\n",
       "      <td>8.747713</td>\n",
       "      <td>12.276081</td>\n",
       "      <td>2.20066</td>\n",
       "      <td>41.39204</td>\n",
       "    </tr>\n",
       "    <tr>\n",
       "      <th>1552</th>\n",
       "      <td>248.562851</td>\n",
       "      <td>1</td>\n",
       "      <td>False</td>\n",
       "      <td>True</td>\n",
       "      <td>2</td>\n",
       "      <td>True</td>\n",
       "      <td>1</td>\n",
       "      <td>0</td>\n",
       "      <td>10</td>\n",
       "      <td>98</td>\n",
       "      <td>2.700091</td>\n",
       "      <td>0.866258</td>\n",
       "      <td>8.538490</td>\n",
       "      <td>11.868058</td>\n",
       "      <td>2.20140</td>\n",
       "      <td>41.39286</td>\n",
       "    </tr>\n",
       "    <tr>\n",
       "      <th>1554</th>\n",
       "      <td>543.905788</td>\n",
       "      <td>1</td>\n",
       "      <td>False</td>\n",
       "      <td>False</td>\n",
       "      <td>4</td>\n",
       "      <td>False</td>\n",
       "      <td>1</td>\n",
       "      <td>0</td>\n",
       "      <td>9</td>\n",
       "      <td>94</td>\n",
       "      <td>2.403086</td>\n",
       "      <td>0.607264</td>\n",
       "      <td>9.435073</td>\n",
       "      <td>12.871337</td>\n",
       "      <td>2.19796</td>\n",
       "      <td>41.39219</td>\n",
       "    </tr>\n",
       "  </tbody>\n",
       "</table>\n",
       "<p>1548 rows × 16 columns</p>\n",
       "</div>"
      ],
      "text/plain": [
       "           price  bedrooms  room_shared  room_private  person_capacity  \\\n",
       "0     474.317499         1        False         False                4   \n",
       "1     169.897829         1        False          True                2   \n",
       "2     161.984779         1        False          True                4   \n",
       "3     367.956804         1        False         False                3   \n",
       "4     196.895292         1        False          True                3   \n",
       "...          ...       ...          ...           ...              ...   \n",
       "1549  300.928620         1        False          True                2   \n",
       "1550  769.660437         3        False         False                6   \n",
       "1551  318.151139         1        False          True                2   \n",
       "1552  248.562851         1        False          True                2   \n",
       "1554  543.905788         1        False         False                4   \n",
       "\n",
       "      superhost  multi  biz  cleanliness  guest_satisfaction      dist  \\\n",
       "0         False      0    1           10                  91  1.111996   \n",
       "1          True      1    0           10                  88  1.751839   \n",
       "2         False      0    1            9                  88  1.670493   \n",
       "3         False      0    1           10                  91  1.475847   \n",
       "4         False      1    0            9                  91  1.855452   \n",
       "...         ...    ...  ...          ...                 ...       ...   \n",
       "1549      False      0    0           10                 100  2.394839   \n",
       "1550      False      0    1            8                  84  2.503374   \n",
       "1551       True      1    0            9                  98  2.619616   \n",
       "1552       True      1    0           10                  98  2.700091   \n",
       "1554      False      1    0            9                  94  2.403086   \n",
       "\n",
       "      metro_dist  attr_index  rest_index      lng       lat  \n",
       "0       0.630491   17.942927   20.154890  2.17556  41.39624  \n",
       "1       0.124017   10.910462   17.484489  2.14906  41.38714  \n",
       "2       0.080322   11.726595   18.505814  2.15357  41.37859  \n",
       "3       0.093107   13.634603   20.837357  2.16839  41.37390  \n",
       "4       0.272486   11.793678   17.440874  2.15238  41.37699  \n",
       "...          ...         ...         ...      ...       ...  \n",
       "1549    0.954952    9.709902   12.430326  2.19590  41.39637  \n",
       "1550    0.554007    9.075307   14.946029  2.19991  41.38834  \n",
       "1551    0.761843    8.747713   12.276081  2.20066  41.39204  \n",
       "1552    0.866258    8.538490   11.868058  2.20140  41.39286  \n",
       "1554    0.607264    9.435073   12.871337  2.19796  41.39219  \n",
       "\n",
       "[1548 rows x 16 columns]"
      ]
     },
     "execution_count": 15,
     "metadata": {},
     "output_type": "execute_result"
    }
   ],
   "source": [
    "bc_normal_price\n"
   ]
  },
  {
   "cell_type": "code",
   "execution_count": 16,
   "id": "b49bca8c",
   "metadata": {},
   "outputs": [
    {
     "data": {
      "text/plain": [
       "count    1548.000000\n",
       "mean      273.792988\n",
       "std       174.774851\n",
       "min        69.588289\n",
       "25%       161.984779\n",
       "50%       208.532129\n",
       "75%       330.078898\n",
       "max      1094.793679\n",
       "Name: price, dtype: float64"
      ]
     },
     "execution_count": 16,
     "metadata": {},
     "output_type": "execute_result"
    }
   ],
   "source": [
    "bc_normal_price['price'].describe()"
   ]
  },
  {
   "cell_type": "code",
   "execution_count": null,
   "id": "0cbc86f7",
   "metadata": {},
   "outputs": [],
   "source": []
  },
  {
   "cell_type": "code",
   "execution_count": 17,
   "id": "19cde1bc",
   "metadata": {},
   "outputs": [
    {
     "data": {
      "text/plain": [
       "(1548, 16)"
      ]
     },
     "execution_count": 17,
     "metadata": {},
     "output_type": "execute_result"
    }
   ],
   "source": [
    "bc_normal_price.shape"
   ]
  },
  {
   "cell_type": "code",
   "execution_count": null,
   "id": "e366b179",
   "metadata": {},
   "outputs": [],
   "source": []
  },
  {
   "cell_type": "code",
   "execution_count": 18,
   "id": "79baf37e",
   "metadata": {},
   "outputs": [
    {
     "data": {
      "text/plain": [
       "<Figure size 1000x600 with 0 Axes>"
      ]
     },
     "execution_count": 18,
     "metadata": {},
     "output_type": "execute_result"
    },
    {
     "data": {
      "text/plain": [
       "<Axes: xlabel='price', ylabel='Count'>"
      ]
     },
     "execution_count": 18,
     "metadata": {},
     "output_type": "execute_result"
    },
    {
     "data": {
      "text/plain": [
       "Text(0.5, 1.0, 'Distribution of Prices for barcelona airbnb')"
      ]
     },
     "execution_count": 18,
     "metadata": {},
     "output_type": "execute_result"
    },
    {
     "data": {
      "text/plain": [
       "Text(0.5, 0, 'Price (Euros)')"
      ]
     },
     "execution_count": 18,
     "metadata": {},
     "output_type": "execute_result"
    },
    {
     "data": {
      "text/plain": [
       "Text(0, 0.5, 'Frequency')"
      ]
     },
     "execution_count": 18,
     "metadata": {},
     "output_type": "execute_result"
    },
    {
     "data": {
      "image/png": "[encoded data removed]",
      "text/plain": [
       "<Figure size 1000x600 with 1 Axes>"
      ]
     },
     "metadata": {},
     "output_type": "display_data"
    }
   ],
   "source": [
    "plt.figure(figsize=(10, 6))\n",
    "#custom_colors = ['lightgreen', 'mediumseagreen', 'green', 'darkgreen']\n",
    "#plt.hist(toyato_cars['Price'], bins=20, color='mediumseagreen', edgecolor='black')\n",
    "#sn.histplot(data=toyato_cars, x=\"Price\")\n",
    "sn.histplot(data=bc_normal_price, x=\"price\", color='mediumseagreen',kde=True)\n",
    "\n",
    "plt.title('Distribution of Prices for barcelona airbnb')\n",
    "plt.xlabel('Price (Euros)')\n",
    "plt.ylabel('Frequency')\n",
    "plt.grid(True)\n",
    "\n",
    "#Bins: 20\n",
    "#Interpretation: The data range is divided into 20 intervals.\n",
    "#Visual Effect: The resulting histogram will have 20 bars."
   ]
  },
  {
   "cell_type": "markdown",
   "id": "4ca7ded2",
   "metadata": {},
   "source": [
    "Following the removal of outliers, the data still exhibits a positively skewed distribution; however, it now conforms more closely to a normal distribution compared to the initial dataset.\n",
    "\n",
    "\n",
    "\n",
    "\n",
    "\n"
   ]
  },
  {
   "cell_type": "markdown",
   "id": "c2b91280",
   "metadata": {},
   "source": [
    "5. How many superhosts are there? Create a graph to display as well."
   ]
  },
  {
   "cell_type": "code",
   "execution_count": 19,
   "id": "d10f0aef",
   "metadata": {},
   "outputs": [
    {
     "data": {
      "text/plain": [
       "superhost\n",
       "False    1269\n",
       "True      279\n",
       "Name: count, dtype: int64"
      ]
     },
     "execution_count": 19,
     "metadata": {},
     "output_type": "execute_result"
    }
   ],
   "source": [
    "superhost_counts = bc_normal_price['superhost'].value_counts()\n",
    "superhost_counts"
   ]
  },
  {
   "cell_type": "code",
   "execution_count": 20,
   "id": "a7ac2237",
   "metadata": {},
   "outputs": [
    {
     "data": {
      "text/plain": [
       "<Axes: xlabel='superhost'>"
      ]
     },
     "execution_count": 20,
     "metadata": {},
     "output_type": "execute_result"
    },
    {
     "data": {
      "text/plain": [
       "Text(0.5, 1.0, 'Number of Superhosts')"
      ]
     },
     "execution_count": 20,
     "metadata": {},
     "output_type": "execute_result"
    },
    {
     "data": {
      "text/plain": [
       "Text(0.5, 0, 'Superhost Status')"
      ]
     },
     "execution_count": 20,
     "metadata": {},
     "output_type": "execute_result"
    },
    {
     "data": {
      "text/plain": [
       "Text(0, 0.5, 'Count')"
      ]
     },
     "execution_count": 20,
     "metadata": {},
     "output_type": "execute_result"
    },
    {
     "data": {
      "image/png": "[encoded data removed]",
      "text/plain": [
       "<Figure size 640x480 with 1 Axes>"
      ]
     },
     "metadata": {},
     "output_type": "display_data"
    }
   ],
   "source": [
    "superhost_counts.plot(kind='bar', color=['blue', 'green'])\n",
    "\n",
    "# Add title and labels\n",
    "plt.title('Number of Superhosts')\n",
    "plt.xlabel('Superhost Status')\n",
    "plt.ylabel('Count')\n",
    "plt.show()"
   ]
  },
  {
   "cell_type": "markdown",
   "id": "9c489462",
   "metadata": {},
   "source": [
    "There are 279 superhosts"
   ]
  },
  {
   "cell_type": "markdown",
   "id": "3943c631",
   "metadata": {},
   "source": [
    "6. Is there possible correlation between the distance to the closest metro station and price?"
   ]
  },
  {
   "cell_type": "code",
   "execution_count": 21,
   "id": "7a1e1d15",
   "metadata": {},
   "outputs": [
    {
     "name": "stdout",
     "output_type": "stream",
     "text": [
      "Correlation Coefficient: -0.03942016657108458\n"
     ]
    },
    {
     "data": {
      "text/plain": [
       "<Figure size 1000x600 with 0 Axes>"
      ]
     },
     "execution_count": 21,
     "metadata": {},
     "output_type": "execute_result"
    },
    {
     "data": {
      "text/plain": [
       "<matplotlib.collections.PathCollection at 0x152b8eed0>"
      ]
     },
     "execution_count": 21,
     "metadata": {},
     "output_type": "execute_result"
    },
    {
     "data": {
      "text/plain": [
       "<Axes: xlabel='metro_dist', ylabel='price'>"
      ]
     },
     "execution_count": 21,
     "metadata": {},
     "output_type": "execute_result"
    },
    {
     "data": {
      "text/plain": [
       "Text(0.5, 1.0, 'Distance to Metro vs Price')"
      ]
     },
     "execution_count": 21,
     "metadata": {},
     "output_type": "execute_result"
    },
    {
     "data": {
      "text/plain": [
       "Text(0.5, 0, 'Distance to Metro Station')"
      ]
     },
     "execution_count": 21,
     "metadata": {},
     "output_type": "execute_result"
    },
    {
     "data": {
      "text/plain": [
       "Text(0, 0.5, 'Price (Euros)')"
      ]
     },
     "execution_count": 21,
     "metadata": {},
     "output_type": "execute_result"
    },
    {
     "data": {
      "image/png": "[encoded data removed]",
      "text/plain": [
       "<Figure size 1000x600 with 1 Axes>"
      ]
     },
     "metadata": {},
     "output_type": "display_data"
    }
   ],
   "source": [
    "correlation = bc_normal_price['metro_dist'].corr(bc_normal_price['price'])\n",
    "\n",
    "\n",
    "\n",
    "# Print the correlation coefficient\n",
    "print(\"Correlation Coefficient:\", correlation)\n",
    "\n",
    "plt.figure(figsize=(10, 6))\n",
    "plt.scatter(bc_normal_price['metro_dist'], bc_normal_price['price'], alpha=0.5, color='green')\n",
    "sn.regplot(x='metro_dist',y='price',data=bc_normal_price,line_kws={'color': 'red'})\n",
    "plt.title('Distance to Metro vs Price')\n",
    "plt.xlabel('Distance to Metro Station')\n",
    "plt.ylabel('Price (Euros)')\n",
    "plt.grid(True)\n",
    "\n"
   ]
  },
  {
   "cell_type": "markdown",
   "id": "9c1b7ba9",
   "metadata": {},
   "source": [
    "A correlation coefficient of -0.0394 suggests a very weak negative correlation between the distance to the closest metro station and the price of properties.\n",
    "\n",
    "The negative sign indicates that as the distance to the closest metro station increases, the price tends to decrease slightly, but the correlation is very weak."
   ]
  },
  {
   "cell_type": "markdown",
   "id": "dbd07efa",
   "metadata": {},
   "source": [
    "7. Run a linear regression model with the dataset. 'price' is the target variable and all other features (except longitude and latitude) as predictor variables. Follow the steps we have practiced in class. Display the results.<br>\n",
    "    Hint: You need to turn True/False Boolean variables (room_private, room_shared, and superhost) into 1/0 before applying statsmodels models. You can use .astype(int). Remember to save the changes by assigning the changed outcome back to the variable, such as <i>car['price'] = car['price']/1000</i>."
   ]
  },
  {
   "cell_type": "code",
   "execution_count": 22,
   "id": "eca68648",
   "metadata": {},
   "outputs": [
    {
     "name": "stdout",
     "output_type": "stream",
     "text": [
      "                            OLS Regression Results                            \n",
      "==============================================================================\n",
      "Dep. Variable:                  price   R-squared:                       0.693\n",
      "Model:                            OLS   Adj. R-squared:                  0.691\n",
      "Method:                 Least Squares   F-statistic:                     266.7\n",
      "Date:                Tue, 20 Feb 2024   Prob (F-statistic):               0.00\n",
      "Time:                        23:01:15   Log-Likelihood:                -9274.5\n",
      "No. Observations:                1548   AIC:                         1.858e+04\n",
      "Df Residuals:                    1534   BIC:                         1.865e+04\n",
      "Df Model:                          13                                         \n",
      "Covariance Type:            nonrobust                                         \n",
      "======================================================================================\n",
      "                         coef    std err          t      P>|t|      [0.025      0.975]\n",
      "--------------------------------------------------------------------------------------\n",
      "const                 96.4191     35.751      2.697      0.007      26.294     166.545\n",
      "bedrooms              38.0055      6.858      5.542      0.000      24.553      51.458\n",
      "room_shared         -270.6826     35.552     -7.614      0.000    -340.418    -200.947\n",
      "room_private        -169.8302      9.195    -18.470      0.000    -187.866    -151.794\n",
      "person_capacity       47.5661      3.574     13.310      0.000      40.556      54.576\n",
      "superhost             15.5403      6.797      2.286      0.022       2.207      28.873\n",
      "multi                 -3.8143      6.241     -0.611      0.541     -16.056       8.428\n",
      "biz                   19.1618      7.005      2.736      0.006       5.422      32.901\n",
      "cleanliness           -2.7610      3.567     -0.774      0.439      -9.757       4.235\n",
      "guest_satisfaction     1.5329      0.425      3.609      0.000       0.700       2.366\n",
      "dist                 -10.6433      3.450     -3.085      0.002     -17.411      -3.876\n",
      "metro_dist            23.3560     10.040      2.326      0.020       3.662      43.051\n",
      "attr_index             0.6253      0.387      1.614      0.107      -0.135       1.385\n",
      "rest_index             0.6377      0.479      1.332      0.183      -0.301       1.577\n",
      "==============================================================================\n",
      "Omnibus:                      561.132   Durbin-Watson:                   1.657\n",
      "Prob(Omnibus):                  0.000   Jarque-Bera (JB):             3437.329\n",
      "Skew:                           1.562   Prob(JB):                         0.00\n",
      "Kurtosis:                       9.598   Cond. No.                     1.41e+03\n",
      "==============================================================================\n",
      "\n",
      "Notes:\n",
      "[1] Standard Errors assume that the covariance matrix of the errors is correctly specified.\n",
      "[2] The condition number is large, 1.41e+03. This might indicate that there are\n",
      "strong multicollinearity or other numerical problems.\n"
     ]
    },
    {
     "name": "stderr",
     "output_type": "stream",
     "text": [
      "/var/folders/f6/6y_grg9579bbhr44mb5t2zg80000gp/T/ipykernel_59809/2323125246.py:2: SettingWithCopyWarning: \n",
      "A value is trying to be set on a copy of a slice from a DataFrame.\n",
      "Try using .loc[row_indexer,col_indexer] = value instead\n",
      "\n",
      "See the caveats in the documentation: https://pandas.pydata.org/pandas-docs/stable/user_guide/indexing.html#returning-a-view-versus-a-copy\n",
      "  bc_normal_price['room_shared'] = bc_normal_price['room_shared'].astype(int)\n",
      "/var/folders/f6/6y_grg9579bbhr44mb5t2zg80000gp/T/ipykernel_59809/2323125246.py:3: SettingWithCopyWarning: \n",
      "A value is trying to be set on a copy of a slice from a DataFrame.\n",
      "Try using .loc[row_indexer,col_indexer] = value instead\n",
      "\n",
      "See the caveats in the documentation: https://pandas.pydata.org/pandas-docs/stable/user_guide/indexing.html#returning-a-view-versus-a-copy\n",
      "  bc_normal_price['room_private'] = bc_normal_price['room_private'].astype(int)\n",
      "/var/folders/f6/6y_grg9579bbhr44mb5t2zg80000gp/T/ipykernel_59809/2323125246.py:4: SettingWithCopyWarning: \n",
      "A value is trying to be set on a copy of a slice from a DataFrame.\n",
      "Try using .loc[row_indexer,col_indexer] = value instead\n",
      "\n",
      "See the caveats in the documentation: https://pandas.pydata.org/pandas-docs/stable/user_guide/indexing.html#returning-a-view-versus-a-copy\n",
      "  bc_normal_price['superhost'] = bc_normal_price['superhost'].astype(int)\n"
     ]
    }
   ],
   "source": [
    "\n",
    "\n",
    "# Convert True/False Boolean variables to 1/0\n",
    "bc_normal_price['room_shared'] = bc_normal_price['room_shared'].astype(int)\n",
    "bc_normal_price['room_private'] = bc_normal_price['room_private'].astype(int)\n",
    "bc_normal_price['superhost'] = bc_normal_price['superhost'].astype(int)\n",
    "\n",
    "# Divide the price by 1000\n",
    "#normal_price['price'] = normal_price['price'] / 1000\n",
    "\n",
    "# Define predictor variables (excluding longitude and latitude)\n",
    "predictors = ['bedrooms', 'room_shared', 'room_private', 'person_capacity', \n",
    "              'superhost', 'multi', 'biz', 'cleanliness', 'guest_satisfaction', \n",
    "              'dist', 'metro_dist', 'attr_index', 'rest_index']\n",
    "\n",
    "# Add a constant term to the predictors\n",
    "X = sm.add_constant(bc_normal_price[predictors])\n",
    "\n",
    "# Define the target variable\n",
    "y = bc_normal_price['price']\n",
    "\n",
    "# Fit the linear regression model\n",
    "model = sm.OLS(y, X).fit()\n",
    "\n",
    "# Display the regression results\n",
    "print(model.summary())\n"
   ]
  },
  {
   "cell_type": "code",
   "execution_count": null,
   "id": "a95bf077",
   "metadata": {},
   "outputs": [],
   "source": []
  },
  {
   "cell_type": "markdown",
   "id": "389364c8",
   "metadata": {},
   "source": [
    "8. Which variables are important to predict the prices? Which are not?"
   ]
  },
  {
   "cell_type": "markdown",
   "id": "5369f2fe",
   "metadata": {},
   "source": [
    "Statistically significant variables: Variables with p-values less than 0.05 are typically considered statistically significant. In this case, 'bedrooms', 'room_shared', 'room_private', 'person_capacity', 'superhost', 'biz', 'guest_satisfaction', 'dist', and 'metro_dist' have p-values less than 0.05, indicating that they are statistically significant predictors of price.\n",
    "\n",
    "Insignificant variables: 'multi', 'cleanliness', 'attr_index', and 'rest_index' have p-values greater than 0.05, indicating that they are not statistically significant predictors of price. Their coefficients are not reliable for predicting price changes in the model.\n",
    "\n",
    "\n",
    "Important predictors: The coefficients of statistically significant variables tell us the direction and magnitude of their impact on price. For example, 'bedrooms', 'person_capacity', 'superhost', and 'guest_satisfaction' have positive coefficients, suggesting that an increase in these variables is associated with higher prices. Conversely, 'room_shared', 'room_private', 'dist', and 'metro_dist' have negative coefficients, indicating that an increase in these variables is associated with lower prices.\n",
    "\n",
    "\n",
    "\n",
    "Based on these results, the important predictors for predicting prices are 'bedrooms', 'room_shared', 'room_private', 'person_capacity', 'superhost', 'biz', 'guest_satisfaction', 'dist', and 'metro_dist'. Conversely, 'multi', 'cleanliness', 'attr_index', and 'rest_index' are not important predictors in this model.\n"
   ]
  },
  {
   "cell_type": "markdown",
   "id": "892f79cc",
   "metadata": {},
   "source": [
    "9. Interpret the impact of metro_dist on the price."
   ]
  },
  {
   "cell_type": "markdown",
   "id": "9c9aa76a",
   "metadata": {},
   "source": [
    "The coefficient of 'metro_dist' in the regression results is 23.3560. This indicates that for each unit increase in the distance to the closest metro station (measured in meters), the price of the property is expected to increase by approximately 23.3560 units, holding all other variables constant.\n",
    "\n",
    "Since the coefficient of 'metro_dist' is positive, it suggests that there is a positive relationship between the distance to the closest metro station and the price of the property. In other words, properties located farther away from the metro station tend to have higher prices, according to the model."
   ]
  },
  {
   "cell_type": "markdown",
   "id": "590b6279",
   "metadata": {},
   "source": [
    "10. Interpret the impact of being a superhost."
   ]
  },
  {
   "cell_type": "markdown",
   "id": "ad21f2e9",
   "metadata": {},
   "source": [
    "The coefficient of 'superhost' in the regression results is 15.5403. This indicates that being a superhost is associated with an increase in the price of the property by approximately 15.5403 units, holding all other variables constant.\n",
    "\n",
    "Since the coefficient of 'superhost' is positive, it suggests that being a superhost has a positive impact on the price of the property. In other words, properties hosted by superhosts tend to have higher prices compared to properties not hosted by superhosts, according to the model."
   ]
  }
 ],
 "metadata": {
  "kernelspec": {
   "display_name": "Python 3 (ipykernel)",
   "language": "python",
   "name": "python3"
  },
  "language_info": {
   "codemirror_mode": {
    "name": "ipython",
    "version": 3
   },
   "file_extension": ".py",
   "mimetype": "text/x-python",
   "name": "python",
   "nbconvert_exporter": "python",
   "pygments_lexer": "ipython3",
   "version": "3.11.5"
  }
 },
 "nbformat": 4,
 "nbformat_minor": 5
}
